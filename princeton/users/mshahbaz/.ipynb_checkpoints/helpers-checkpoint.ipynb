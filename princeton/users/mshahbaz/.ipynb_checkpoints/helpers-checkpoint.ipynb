{
 "cells": [
  {
   "cell_type": "code",
   "execution_count": 29,
   "metadata": {
    "collapsed": true
   },
   "outputs": [],
   "source": [
    "run_name = \"comparative_analysis_cpu_0\""
   ]
  },
  {
   "cell_type": "code",
   "execution_count": 30,
   "metadata": {
    "collapsed": false
   },
   "outputs": [],
   "source": [
    "import os\n",
    "import glob\n",
    "from functools import reduce"
   ]
  },
  {
   "cell_type": "code",
   "execution_count": 31,
   "metadata": {
    "collapsed": false
   },
   "outputs": [],
   "source": [
    "import pandas as pd\n",
    "import matplotlib.pyplot as plt\n",
    "plt.style.use('ggplot')\n",
    "import seaborn as sns\n",
    "\n",
    "# display plots in the notebook\n",
    "%matplotlib inline\n",
    "\n",
    "# increase default figure and font sizes for easier viewing\n",
    "plt.rcParams['figure.figsize'] = (8, 6)\n",
    "plt.rcParams['font.size'] = 14"
   ]
  },
  {
   "cell_type": "markdown",
   "metadata": {},
   "source": [
    "### Generate timeout CSV for calculating errors"
   ]
  },
  {
   "cell_type": "code",
   "execution_count": 32,
   "metadata": {
    "collapsed": false
   },
   "outputs": [],
   "source": [
    "# read in the data\n",
    "import csv, re\n",
    "for d in glob.glob(\"./results/\" + run_name + \"/httperf_*_cpu_0\"):\n",
    "    for i in glob.glob(d + \"/httperf_client_*.log\"):\n",
    "        with open(i,'r') as logfile:\n",
    "            log = logfile.read()\n",
    "            with open(i.replace('.log', '.csv'), 'r') as csvinput:\n",
    "                reader = csv.reader(csvinput)\n",
    "\n",
    "                all = []\n",
    "                row = next(reader)\n",
    "                row.append('Error')\n",
    "                all.append(row)\n",
    "\n",
    "                for row in reader:\n",
    "                    row.append(int(re.findall(r'(Errors: total )(\\d+)', log)[0][1]))\n",
    "                    all.append(row)\n",
    "                    \n",
    "            with open(i.replace('.log', '.csv'), 'w') as csvoutput:\n",
    "                writer = csv.writer(csvoutput)\n",
    "                writer.writerows(all)"
   ]
  },
  {
   "cell_type": "code",
   "execution_count": null,
   "metadata": {
    "collapsed": true
   },
   "outputs": [],
   "source": []
  }
 ],
 "metadata": {
  "kernelspec": {
   "display_name": "Python 3",
   "language": "python",
   "name": "python3"
  },
  "language_info": {
   "codemirror_mode": {
    "name": "ipython",
    "version": 3
   },
   "file_extension": ".py",
   "mimetype": "text/x-python",
   "name": "python",
   "nbconvert_exporter": "python",
   "pygments_lexer": "ipython3",
   "version": "3.5.2"
  }
 },
 "nbformat": 4,
 "nbformat_minor": 0
}
