{
 "cells": [
  {
   "cell_type": "code",
   "execution_count": 1,
   "metadata": {
    "collapsed": false
   },
   "outputs": [],
   "source": [
    "import os\n",
    "import glob \n",
    "from functools import reduce"
   ]
  },
  {
   "cell_type": "code",
   "execution_count": 2,
   "metadata": {
    "collapsed": false
   },
   "outputs": [
    {
     "name": "stderr",
     "output_type": "stream",
     "text": [
      "/opt/conda/lib/python3.5/site-packages/IPython/html.py:14: ShimWarning: The `IPython.html` package has been deprecated. You should import from `notebook` instead. `IPython.html.widgets` has moved to `ipywidgets`.\n",
      "  \"`IPython.html.widgets` has moved to `ipywidgets`.\", ShimWarning)\n"
     ]
    }
   ],
   "source": [
    "import pandas as pd\n",
    "import matplotlib.pyplot as plt\n",
    "plt.style.use('ggplot')\n",
    "import seaborn as sns\n",
    "\n",
    "# display plots in the notebook\n",
    "%matplotlib inline\n",
    "\n",
    "# increase default figure and font sizes for easier viewing\n",
    "plt.rcParams['figure.figsize'] = (8, 6) \n",
    "plt.rcParams['font.size'] = 14"
   ]
  },
  {
   "cell_type": "code",
   "execution_count": 3,
   "metadata": {
    "collapsed": false
   },
   "outputs": [],
   "source": [
    "results_dir = \"../../../../../../results/\"\n",
    "run_name = \"timeseries/time-varying/1_X_max/oracle-single-backend/500ms-fluctuation/5mins-run/wlc/run\""
   ]
  },
  {
   "cell_type": "markdown",
   "metadata": {},
   "source": [
    "## Client side stats"
   ]
  },
  {
   "cell_type": "code",
   "execution_count": 4,
   "metadata": {
    "collapsed": false
   },
   "outputs": [],
   "source": [
    "# read in the data\n",
    "plot_data_list = []\n",
    "\n",
    "for i in glob.glob(results_dir + run_name + \"/httperf_client_*.csv\"):\n",
    "    plot_data_list.append(pd.read_csv(i, header=0, na_filter=False))"
   ]
  },
  {
   "cell_type": "code",
   "execution_count": 5,
   "metadata": {
    "collapsed": false
   },
   "outputs": [
    {
     "data": {
      "text/html": [
       "<div>\n",
       "<table border=\"1\" class=\"dataframe\">\n",
       "  <thead>\n",
       "    <tr style=\"text-align: right;\">\n",
       "      <th></th>\n",
       "      <th>Response time 66%</th>\n",
       "      <th>Response status 4xx</th>\n",
       "      <th>Response rate 99%</th>\n",
       "      <th>Response time 50%</th>\n",
       "      <th>Response time 99%</th>\n",
       "      <th>Response rate 66%</th>\n",
       "      <th>Response rate 75%</th>\n",
       "      <th>Response time</th>\n",
       "      <th>Number of requests</th>\n",
       "      <th>Response rate 90%</th>\n",
       "      <th>...</th>\n",
       "      <th>Response rate 98%</th>\n",
       "      <th>Response time 98%</th>\n",
       "      <th>Request rate</th>\n",
       "      <th>Response time 90%</th>\n",
       "      <th>Response status 5xx</th>\n",
       "      <th>Response status 2xx</th>\n",
       "      <th>Response time 80%</th>\n",
       "      <th>Response rate 50%</th>\n",
       "      <th>Rate</th>\n",
       "      <th>Response rate 95%</th>\n",
       "    </tr>\n",
       "  </thead>\n",
       "  <tbody>\n",
       "    <tr>\n",
       "      <th>0</th>\n",
       "      <td>17.25</td>\n",
       "      <td>0</td>\n",
       "      <td>57.0</td>\n",
       "      <td>14.75</td>\n",
       "      <td>29.0</td>\n",
       "      <td>56.0</td>\n",
       "      <td>56.0</td>\n",
       "      <td>16.4375</td>\n",
       "      <td>19200</td>\n",
       "      <td>56.0</td>\n",
       "      <td>...</td>\n",
       "      <td>57.0</td>\n",
       "      <td>27.5</td>\n",
       "      <td>64.0</td>\n",
       "      <td>22.75</td>\n",
       "      <td>0</td>\n",
       "      <td>19200</td>\n",
       "      <td>19.875</td>\n",
       "      <td>56.0</td>\n",
       "      <td>64</td>\n",
       "      <td>57.0</td>\n",
       "    </tr>\n",
       "  </tbody>\n",
       "</table>\n",
       "<p>1 rows × 27 columns</p>\n",
       "</div>"
      ],
      "text/plain": [
       "   Response time 66%  Response status 4xx  Response rate 99%  \\\n",
       "0              17.25                    0               57.0   \n",
       "\n",
       "   Response time 50%  Response time 99%  Response rate 66%  Response rate 75%  \\\n",
       "0              14.75               29.0               56.0               56.0   \n",
       "\n",
       "   Response time  Number of requests  Response rate 90%        ...          \\\n",
       "0        16.4375               19200               56.0        ...           \n",
       "\n",
       "   Response rate 98%  Response time 98%  Request rate  Response time 90%  \\\n",
       "0               57.0               27.5          64.0              22.75   \n",
       "\n",
       "   Response status 5xx  Response status 2xx  Response time 80%  \\\n",
       "0                    0                19200             19.875   \n",
       "\n",
       "   Response rate 50%  Rate  Response rate 95%  \n",
       "0               56.0    64               57.0  \n",
       "\n",
       "[1 rows x 27 columns]"
      ]
     },
     "execution_count": 5,
     "metadata": {},
     "output_type": "execute_result"
    }
   ],
   "source": [
    "plot_data = pd.DataFrame()\n",
    "\n",
    "if len(plot_data_list) > 0:\n",
    "    for i in list(plot_data_list[0]):\n",
    "        if not i.startswith('Response time'):\n",
    "            plot_data[i] = reduce(lambda x, y: x + y, [plot_data_list[j][i] for j in range(len(plot_data_list))])\n",
    "        else:\n",
    "            plot_data[i] = reduce(lambda x, y: x + y, [plot_data_list[j][i] \n",
    "                                                       for j in range(len(plot_data_list))]) / len(plot_data_list)\n",
    "\n",
    "plot_data.head()"
   ]
  },
  {
   "cell_type": "markdown",
   "metadata": {},
   "source": [
    "### 1. Request rate"
   ]
  },
  {
   "cell_type": "code",
   "execution_count": 6,
   "metadata": {
    "collapsed": false
   },
   "outputs": [
    {
     "data": {
      "text/html": [
       "<div>\n",
       "<table border=\"1\" class=\"dataframe\">\n",
       "  <thead>\n",
       "    <tr style=\"text-align: right;\">\n",
       "      <th></th>\n",
       "      <th>Request rate</th>\n",
       "      <th>Response rate 50%</th>\n",
       "      <th>Response rate 66%</th>\n",
       "      <th>Response rate 75%</th>\n",
       "      <th>Response rate 80%</th>\n",
       "      <th>Response rate 90%</th>\n",
       "      <th>Response rate 95%</th>\n",
       "      <th>Response rate 98%</th>\n",
       "      <th>Response rate 99%</th>\n",
       "      <th>Response rate 100%</th>\n",
       "    </tr>\n",
       "  </thead>\n",
       "  <tbody>\n",
       "    <tr>\n",
       "      <th>0</th>\n",
       "      <td>64.0</td>\n",
       "      <td>56.0</td>\n",
       "      <td>56.0</td>\n",
       "      <td>56.0</td>\n",
       "      <td>56.0</td>\n",
       "      <td>56.0</td>\n",
       "      <td>57.0</td>\n",
       "      <td>57.0</td>\n",
       "      <td>57.0</td>\n",
       "      <td>65.0</td>\n",
       "    </tr>\n",
       "  </tbody>\n",
       "</table>\n",
       "</div>"
      ],
      "text/plain": [
       "   Request rate  Response rate 50%  Response rate 66%  Response rate 75%  \\\n",
       "0          64.0               56.0               56.0               56.0   \n",
       "\n",
       "   Response rate 80%  Response rate 90%  Response rate 95%  Response rate 98%  \\\n",
       "0               56.0               56.0               57.0               57.0   \n",
       "\n",
       "   Response rate 99%  Response rate 100%  \n",
       "0               57.0                65.0  "
      ]
     },
     "execution_count": 6,
     "metadata": {},
     "output_type": "execute_result"
    }
   ],
   "source": [
    "rr_plot_data = plot_data[['Request rate', 'Response rate 50%', 'Response rate 66%', 'Response rate 75%',\n",
    "                          'Response rate 80%', 'Response rate 90%', 'Response rate 95%', 'Response rate 98%',\n",
    "                          'Response rate 99%', 'Response rate 100%']]\n",
    "rr_plot_data"
   ]
  },
  {
   "cell_type": "code",
   "execution_count": 7,
   "metadata": {
    "collapsed": false
   },
   "outputs": [
    {
     "data": {
      "text/plain": [
       "<matplotlib.text.Text at 0x7f1ba57daf98>"
      ]
     },
     "execution_count": 7,
     "metadata": {},
     "output_type": "execute_result"
    },
    {
     "data": {
      "image/png": "[encoded data removed]",
      "text/plain": [
       "<matplotlib.figure.Figure at 0x7f1ba5d15d68>"
      ]
     },
     "metadata": {},
     "output_type": "display_data"
    }
   ],
   "source": [
    "rr_plot_data.plot(ylim=(0, None), kind='bar').set_ylabel(\"Response Rate (req/sec)\")"
   ]
  },
  {
   "cell_type": "code",
   "execution_count": 8,
   "metadata": {
    "collapsed": false
   },
   "outputs": [],
   "source": [
    "rr_plot_data.to_csv(results_dir + run_name + \"/response_rate.csv\")"
   ]
  },
  {
   "cell_type": "markdown",
   "metadata": {},
   "source": [
    "### 1. Request time"
   ]
  },
  {
   "cell_type": "code",
   "execution_count": 9,
   "metadata": {
    "collapsed": false
   },
   "outputs": [
    {
     "data": {
      "text/html": [
       "<div>\n",
       "<table border=\"1\" class=\"dataframe\">\n",
       "  <thead>\n",
       "    <tr style=\"text-align: right;\">\n",
       "      <th></th>\n",
       "      <th>Response time</th>\n",
       "      <th>Response time 50%</th>\n",
       "      <th>Response time 66%</th>\n",
       "      <th>Response time 75%</th>\n",
       "      <th>Response time 80%</th>\n",
       "      <th>Response time 90%</th>\n",
       "      <th>Response time 95%</th>\n",
       "      <th>Response time 98%</th>\n",
       "      <th>Response time 99%</th>\n",
       "      <th>Response time 100%</th>\n",
       "    </tr>\n",
       "  </thead>\n",
       "  <tbody>\n",
       "    <tr>\n",
       "      <th>0</th>\n",
       "      <td>16.4375</td>\n",
       "      <td>14.75</td>\n",
       "      <td>17.25</td>\n",
       "      <td>18.75</td>\n",
       "      <td>19.875</td>\n",
       "      <td>22.75</td>\n",
       "      <td>25.0</td>\n",
       "      <td>27.5</td>\n",
       "      <td>29.0</td>\n",
       "      <td>50.375</td>\n",
       "    </tr>\n",
       "  </tbody>\n",
       "</table>\n",
       "</div>"
      ],
      "text/plain": [
       "   Response time  Response time 50%  Response time 66%  Response time 75%  \\\n",
       "0        16.4375              14.75              17.25              18.75   \n",
       "\n",
       "   Response time 80%  Response time 90%  Response time 95%  Response time 98%  \\\n",
       "0             19.875              22.75               25.0               27.5   \n",
       "\n",
       "   Response time 99%  Response time 100%  \n",
       "0               29.0              50.375  "
      ]
     },
     "execution_count": 9,
     "metadata": {},
     "output_type": "execute_result"
    }
   ],
   "source": [
    "rt_plot_data = plot_data[['Response time', 'Response time 50%', 'Response time 66%', 'Response time 75%',\n",
    "                          'Response time 80%', 'Response time 90%', 'Response time 95%', 'Response time 98%',\n",
    "                          'Response time 99%', 'Response time 100%']]\n",
    "rt_plot_data"
   ]
  },
  {
   "cell_type": "code",
   "execution_count": 10,
   "metadata": {
    "collapsed": false
   },
   "outputs": [
    {
     "data": {
      "text/plain": [
       "<matplotlib.text.Text at 0x7f1ba3503588>"
      ]
     },
     "execution_count": 10,
     "metadata": {},
     "output_type": "execute_result"
    },
    {
     "data": {
      "image/png": "[encoded data removed]",
      "text/plain": [
       "<matplotlib.figure.Figure at 0x7f1ba37a5ef0>"
      ]
     },
     "metadata": {},
     "output_type": "display_data"
    }
   ],
   "source": [
    "rt_plot_data.plot(ylim=(0, None), kind='bar').set_ylabel(\"Response time (ms)\")"
   ]
  },
  {
   "cell_type": "code",
   "execution_count": 11,
   "metadata": {
    "collapsed": false
   },
   "outputs": [],
   "source": [
    "rt_plot_data.to_csv(results_dir + run_name + \"/response_time.csv\")"
   ]
  },
  {
   "cell_type": "markdown",
   "metadata": {},
   "source": [
    "### 3. Success rate"
   ]
  },
  {
   "cell_type": "code",
   "execution_count": 12,
   "metadata": {
    "collapsed": false
   },
   "outputs": [
    {
     "data": {
      "text/plain": [
       "0    100.0\n",
       "dtype: float64"
      ]
     },
     "execution_count": 12,
     "metadata": {},
     "output_type": "execute_result"
    }
   ],
   "source": [
    "sr_plot_data = (plot_data['Response status 2xx'] + plot_data['Response status 3xx']) / plot_data['Number of requests'] * 100.0\n",
    "sr_plot_data"
   ]
  },
  {
   "cell_type": "markdown",
   "metadata": {},
   "source": [
    "## Timeseries analysis"
   ]
  },
  {
   "cell_type": "code",
   "execution_count": 13,
   "metadata": {
    "collapsed": false
   },
   "outputs": [
    {
     "data": {
      "text/plain": [
       "dict_keys(['lb_server_116.csv', 'lb_server_stats_116.csv'])"
      ]
     },
     "execution_count": 13,
     "metadata": {},
     "output_type": "execute_result"
    }
   ],
   "source": [
    "ts_data_dict = {}\n",
    "\n",
    "for i in glob.glob(results_dir + run_name + \"/lb_server_*.csv\"):\n",
    "    ts_data_dict[os.path.basename(i)] = pd.read_csv(i, header=0, na_filter=False)\n",
    "    \n",
    "ts_data_dict.keys()"
   ]
  },
  {
   "cell_type": "markdown",
   "metadata": {},
   "source": [
    "### 1st stats"
   ]
  },
  {
   "cell_type": "code",
   "execution_count": 14,
   "metadata": {
    "collapsed": false
   },
   "outputs": [
    {
     "data": {
      "text/html": [
       "<div>\n",
       "<table border=\"1\" class=\"dataframe\">\n",
       "  <thead>\n",
       "    <tr style=\"text-align: right;\">\n",
       "      <th></th>\n",
       "      <th>11.11.11.112:ActiveConn</th>\n",
       "      <th>11.11.11.112:Weight</th>\n",
       "      <th>11.11.11.112:InActConn</th>\n",
       "    </tr>\n",
       "  </thead>\n",
       "  <tbody>\n",
       "    <tr>\n",
       "      <th>0</th>\n",
       "      <td>0</td>\n",
       "      <td>1</td>\n",
       "      <td>0</td>\n",
       "    </tr>\n",
       "    <tr>\n",
       "      <th>1</th>\n",
       "      <td>0</td>\n",
       "      <td>1</td>\n",
       "      <td>0</td>\n",
       "    </tr>\n",
       "    <tr>\n",
       "      <th>2</th>\n",
       "      <td>0</td>\n",
       "      <td>1</td>\n",
       "      <td>0</td>\n",
       "    </tr>\n",
       "    <tr>\n",
       "      <th>3</th>\n",
       "      <td>0</td>\n",
       "      <td>1</td>\n",
       "      <td>0</td>\n",
       "    </tr>\n",
       "    <tr>\n",
       "      <th>4</th>\n",
       "      <td>0</td>\n",
       "      <td>1</td>\n",
       "      <td>0</td>\n",
       "    </tr>\n",
       "  </tbody>\n",
       "</table>\n",
       "</div>"
      ],
      "text/plain": [
       "   11.11.11.112:ActiveConn  11.11.11.112:Weight  11.11.11.112:InActConn\n",
       "0                        0                    1                       0\n",
       "1                        0                    1                       0\n",
       "2                        0                    1                       0\n",
       "3                        0                    1                       0\n",
       "4                        0                    1                       0"
      ]
     },
     "execution_count": 14,
     "metadata": {},
     "output_type": "execute_result"
    }
   ],
   "source": [
    "ts_data_dict['lb_server_116.csv'].head()"
   ]
  },
  {
   "cell_type": "code",
   "execution_count": 19,
   "metadata": {
    "collapsed": false
   },
   "outputs": [
    {
     "data": {
      "text/plain": [
       "<matplotlib.text.Text at 0x7f1c0518b630>"
      ]
     },
     "execution_count": 19,
     "metadata": {},
     "output_type": "execute_result"
    },
    {
     "data": {
      "image/png": "[encoded data removed]",
      "text/plain": [
       "<matplotlib.figure.Figure at 0x7f1c051f3eb8>"
      ]
     },
     "metadata": {},
     "output_type": "display_data"
    }
   ],
   "source": [
    "wt_data = pd.DataFrame()\n",
    "\n",
    "wt_data = ts_data_dict['lb_server_116.csv'][['11.11.11.112:Weight']]\n",
    "\n",
    "wt_data.plot(ylim=(0, None)).set_ylabel(\"Weight\")"
   ]
  },
  {
   "cell_type": "code",
   "execution_count": 20,
   "metadata": {
    "collapsed": false
   },
   "outputs": [
    {
     "data": {
      "text/plain": [
       "11.11.11.112:Weight    1.0\n",
       "dtype: float64"
      ]
     },
     "execution_count": 20,
     "metadata": {},
     "output_type": "execute_result"
    }
   ],
   "source": [
    "wt_data.mean()"
   ]
  },
  {
   "cell_type": "markdown",
   "metadata": {},
   "source": [
    "#### Active Conns"
   ]
  },
  {
   "cell_type": "code",
   "execution_count": 21,
   "metadata": {
    "collapsed": false
   },
   "outputs": [
    {
     "data": {
      "text/plain": [
       "<matplotlib.text.Text at 0x7f1ba35149b0>"
      ]
     },
     "execution_count": 21,
     "metadata": {},
     "output_type": "execute_result"
    },
    {
     "data": {
      "image/png": "[encoded data removed]",
      "text/plain": [
       "<matplotlib.figure.Figure at 0x7f1c051a97f0>"
      ]
     },
     "metadata": {},
     "output_type": "display_data"
    }
   ],
   "source": [
    "ac_data = pd.DataFrame()\n",
    "\n",
    "ac_data = ts_data_dict['lb_server_116.csv'][['11.11.11.112:ActiveConn']]\n",
    "\n",
    "ac_data.plot(ylim=(0, None)).set_ylabel(\"Active Conns\")"
   ]
  },
  {
   "cell_type": "code",
   "execution_count": 22,
   "metadata": {
    "collapsed": false
   },
   "outputs": [
    {
     "data": {
      "text/plain": [
       "<matplotlib.text.Text at 0x7f1c04a14198>"
      ]
     },
     "execution_count": 22,
     "metadata": {},
     "output_type": "execute_result"
    },
    {
     "data": {
      "image/png": "[encoded data removed]",
      "text/plain": [
       "<matplotlib.figure.Figure at 0x7f1c04839fd0>"
      ]
     },
     "metadata": {},
     "output_type": "display_data"
    }
   ],
   "source": [
    "iac_data = pd.DataFrame()\n",
    "\n",
    "iac_data = ts_data_dict['lb_server_116.csv'][['11.11.11.112:InActConn']]\n",
    "\n",
    "iac_data.plot(ylim=(0, None)).set_ylabel(\"In Active Conns\")"
   ]
  },
  {
   "cell_type": "markdown",
   "metadata": {},
   "source": [
    "### 2nd Stats"
   ]
  },
  {
   "cell_type": "code",
   "execution_count": 23,
   "metadata": {
    "collapsed": false
   },
   "outputs": [
    {
     "data": {
      "text/html": [
       "<div>\n",
       "<table border=\"1\" class=\"dataframe\">\n",
       "  <thead>\n",
       "    <tr style=\"text-align: right;\">\n",
       "      <th></th>\n",
       "      <th>11.11.11.112:OutBytes</th>\n",
       "      <th>172.16.116.116:Conns</th>\n",
       "      <th>11.11.11.112:InPkts</th>\n",
       "      <th>11.11.11.112:Conns</th>\n",
       "      <th>172.16.116.116:InPkts</th>\n",
       "      <th>11.11.11.112:InBytes</th>\n",
       "      <th>11.11.11.112:OutPkts</th>\n",
       "      <th>172.16.116.116:InBytes</th>\n",
       "      <th>172.16.116.116:OutBytes</th>\n",
       "      <th>172.16.116.116:OutPkts</th>\n",
       "    </tr>\n",
       "  </thead>\n",
       "  <tbody>\n",
       "    <tr>\n",
       "      <th>0</th>\n",
       "      <td>0</td>\n",
       "      <td>0</td>\n",
       "      <td>0</td>\n",
       "      <td>0</td>\n",
       "      <td>0</td>\n",
       "      <td>0</td>\n",
       "      <td>0</td>\n",
       "      <td>0</td>\n",
       "      <td>0</td>\n",
       "      <td>0</td>\n",
       "    </tr>\n",
       "    <tr>\n",
       "      <th>1</th>\n",
       "      <td>0</td>\n",
       "      <td>0</td>\n",
       "      <td>0</td>\n",
       "      <td>0</td>\n",
       "      <td>0</td>\n",
       "      <td>0</td>\n",
       "      <td>0</td>\n",
       "      <td>0</td>\n",
       "      <td>0</td>\n",
       "      <td>0</td>\n",
       "    </tr>\n",
       "    <tr>\n",
       "      <th>2</th>\n",
       "      <td>0</td>\n",
       "      <td>0</td>\n",
       "      <td>0</td>\n",
       "      <td>0</td>\n",
       "      <td>0</td>\n",
       "      <td>0</td>\n",
       "      <td>0</td>\n",
       "      <td>0</td>\n",
       "      <td>0</td>\n",
       "      <td>0</td>\n",
       "    </tr>\n",
       "    <tr>\n",
       "      <th>3</th>\n",
       "      <td>0</td>\n",
       "      <td>0</td>\n",
       "      <td>0</td>\n",
       "      <td>0</td>\n",
       "      <td>0</td>\n",
       "      <td>0</td>\n",
       "      <td>0</td>\n",
       "      <td>0</td>\n",
       "      <td>0</td>\n",
       "      <td>0</td>\n",
       "    </tr>\n",
       "    <tr>\n",
       "      <th>4</th>\n",
       "      <td>0</td>\n",
       "      <td>0</td>\n",
       "      <td>0</td>\n",
       "      <td>0</td>\n",
       "      <td>0</td>\n",
       "      <td>0</td>\n",
       "      <td>0</td>\n",
       "      <td>0</td>\n",
       "      <td>0</td>\n",
       "      <td>0</td>\n",
       "    </tr>\n",
       "  </tbody>\n",
       "</table>\n",
       "</div>"
      ],
      "text/plain": [
       "   11.11.11.112:OutBytes  172.16.116.116:Conns  11.11.11.112:InPkts  \\\n",
       "0                      0                     0                    0   \n",
       "1                      0                     0                    0   \n",
       "2                      0                     0                    0   \n",
       "3                      0                     0                    0   \n",
       "4                      0                     0                    0   \n",
       "\n",
       "   11.11.11.112:Conns  172.16.116.116:InPkts  11.11.11.112:InBytes  \\\n",
       "0                   0                      0                     0   \n",
       "1                   0                      0                     0   \n",
       "2                   0                      0                     0   \n",
       "3                   0                      0                     0   \n",
       "4                   0                      0                     0   \n",
       "\n",
       "   11.11.11.112:OutPkts  172.16.116.116:InBytes  172.16.116.116:OutBytes  \\\n",
       "0                     0                       0                        0   \n",
       "1                     0                       0                        0   \n",
       "2                     0                       0                        0   \n",
       "3                     0                       0                        0   \n",
       "4                     0                       0                        0   \n",
       "\n",
       "   172.16.116.116:OutPkts  \n",
       "0                       0  \n",
       "1                       0  \n",
       "2                       0  \n",
       "3                       0  \n",
       "4                       0  "
      ]
     },
     "execution_count": 23,
     "metadata": {},
     "output_type": "execute_result"
    }
   ],
   "source": [
    "ts_data_dict['lb_server_stats_116.csv'].head()"
   ]
  },
  {
   "cell_type": "code",
   "execution_count": 24,
   "metadata": {
    "collapsed": false
   },
   "outputs": [
    {
     "data": {
      "text/plain": [
       "<matplotlib.text.Text at 0x7f1c04831668>"
      ]
     },
     "execution_count": 24,
     "metadata": {},
     "output_type": "execute_result"
    },
    {
     "data": {
      "image/png": "[encoded data removed]",
      "text/plain": [
       "<matplotlib.figure.Figure at 0x7f1c048430b8>"
      ]
     },
     "metadata": {},
     "output_type": "display_data"
    }
   ],
   "source": [
    "cn_data = pd.DataFrame()\n",
    "\n",
    "cn_data = ts_data_dict['lb_server_stats_116.csv'][['11.11.11.112:Conns']]\n",
    "\n",
    "cn_data.plot(ylim=(0, None)).set_ylabel(\"Conns\")"
   ]
  },
  {
   "cell_type": "code",
   "execution_count": 25,
   "metadata": {
    "collapsed": false
   },
   "outputs": [
    {
     "data": {
      "text/html": [
       "<div>\n",
       "<table border=\"1\" class=\"dataframe\">\n",
       "  <thead>\n",
       "    <tr style=\"text-align: right;\">\n",
       "      <th></th>\n",
       "      <th>11.11.11.112:Conns</th>\n",
       "    </tr>\n",
       "  </thead>\n",
       "  <tbody>\n",
       "    <tr>\n",
       "      <th>57103</th>\n",
       "      <td>19200</td>\n",
       "    </tr>\n",
       "  </tbody>\n",
       "</table>\n",
       "</div>"
      ],
      "text/plain": [
       "       11.11.11.112:Conns\n",
       "57103               19200"
      ]
     },
     "execution_count": 25,
     "metadata": {},
     "output_type": "execute_result"
    }
   ],
   "source": [
    "cn_data[['11.11.11.112:Conns']].tail(1)"
   ]
  },
  {
   "cell_type": "markdown",
   "metadata": {},
   "source": [
    "## Configurations\n",
    "\n",
    "X_max rate: 64 req/sec. For this run we used: 1 * X_max.\n",
    "\n",
    "```json\n",
    "{\n",
    "  \"env\": {\n",
    "    \"warn_only\": true,\n",
    "    \"hosts\": [\n",
    "      \"root@128.112.168.27\",\n",
    "      \"root@128.112.168.28\"\n",
    "    ],\n",
    "    \"roledefs\": {\n",
    "      \"server\": [\n",
    "        \"root@128.112.168.27\"\n",
    "      ],\n",
    "      \"analyst\": [\n",
    "        \"root@128.112.168.28\"\n",
    "      ]\n",
    "    },\n",
    "    \"user\": \"root\",\n",
    "    \"password\": \"PrincetonP4OVS\",\n",
    "    \"vm\": {\n",
    "      \"prefix\": \"10.10.10.\",\n",
    "      \"user\": \"mshahbaz\",\n",
    "      \"password\": \"nopass\"\n",
    "    },\n",
    "    \"analyst\": {\n",
    "      \"path\": \"/root/mshahbaz/notebooks/baseerat/runs\"\n",
    "    }\n",
    "  },\n",
    "  \"httperf_ipvs_lb\": {\n",
    "    \"vm\": {\n",
    "      \"base_id\": 103,\n",
    "      \"prefix_1\": \"11.11.11.\",\n",
    "      \"@Shahbaz\": \"prefix_1 requires that a second bridge 'vmbr1' is setup on the proxmox host.\"\n",
    "    },\n",
    "    \"vip\": {\n",
    "      \"prefix\": \"172.16.\"\n",
    "    },\n",
    "    \"feedback\": {\n",
    "      \"enable\": true,\n",
    "      \"is_dummy\": true,\n",
    "      \"@Shahbaz\": \"is_dummy is to generate equal load on the backends when running WLC\"\n",
    "    },\n",
    "    \"stats\":{\n",
    "      \"enable\": true\n",
    "    },\n",
    "    \"servers\": {\n",
    "      \"web_server\": {\n",
    "        \"options\": {\n",
    "          \"sockets\": 1,\n",
    "          \"cores\": 2,\n",
    "          \"memory\": 4096\n",
    "        },\n",
    "        \"vms\": [\n",
    "          {\n",
    "            \"vm_id\": 112,\n",
    "            \"lb_server\": 0,\n",
    "            \"webpage\": {\n",
    "              \"cgi\": {\n",
    "                \"enable\": true,\n",
    "                \"loop_count\": 1\n",
    "              }\n",
    "            },\n",
    "            \"load\": {\n",
    "              \"enable\": false,\n",
    "              \"type\": \"cpulimit\",\n",
    "              \"#type\": \"nice\",\n",
    "              \"types\": {\n",
    "                \"cpulimit\": {\n",
    "                  \"percentage\": 4\n",
    "                },\n",
    "                \"nice\": {\n",
    "                  \"value\": 20\n",
    "                }\n",
    "              },\n",
    "              \"process_count\": 38,\n",
    "              \"seed_value\": 2,\n",
    "              \"time_variance\": 0.5\n",
    "            },\n",
    "            \"state_server\": {\n",
    "              \"id\": 0,\n",
    "              \"timeout\": 0.001,\n",
    "              \"metric\": \"cpu\",\n",
    "              \"#metric\": \"loadavg\",\n",
    "              \"metrics\": {\n",
    "                \"cpu\": {\n",
    "                  \"alpha_value\": 0.5\n",
    "                },\n",
    "                \"loadavg\": {\n",
    "                  \"max_load\": 5\n",
    "                }\n",
    "              }\n",
    "            }\n",
    "          },\n",
    "          {\n",
    "            \"vm_id\": 113,\n",
    "            \"lb_server\": 0,\n",
    "            \"webpage\": {\n",
    "              \"cgi\": {\n",
    "                \"enable\": true,\n",
    "                \"loop_count\": 1\n",
    "              }\n",
    "            },\n",
    "            \"load\": {\n",
    "              \"enable\": false,\n",
    "              \"type\": \"cpulimit\",\n",
    "              \"#type\": \"nice\",\n",
    "              \"types\": {\n",
    "                \"cpulimit\": {\n",
    "                  \"percentage\": 4\n",
    "                },\n",
    "                \"nice\": {\n",
    "                  \"value\": 20\n",
    "                }\n",
    "              },\n",
    "              \"process_count\": 38,\n",
    "              \"seed_value\": 22,\n",
    "              \"time_variance\": 0.5\n",
    "            },\n",
    "            \"state_server\": {\n",
    "              \"id\": 0,\n",
    "              \"timeout\": 0.001,\n",
    "              \"metric\": \"cpu\",\n",
    "              \"#metric\": \"loadavg\",\n",
    "              \"metrics\": {\n",
    "                \"cpu\": {\n",
    "                  \"alpha_value\": 0.5\n",
    "                },\n",
    "                \"loadavg\": {\n",
    "                  \"max_load\": 5\n",
    "                }\n",
    "              }\n",
    "            }\n",
    "          },\n",
    "          {\n",
    "            \"vm_id\": 114,\n",
    "            \"lb_server\": 0,\n",
    "            \"webpage\": {\n",
    "              \"cgi\": {\n",
    "                \"enable\": true,\n",
    "                \"loop_count\": 1\n",
    "              }\n",
    "            },\n",
    "            \"load\": {\n",
    "              \"enable\": false,\n",
    "              \"type\": \"cpulimit\",\n",
    "              \"#type\": \"nice\",\n",
    "              \"types\": {\n",
    "                \"cpulimit\": {\n",
    "                  \"percentage\": 4\n",
    "                },\n",
    "                \"nice\": {\n",
    "                  \"value\": 20\n",
    "                }\n",
    "              },\n",
    "              \"process_count\": 38,\n",
    "              \"seed_value\": 222,\n",
    "              \"time_variance\": 0.5\n",
    "            },\n",
    "            \"state_server\": {\n",
    "              \"id\": 0,\n",
    "              \"timeout\": 0.001,\n",
    "              \"metric\": \"cpu\",\n",
    "              \"#metric\": \"loadavg\",\n",
    "              \"metrics\": {\n",
    "                \"cpu\": {\n",
    "                  \"alpha_value\": 0.5\n",
    "                },\n",
    "                \"loadavg\": {\n",
    "                  \"max_load\": 5\n",
    "                }\n",
    "              }\n",
    "            }\n",
    "          },\n",
    "          {\n",
    "            \"vm_id\": 115,\n",
    "            \"lb_server\": 0,\n",
    "            \"webpage\": {\n",
    "              \"cgi\": {\n",
    "                \"enable\": true,\n",
    "                \"loop_count\": 1\n",
    "              }\n",
    "            },\n",
    "            \"load\": {\n",
    "              \"enable\": false,\n",
    "              \"type\": \"cpulimit\",\n",
    "              \"#type\": \"nice\",\n",
    "              \"types\": {\n",
    "                \"cpulimit\": {\n",
    "                  \"percentage\": 4\n",
    "                },\n",
    "                \"nice\": {\n",
    "                  \"value\": 20\n",
    "                }\n",
    "              },\n",
    "              \"process_count\": 38,\n",
    "              \"seed_value\": 2222,\n",
    "              \"time_variance\": 0.5\n",
    "            },\n",
    "            \"state_server\": {\n",
    "              \"id\": 0,\n",
    "              \"timeout\": 0.001,\n",
    "              \"metric\": \"cpu\",\n",
    "              \"#metric\": \"loadavg\",\n",
    "              \"metrics\": {\n",
    "                \"cpu\": {\n",
    "                  \"alpha_value\": 0.5\n",
    "                },\n",
    "                \"loadavg\": {\n",
    "                  \"max_load\": 5\n",
    "                }\n",
    "              }\n",
    "            }\n",
    "          }\n",
    "        ]\n",
    "      },\n",
    "      \"state_server\": {\n",
    "        \"options\": {\n",
    "          \"sockets\": 1,\n",
    "          \"cores\": 1,\n",
    "          \"memory\": 1024\n",
    "        },\n",
    "        \"vms\": [\n",
    "          {\n",
    "            \"vm_id\": 116\n",
    "          }\n",
    "        ]\n",
    "      },\n",
    "      \"lb_server\": {\n",
    "        \"options\": {\n",
    "          \"sockets\": 1,\n",
    "          \"cores\": 2,\n",
    "          \"memory\": 4096\n",
    "        },\n",
    "        \"vms\": [\n",
    "          {\n",
    "            \"vm_id\": 116,\n",
    "            \"web_servers\": [\n",
    "              0\n",
    "            ],\n",
    "            \"lb\": {\n",
    "              \"policy\": \"wlc\",\n",
    "              \"fin_timeout\": 1\n",
    "            },\n",
    "            \"state_server\": {\n",
    "              \"id\": 0,\n",
    "              \"timeout\": 0.001\n",
    "            },\n",
    "            \"stats\": {\n",
    "              \"timeout\": 0.001\n",
    "            }\n",
    "          }\n",
    "        ]\n",
    "      },\n",
    "      \"httperf_client\": {\n",
    "        \"options\": {\n",
    "          \"sockets\": 1,\n",
    "          \"cores\": 1,\n",
    "          \"memory\": 2048\n",
    "        },\n",
    "        \"config\": {\n",
    "          \"num_conns\": 2400,\n",
    "          \"num_calls\": 1,\n",
    "          \"rate\": 8,\n",
    "          \"ramp\": 10,\n",
    "          \"iters\": 1,\n",
    "          \"timeout\": 50\n",
    "        },\n",
    "        \"vms\": [\n",
    "          {\n",
    "            \"vm_id\": 120,\n",
    "            \"lb_server\": 0\n",
    "          },\n",
    "          {\n",
    "            \"vm_id\": 121,\n",
    "            \"lb_server\": 0\n",
    "          },\n",
    "          {\n",
    "            \"vm_id\": 122,\n",
    "            \"lb_server\": 0\n",
    "          },\n",
    "          {\n",
    "            \"vm_id\": 123,\n",
    "            \"lb_server\": 0\n",
    "          },\n",
    "          {\n",
    "            \"vm_id\": 124,\n",
    "            \"lb_server\": 0\n",
    "          },\n",
    "          {\n",
    "            \"vm_id\": 125,\n",
    "            \"lb_server\": 0\n",
    "          },\n",
    "          {\n",
    "            \"vm_id\": 126,\n",
    "            \"lb_server\": 0\n",
    "          },\n",
    "          {\n",
    "            \"vm_id\": 127,\n",
    "            \"lb_server\": 0\n",
    "          }\n",
    "        ]\n",
    "      }\n",
    "    }\n",
    "  }\n",
    "}\n",
    "```"
   ]
  },
  {
   "cell_type": "code",
   "execution_count": null,
   "metadata": {
    "collapsed": true
   },
   "outputs": [],
   "source": []
  }
 ],
 "metadata": {
  "kernelspec": {
   "display_name": "Python 3",
   "language": "python",
   "name": "python3"
  },
  "language_info": {
   "codemirror_mode": {
    "name": "ipython",
    "version": 3
   },
   "file_extension": ".py",
   "mimetype": "text/x-python",
   "name": "python",
   "nbconvert_exporter": "python",
   "pygments_lexer": "ipython3",
   "version": "3.5.2"
  }
 },
 "nbformat": 4,
 "nbformat_minor": 0
}
