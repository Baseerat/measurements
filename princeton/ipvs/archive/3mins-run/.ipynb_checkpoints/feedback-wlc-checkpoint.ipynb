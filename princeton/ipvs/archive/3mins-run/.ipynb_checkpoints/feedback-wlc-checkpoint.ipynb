{
 "cells": [
  {
   "cell_type": "code",
   "execution_count": 1,
   "metadata": {
    "collapsed": false
   },
   "outputs": [],
   "source": [
    "import os\n",
    "import glob\n",
    "from functools import reduce"
   ]
  },
  {
   "cell_type": "code",
   "execution_count": 2,
   "metadata": {
    "collapsed": false
   },
   "outputs": [
    {
     "name": "stderr",
     "output_type": "stream",
     "text": [
      "/opt/conda/lib/python3.5/site-packages/IPython/html.py:14: ShimWarning: The `IPython.html` package has been deprecated. You should import from `notebook` instead. `IPython.html.widgets` has moved to `ipywidgets`.\n",
      "  \"`IPython.html.widgets` has moved to `ipywidgets`.\", ShimWarning)\n"
     ]
    }
   ],
   "source": [
    "import pandas as pd\n",
    "import matplotlib.pyplot as plt\n",
    "plt.style.use('ggplot')\n",
    "import seaborn as sns\n",
    "\n",
    "# display plots in the notebook\n",
    "%matplotlib inline\n",
    "\n",
    "# increase default figure and font sizes for easier viewing\n",
    "plt.rcParams['figure.figsize'] = (8, 6)\n",
    "plt.rcParams['font.size'] = 14"
   ]
  },
  {
   "cell_type": "code",
   "execution_count": 3,
   "metadata": {
    "collapsed": false
   },
   "outputs": [],
   "source": [
    "run_name = \"3mins/feedback-wlc\""
   ]
  },
  {
   "cell_type": "markdown",
   "metadata": {},
   "source": [
    "## Client side stats"
   ]
  },
  {
   "cell_type": "code",
   "execution_count": 4,
   "metadata": {
    "collapsed": false
   },
   "outputs": [],
   "source": [
    "# read in the data\n",
    "plot_data_list = []\n",
    "\n",
    "for i in glob.glob(\"../results/\" + run_name + \"/httperf_client_*.csv\"):\n",
    "    plot_data_list.append(pd.read_csv(i, header=0, na_filter=False))"
   ]
  },
  {
   "cell_type": "code",
   "execution_count": 5,
   "metadata": {
    "collapsed": false
   },
   "outputs": [
    {
     "data": {
      "text/html": [
       "<div>\n",
       "<table border=\"1\" class=\"dataframe\">\n",
       "  <thead>\n",
       "    <tr style=\"text-align: right;\">\n",
       "      <th></th>\n",
       "      <th>Response time 66%</th>\n",
       "      <th>Response status 4xx</th>\n",
       "      <th>Response rate 99%</th>\n",
       "      <th>Response time 50%</th>\n",
       "      <th>Response time 99%</th>\n",
       "      <th>Response rate 66%</th>\n",
       "      <th>Response rate 75%</th>\n",
       "      <th>Response time</th>\n",
       "      <th>Number of requests</th>\n",
       "      <th>Response rate 90%</th>\n",
       "      <th>...</th>\n",
       "      <th>Response rate 98%</th>\n",
       "      <th>Response time 98%</th>\n",
       "      <th>Request rate</th>\n",
       "      <th>Response time 90%</th>\n",
       "      <th>Response status 5xx</th>\n",
       "      <th>Response status 2xx</th>\n",
       "      <th>Response time 80%</th>\n",
       "      <th>Response rate 50%</th>\n",
       "      <th>Rate</th>\n",
       "      <th>Response rate 95%</th>\n",
       "    </tr>\n",
       "  </thead>\n",
       "  <tbody>\n",
       "    <tr>\n",
       "      <th>0</th>\n",
       "      <td>17.875</td>\n",
       "      <td>0</td>\n",
       "      <td>196.0</td>\n",
       "      <td>15.0</td>\n",
       "      <td>86.25</td>\n",
       "      <td>184.0</td>\n",
       "      <td>184.0</td>\n",
       "      <td>22.375</td>\n",
       "      <td>34560</td>\n",
       "      <td>191.0</td>\n",
       "      <td>...</td>\n",
       "      <td>194.0</td>\n",
       "      <td>71.375</td>\n",
       "      <td>192.0</td>\n",
       "      <td>36.625</td>\n",
       "      <td>0</td>\n",
       "      <td>34560</td>\n",
       "      <td>23.875</td>\n",
       "      <td>184.0</td>\n",
       "      <td>192</td>\n",
       "      <td>192.0</td>\n",
       "    </tr>\n",
       "  </tbody>\n",
       "</table>\n",
       "<p>1 rows × 27 columns</p>\n",
       "</div>"
      ],
      "text/plain": [
       "   Response time 66%  Response status 4xx  Response rate 99%  \\\n",
       "0             17.875                    0              196.0   \n",
       "\n",
       "   Response time 50%  Response time 99%  Response rate 66%  Response rate 75%  \\\n",
       "0               15.0              86.25              184.0              184.0   \n",
       "\n",
       "   Response time  Number of requests  Response rate 90%        ...          \\\n",
       "0         22.375               34560              191.0        ...           \n",
       "\n",
       "   Response rate 98%  Response time 98%  Request rate  Response time 90%  \\\n",
       "0              194.0             71.375         192.0             36.625   \n",
       "\n",
       "   Response status 5xx  Response status 2xx  Response time 80%  \\\n",
       "0                    0                34560             23.875   \n",
       "\n",
       "   Response rate 50%  Rate  Response rate 95%  \n",
       "0              184.0   192              192.0  \n",
       "\n",
       "[1 rows x 27 columns]"
      ]
     },
     "execution_count": 5,
     "metadata": {},
     "output_type": "execute_result"
    }
   ],
   "source": [
    "plot_data = pd.DataFrame()\n",
    "\n",
    "if len(plot_data_list) > 0:\n",
    "    for i in list(plot_data_list[0]):\n",
    "        if not i.startswith('Response time'):\n",
    "            plot_data[i] = reduce(lambda x, y: x + y, [plot_data_list[j][i] for j in range(len(plot_data_list))])\n",
    "        else:\n",
    "            plot_data[i] = reduce(lambda x, y: x + y, [plot_data_list[j][i] \n",
    "                                                       for j in range(len(plot_data_list))]) / len(plot_data_list)\n",
    "\n",
    "plot_data.head()"
   ]
  },
  {
   "cell_type": "markdown",
   "metadata": {},
   "source": [
    "### 1. Request rate"
   ]
  },
  {
   "cell_type": "code",
   "execution_count": 6,
   "metadata": {
    "collapsed": false
   },
   "outputs": [
    {
     "data": {
      "text/html": [
       "<div>\n",
       "<table border=\"1\" class=\"dataframe\">\n",
       "  <thead>\n",
       "    <tr style=\"text-align: right;\">\n",
       "      <th></th>\n",
       "      <th>Request rate</th>\n",
       "      <th>Response rate 50%</th>\n",
       "      <th>Response rate 66%</th>\n",
       "      <th>Response rate 75%</th>\n",
       "      <th>Response rate 80%</th>\n",
       "      <th>Response rate 90%</th>\n",
       "      <th>Response rate 95%</th>\n",
       "      <th>Response rate 98%</th>\n",
       "      <th>Response rate 99%</th>\n",
       "      <th>Response rate 100%</th>\n",
       "    </tr>\n",
       "  </thead>\n",
       "  <tbody>\n",
       "    <tr>\n",
       "      <th>0</th>\n",
       "      <td>192.0</td>\n",
       "      <td>184.0</td>\n",
       "      <td>184.0</td>\n",
       "      <td>184.0</td>\n",
       "      <td>184.0</td>\n",
       "      <td>191.0</td>\n",
       "      <td>192.0</td>\n",
       "      <td>194.0</td>\n",
       "      <td>196.0</td>\n",
       "      <td>207.0</td>\n",
       "    </tr>\n",
       "  </tbody>\n",
       "</table>\n",
       "</div>"
      ],
      "text/plain": [
       "   Request rate  Response rate 50%  Response rate 66%  Response rate 75%  \\\n",
       "0         192.0              184.0              184.0              184.0   \n",
       "\n",
       "   Response rate 80%  Response rate 90%  Response rate 95%  Response rate 98%  \\\n",
       "0              184.0              191.0              192.0              194.0   \n",
       "\n",
       "   Response rate 99%  Response rate 100%  \n",
       "0              196.0               207.0  "
      ]
     },
     "execution_count": 6,
     "metadata": {},
     "output_type": "execute_result"
    }
   ],
   "source": [
    "rr_plot_data = plot_data[['Request rate', 'Response rate 50%', 'Response rate 66%', 'Response rate 75%',\n",
    "                          'Response rate 80%', 'Response rate 90%', 'Response rate 95%', 'Response rate 98%',\n",
    "                          'Response rate 99%', 'Response rate 100%']]\n",
    "rr_plot_data"
   ]
  },
  {
   "cell_type": "code",
   "execution_count": 7,
   "metadata": {
    "collapsed": false
   },
   "outputs": [
    {
     "data": {
      "text/plain": [
       "<matplotlib.text.Text at 0x7f555242de80>"
      ]
     },
     "execution_count": 7,
     "metadata": {},
     "output_type": "execute_result"
    },
    {
     "data": {
      "image/png": "[encoded data removed]",
      "text/plain": [
       "<matplotlib.figure.Figure at 0x7f55c9498d68>"
      ]
     },
     "metadata": {},
     "output_type": "display_data"
    }
   ],
   "source": [
    "rr_plot_data.plot(ylim=(0, None), kind='bar').set_ylabel(\"Response Rate (req/sec)\")"
   ]
  },
  {
   "cell_type": "code",
   "execution_count": 8,
   "metadata": {
    "collapsed": true
   },
   "outputs": [],
   "source": [
    "rr_plot_data.to_csv(\"../results/\" + run_name + \"/feedback_wlc_response_rate.csv\")"
   ]
  },
  {
   "cell_type": "markdown",
   "metadata": {},
   "source": [
    "### 1. Request time"
   ]
  },
  {
   "cell_type": "code",
   "execution_count": 9,
   "metadata": {
    "collapsed": false
   },
   "outputs": [
    {
     "data": {
      "text/html": [
       "<div>\n",
       "<table border=\"1\" class=\"dataframe\">\n",
       "  <thead>\n",
       "    <tr style=\"text-align: right;\">\n",
       "      <th></th>\n",
       "      <th>Response time</th>\n",
       "      <th>Response time 50%</th>\n",
       "      <th>Response time 66%</th>\n",
       "      <th>Response time 75%</th>\n",
       "      <th>Response time 80%</th>\n",
       "      <th>Response time 90%</th>\n",
       "      <th>Response time 95%</th>\n",
       "      <th>Response time 98%</th>\n",
       "      <th>Response time 99%</th>\n",
       "      <th>Response time 100%</th>\n",
       "    </tr>\n",
       "  </thead>\n",
       "  <tbody>\n",
       "    <tr>\n",
       "      <th>0</th>\n",
       "      <td>22.375</td>\n",
       "      <td>15.0</td>\n",
       "      <td>17.875</td>\n",
       "      <td>21.125</td>\n",
       "      <td>23.875</td>\n",
       "      <td>36.625</td>\n",
       "      <td>51.625</td>\n",
       "      <td>71.375</td>\n",
       "      <td>86.25</td>\n",
       "      <td>777.375</td>\n",
       "    </tr>\n",
       "  </tbody>\n",
       "</table>\n",
       "</div>"
      ],
      "text/plain": [
       "   Response time  Response time 50%  Response time 66%  Response time 75%  \\\n",
       "0         22.375               15.0             17.875             21.125   \n",
       "\n",
       "   Response time 80%  Response time 90%  Response time 95%  Response time 98%  \\\n",
       "0             23.875             36.625             51.625             71.375   \n",
       "\n",
       "   Response time 99%  Response time 100%  \n",
       "0              86.25             777.375  "
      ]
     },
     "execution_count": 9,
     "metadata": {},
     "output_type": "execute_result"
    }
   ],
   "source": [
    "rt_plot_data = plot_data[['Response time', 'Response time 50%', 'Response time 66%', 'Response time 75%',\n",
    "                          'Response time 80%', 'Response time 90%', 'Response time 95%', 'Response time 98%',\n",
    "                          'Response time 99%', 'Response time 100%']]\n",
    "rt_plot_data"
   ]
  },
  {
   "cell_type": "code",
   "execution_count": 10,
   "metadata": {
    "collapsed": false
   },
   "outputs": [
    {
     "data": {
      "text/plain": [
       "<matplotlib.text.Text at 0x7f555014ffd0>"
      ]
     },
     "execution_count": 10,
     "metadata": {},
     "output_type": "execute_result"
    },
    {
     "data": {
      "image/png": "[encoded data removed]",
      "text/plain": [
       "<matplotlib.figure.Figure at 0x7f5552964f28>"
      ]
     },
     "metadata": {},
     "output_type": "display_data"
    }
   ],
   "source": [
    "rt_plot_data.plot(ylim=(0, None), kind='bar').set_ylabel(\"Response time (req/sec)\")"
   ]
  },
  {
   "cell_type": "code",
   "execution_count": 11,
   "metadata": {
    "collapsed": true
   },
   "outputs": [],
   "source": [
    "plot_data.to_csv(\"../results/\" + run_name + \"/feedback_wlc_response_time.csv\")"
   ]
  },
  {
   "cell_type": "markdown",
   "metadata": {},
   "source": [
    "### 3. Success rate"
   ]
  },
  {
   "cell_type": "code",
   "execution_count": 22,
   "metadata": {
    "collapsed": false
   },
   "outputs": [
    {
     "data": {
      "text/plain": [
       "0    100.0\n",
       "dtype: float64"
      ]
     },
     "execution_count": 22,
     "metadata": {},
     "output_type": "execute_result"
    }
   ],
   "source": [
    "sr_plot_data = (plot_data['Response status 2xx'] + plot_data['Response status 3xx']) / plot_data['Number of requests'] * 100.0\n",
    "sr_plot_data"
   ]
  },
  {
   "cell_type": "markdown",
   "metadata": {},
   "source": [
    "## Server side stats"
   ]
  },
  {
   "cell_type": "code",
   "execution_count": 26,
   "metadata": {
    "collapsed": false
   },
   "outputs": [
    {
     "data": {
      "text/html": [
       "<div>\n",
       "<table border=\"1\" class=\"dataframe\">\n",
       "  <thead>\n",
       "    <tr style=\"text-align: right;\">\n",
       "      <th></th>\n",
       "      <th>Server</th>\n",
       "      <th>Connections</th>\n",
       "      <th>Packets</th>\n",
       "      <th>Bytes</th>\n",
       "      <th>Connections Ratio (%)</th>\n",
       "      <th>Packets Ratio (%)</th>\n",
       "      <th>Bytes Ratio (%)</th>\n",
       "    </tr>\n",
       "  </thead>\n",
       "  <tbody>\n",
       "    <tr>\n",
       "      <th>0</th>\n",
       "      <td>11.11.11.112:8080</td>\n",
       "      <td>1221</td>\n",
       "      <td>8543</td>\n",
       "      <td>535811</td>\n",
       "      <td>31.796875</td>\n",
       "      <td>31.795005</td>\n",
       "      <td>31.795325</td>\n",
       "    </tr>\n",
       "    <tr>\n",
       "      <th>1</th>\n",
       "      <td>11.11.11.113:8080</td>\n",
       "      <td>1279</td>\n",
       "      <td>8949</td>\n",
       "      <td>561273</td>\n",
       "      <td>33.307292</td>\n",
       "      <td>33.306040</td>\n",
       "      <td>33.306254</td>\n",
       "    </tr>\n",
       "    <tr>\n",
       "      <th>2</th>\n",
       "      <td>11.11.11.114:8080</td>\n",
       "      <td>1313</td>\n",
       "      <td>9188</td>\n",
       "      <td>576251</td>\n",
       "      <td>34.192708</td>\n",
       "      <td>34.195541</td>\n",
       "      <td>34.195057</td>\n",
       "    </tr>\n",
       "    <tr>\n",
       "      <th>3</th>\n",
       "      <td>11.11.11.115:8080</td>\n",
       "      <td>27</td>\n",
       "      <td>189</td>\n",
       "      <td>11853</td>\n",
       "      <td>0.703125</td>\n",
       "      <td>0.703413</td>\n",
       "      <td>0.703364</td>\n",
       "    </tr>\n",
       "  </tbody>\n",
       "</table>\n",
       "</div>"
      ],
      "text/plain": [
       "              Server  Connections  Packets   Bytes  Connections Ratio (%)  \\\n",
       "0  11.11.11.112:8080         1221     8543  535811              31.796875   \n",
       "1  11.11.11.113:8080         1279     8949  561273              33.307292   \n",
       "2  11.11.11.114:8080         1313     9188  576251              34.192708   \n",
       "3  11.11.11.115:8080           27      189   11853               0.703125   \n",
       "\n",
       "   Packets Ratio (%)  Bytes Ratio (%)  \n",
       "0          31.795005        31.795325  \n",
       "1          33.306040        33.306254  \n",
       "2          34.195541        34.195057  \n",
       "3           0.703413         0.703364  "
      ]
     },
     "execution_count": 26,
     "metadata": {},
     "output_type": "execute_result"
    }
   ],
   "source": [
    "# read in the stats data\n",
    "stats_data = pd.read_csv(\"./results/\" + run_name + \"/httperf_server_stats.csv\", header=0, na_filter=False)\n",
    "stats_data['Connections Ratio (%)'] = stats_data['Connections'] / sum(stats_data['Connections']) * 100\n",
    "stats_data['Packets Ratio (%)'] = stats_data['Packets'] / sum(stats_data['Packets']) * 100\n",
    "stats_data['Bytes Ratio (%)'] = stats_data['Bytes'] / sum(stats_data['Bytes']) * 100\n",
    "stats_data"
   ]
  },
  {
   "cell_type": "markdown",
   "metadata": {},
   "source": [
    "## Configurations\n",
    "\n",
    "```json\n",
    "{\n",
    "  \"env\": {\n",
    "    \"warn_only\": true,\n",
    "    \"hosts\": [\n",
    "      \"root@128.112.168.27\",\n",
    "      \"root@128.112.168.28\"\n",
    "    ],\n",
    "    \"roledefs\": {\n",
    "      \"server\": [\n",
    "        \"root@128.112.168.27\"\n",
    "      ],\n",
    "      \"analyst\": [\n",
    "        \"root@128.112.168.28\"\n",
    "      ]\n",
    "    },\n",
    "    \"user\": \"root\",\n",
    "    \"password\": \"PrincetonP4OVS\",\n",
    "    \"vm\": {\n",
    "      \"prefix\": \"10.10.10.\",\n",
    "      \"user\": \"mshahbaz\",\n",
    "      \"password\": \"nopass\"\n",
    "    },\n",
    "    \"analyst\": {\n",
    "      \"path\": \"/root/mshahbaz/notebooks/baseerat/runs\"\n",
    "    }\n",
    "  },\n",
    "  \"httperf_ipvs_lb\": {\n",
    "    \"vm\": {\n",
    "      \"base_id\": 103,\n",
    "      \"prefix_1\": \"11.11.11.\",\n",
    "      \"@Shahbaz\": \"prefix_1 requires that a second bridge 'vmbr1' is setup on the proxmox host.\"\n",
    "    },\n",
    "    \"vip\": {\n",
    "      \"prefix\": \"172.16.\"\n",
    "    },\n",
    "    \"feedback\": {\n",
    "      \"enable\": true\n",
    "    },\n",
    "    \"servers\": {\n",
    "      \"web_server\": {\n",
    "        \"options\": {\n",
    "          \"sockets\": 1,\n",
    "          \"cores\": 2,\n",
    "          \"memory\": 4096\n",
    "        },\n",
    "        \"vms\": [\n",
    "          {\n",
    "            \"vm_id\": 112,\n",
    "            \"lb_server\": 0,\n",
    "            \"webpage\": {\n",
    "              \"cgi\": {\n",
    "                \"enable\": true,\n",
    "                \"loop_count\": 1\n",
    "              }\n",
    "            },\n",
    "            \"load\": {\n",
    "              \"enable\": false,\n",
    "              \"type\": \"cpulimit\",\n",
    "              \"#type\": \"nice\",\n",
    "              \"types\": {\n",
    "                \"cpulimit\": {\n",
    "                  \"percentage\": 100\n",
    "                },\n",
    "                \"nice\": {\n",
    "                  \"value\": 20\n",
    "                }\n",
    "              },\n",
    "              \"process_count\": 100\n",
    "            },\n",
    "            \"state_server\": {\n",
    "              \"id\": 0,\n",
    "              \"timeout\": 0.05,\n",
    "              \"metric\": \"cpu\",\n",
    "              \"#metric\": \"loadavg\",\n",
    "              \"metrics\": {\n",
    "                \"loadavg\": {\n",
    "                  \"max_load\": 5\n",
    "                }\n",
    "              }\n",
    "            }\n",
    "          },\n",
    "          {\n",
    "            \"vm_id\": 113,\n",
    "            \"lb_server\": 0,\n",
    "            \"webpage\": {\n",
    "              \"cgi\": {\n",
    "                \"enable\": true,\n",
    "                \"loop_count\": 1\n",
    "              }\n",
    "            },\n",
    "            \"load\": {\n",
    "              \"enable\": false,\n",
    "              \"type\": \"cpulimit\",\n",
    "              \"#type\": \"nice\",\n",
    "              \"types\": {\n",
    "                \"cpulimit\": {\n",
    "                  \"percentage\": 100\n",
    "                },\n",
    "                \"nice\": {\n",
    "                  \"value\": 20\n",
    "                }\n",
    "              },\n",
    "              \"process_count\": 100\n",
    "            },\n",
    "            \"state_server\": {\n",
    "              \"id\": 0,\n",
    "              \"timeout\": 0.05,\n",
    "              \"metric\": \"cpu\",\n",
    "              \"#metric\": \"loadavg\",\n",
    "              \"metrics\": {\n",
    "                \"loadavg\": {\n",
    "                  \"max_load\": 5\n",
    "                }\n",
    "              }\n",
    "            }\n",
    "          },\n",
    "          {\n",
    "            \"vm_id\": 114,\n",
    "            \"lb_server\": 0,\n",
    "            \"webpage\": {\n",
    "              \"cgi\": {\n",
    "                \"enable\": true,\n",
    "                \"loop_count\": 1\n",
    "              }\n",
    "            },\n",
    "            \"load\": {\n",
    "              \"enable\": false,\n",
    "              \"type\": \"cpulimit\",\n",
    "              \"#type\": \"nice\",\n",
    "              \"types\": {\n",
    "                \"cpulimit\": {\n",
    "                  \"percentage\": 100\n",
    "                },\n",
    "                \"nice\": {\n",
    "                  \"value\": 20\n",
    "                }\n",
    "              },\n",
    "              \"process_count\": 100\n",
    "            },\n",
    "            \"state_server\": {\n",
    "              \"id\": 0,\n",
    "              \"timeout\": 0.05,\n",
    "              \"metric\": \"cpu\",\n",
    "              \"#metric\": \"loadavg\",\n",
    "              \"metrics\": {\n",
    "                \"loadavg\": {\n",
    "                  \"max_load\": 5\n",
    "                }\n",
    "              }\n",
    "            }\n",
    "          },\n",
    "          {\n",
    "            \"vm_id\": 115,\n",
    "            \"lb_server\": 0,\n",
    "            \"webpage\": {\n",
    "              \"cgi\": {\n",
    "                \"enable\": true,\n",
    "                \"loop_count\": 1\n",
    "              }\n",
    "            },\n",
    "            \"load\": {\n",
    "              \"enable\": true,\n",
    "              \"type\": \"cpulimit\",\n",
    "              \"#type\": \"nice\",\n",
    "              \"types\": {\n",
    "                \"cpulimit\": {\n",
    "                  \"percentage\": 100\n",
    "                },\n",
    "                \"nice\": {\n",
    "                  \"value\": 20\n",
    "                }\n",
    "              },\n",
    "              \"process_count\": 100\n",
    "            },\n",
    "            \"state_server\": {\n",
    "              \"id\": 0,\n",
    "              \"timeout\": 0.05,\n",
    "              \"metric\": \"cpu\",\n",
    "              \"#metric\": \"loadavg\",\n",
    "              \"metrics\": {\n",
    "                \"loadavg\": {\n",
    "                  \"max_load\": 5\n",
    "                }\n",
    "              }\n",
    "            }\n",
    "          }\n",
    "        ]\n",
    "      },\n",
    "      \"state_server\": {\n",
    "        \"options\": {\n",
    "          \"sockets\": 1,\n",
    "          \"cores\": 1,\n",
    "          \"memory\": 1024\n",
    "        },\n",
    "        \"vms\": [\n",
    "          {\n",
    "            \"vm_id\": 116\n",
    "          }\n",
    "        ]\n",
    "      },\n",
    "      \"lb_server\": {\n",
    "        \"options\": {\n",
    "          \"sockets\": 1,\n",
    "          \"cores\": 2,\n",
    "          \"memory\": 4096\n",
    "        },\n",
    "        \"vms\": [\n",
    "          {\n",
    "            \"vm_id\": 116,\n",
    "            \"web_servers\": [\n",
    "              0,\n",
    "              1,\n",
    "              2,\n",
    "              3\n",
    "            ],\n",
    "            \"policy\": \"wlc\",\n",
    "            \"state_server\": {\n",
    "              \"id\": 0,\n",
    "              \"timeout\": 0.10\n",
    "            }\n",
    "          }\n",
    "        ]\n",
    "      },\n",
    "      \"httperf_client\": {\n",
    "        \"options\": {\n",
    "          \"sockets\": 1,\n",
    "          \"cores\": 1,\n",
    "          \"memory\": 2048\n",
    "        },\n",
    "        \"config\": {\n",
    "          \"num_conns\": 480,\n",
    "          \"num_calls\": 1,\n",
    "          \"rate\": 24,\n",
    "          \"ramp\": 10,\n",
    "          \"iters\": 1,\n",
    "          \"timeout\": 50\n",
    "        },\n",
    "        \"vms\": [\n",
    "          {\n",
    "            \"vm_id\": 120,\n",
    "            \"lb_server\": 0\n",
    "          },\n",
    "          {\n",
    "            \"vm_id\": 121,\n",
    "            \"lb_server\": 0\n",
    "          },\n",
    "          {\n",
    "            \"vm_id\": 122,\n",
    "            \"lb_server\": 0\n",
    "          },\n",
    "          {\n",
    "            \"vm_id\": 123,\n",
    "            \"lb_server\": 0\n",
    "          },\n",
    "          {\n",
    "            \"vm_id\": 124,\n",
    "            \"lb_server\": 0\n",
    "          },\n",
    "          {\n",
    "            \"vm_id\": 125,\n",
    "            \"lb_server\": 0\n",
    "          },\n",
    "          {\n",
    "            \"vm_id\": 126,\n",
    "            \"lb_server\": 0\n",
    "          },\n",
    "          {\n",
    "            \"vm_id\": 127,\n",
    "            \"lb_server\": 0\n",
    "          }\n",
    "        ]\n",
    "      }\n",
    "    }\n",
    "  }\n",
    "}\n",
    "```"
   ]
  },
  {
   "cell_type": "code",
   "execution_count": null,
   "metadata": {
    "collapsed": true
   },
   "outputs": [],
   "source": []
  }
 ],
 "metadata": {
  "kernelspec": {
   "display_name": "Python 3",
   "language": "python",
   "name": "python3"
  },
  "language_info": {
   "codemirror_mode": {
    "name": "ipython",
    "version": 3
   },
   "file_extension": ".py",
   "mimetype": "text/x-python",
   "name": "python",
   "nbconvert_exporter": "python",
   "pygments_lexer": "ipython3",
   "version": "3.5.2"
  }
 },
 "nbformat": 4,
 "nbformat_minor": 0
}
