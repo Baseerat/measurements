{
 "cells": [
  {
   "cell_type": "code",
   "execution_count": 2,
   "metadata": {},
   "outputs": [
    {
     "name": "stderr",
     "output_type": "stream",
     "text": [
      "Loading required package: ggplot2\n",
      "Loading required package: data.table\n",
      "Loading required package: Hmisc\n",
      "Loading required package: lattice\n",
      "Loading required package: survival\n",
      "Loading required package: Formula\n",
      "\n",
      "Attaching package: ‘Hmisc’\n",
      "\n",
      "The following objects are masked from ‘package:base’:\n",
      "\n",
      "    format.pval, units\n",
      "\n",
      "Loading required package: ggthemes\n",
      "Loading required package: gridExtra\n",
      "Loading required package: grid\n",
      "Loading required package: scales\n",
      "Loading required package: RColorBrewer\n"
     ]
    }
   ],
   "source": [
    "require(ggplot2)\n",
    "require(data.table)\n",
    "require(Hmisc)\n",
    "require(ggthemes)\n",
    "require(gridExtra)\n",
    "require(grid)\n",
    "require(lattice)\n",
    "require(scales)\n",
    "require(RColorBrewer)"
   ]
  },
  {
   "cell_type": "code",
   "execution_count": null,
   "metadata": {},
   "outputs": [],
   "source": []
  },
  {
   "cell_type": "code",
   "execution_count": 3,
   "metadata": {},
   "outputs": [],
   "source": [
    "directory = \"../../results/dcn-multicast/\"\n",
    "blues = brewer.pal(n = 6, \"Blues\")[4:6]\n",
    "plotTheme <- theme_hc() + theme(legend.title=element_blank(), legend.position=\"none\", legend.text=element_text(size=8))"
   ]
  },
  {
   "cell_type": "code",
   "execution_count": null,
   "metadata": {},
   "outputs": [],
   "source": []
  },
  {
   "cell_type": "code",
   "execution_count": 4,
   "metadata": {},
   "outputs": [],
   "source": [
    "switchUpdateCount <- fread(paste(directory, \"switch-update-count.csv\", sep=\"/\"), sep=\",\", header=TRUE)"
   ]
  },
  {
   "cell_type": "code",
   "execution_count": 5,
   "metadata": {},
   "outputs": [
    {
     "data": {
      "text/html": [
       "<table>\n",
       "<thead><tr><th scope=col>Switch</th><th scope=col>Scheme</th><th scope=col>Event</th><th scope=col>Count (normalized)</th></tr></thead>\n",
       "<tbody>\n",
       "\t<tr><td>Core      </td><td>DCN       </td><td>join      </td><td>1.6400    </td></tr>\n",
       "\t<tr><td>Core      </td><td>DCN       </td><td>leave     </td><td>1.5500    </td></tr>\n",
       "\t<tr><td>Core      </td><td>Elmo      </td><td>join      </td><td>0.0000    </td></tr>\n",
       "\t<tr><td>Core      </td><td>Elmo      </td><td>leave     </td><td>0.0000    </td></tr>\n",
       "\t<tr><td>Spine     </td><td>DCN       </td><td>join      </td><td>1.8900    </td></tr>\n",
       "\t<tr><td>Spine     </td><td>DCN       </td><td>leave     </td><td>1.8600    </td></tr>\n",
       "\t<tr><td>Spine     </td><td>Elmo      </td><td>join      </td><td>0.0015    </td></tr>\n",
       "\t<tr><td>Spine     </td><td>Elmo      </td><td>leave     </td><td>0.0023    </td></tr>\n",
       "\t<tr><td>Leaf      </td><td>DCN       </td><td>join      </td><td>1.0000    </td></tr>\n",
       "\t<tr><td>Leaf      </td><td>DCN       </td><td>leave     </td><td>1.0000    </td></tr>\n",
       "\t<tr><td>Leaf      </td><td>Elmo      </td><td>join      </td><td>0.0042    </td></tr>\n",
       "\t<tr><td>Leaf      </td><td>Elmo      </td><td>leave     </td><td>0.0061    </td></tr>\n",
       "\t<tr><td>Hypervisor</td><td>DCN       </td><td>join      </td><td>1.0000    </td></tr>\n",
       "\t<tr><td>Hypervisor</td><td>DCN       </td><td>leave     </td><td>1.0000    </td></tr>\n",
       "\t<tr><td>Hypervisor</td><td>Elmo      </td><td>join      </td><td>0.3300    </td></tr>\n",
       "\t<tr><td>Hypervisor</td><td>Elmo      </td><td>leave     </td><td>0.4900    </td></tr>\n",
       "</tbody>\n",
       "</table>\n"
      ],
      "text/latex": [
       "\\begin{tabular}{r|llll}\n",
       " Switch & Scheme & Event & Count (normalized)\\\\\n",
       "\\hline\n",
       "\t Core       & DCN        & join       & 1.6400    \\\\\n",
       "\t Core       & DCN        & leave      & 1.5500    \\\\\n",
       "\t Core       & Elmo       & join       & 0.0000    \\\\\n",
       "\t Core       & Elmo       & leave      & 0.0000    \\\\\n",
       "\t Spine      & DCN        & join       & 1.8900    \\\\\n",
       "\t Spine      & DCN        & leave      & 1.8600    \\\\\n",
       "\t Spine      & Elmo       & join       & 0.0015    \\\\\n",
       "\t Spine      & Elmo       & leave      & 0.0023    \\\\\n",
       "\t Leaf       & DCN        & join       & 1.0000    \\\\\n",
       "\t Leaf       & DCN        & leave      & 1.0000    \\\\\n",
       "\t Leaf       & Elmo       & join       & 0.0042    \\\\\n",
       "\t Leaf       & Elmo       & leave      & 0.0061    \\\\\n",
       "\t Hypervisor & DCN        & join       & 1.0000    \\\\\n",
       "\t Hypervisor & DCN        & leave      & 1.0000    \\\\\n",
       "\t Hypervisor & Elmo       & join       & 0.3300    \\\\\n",
       "\t Hypervisor & Elmo       & leave      & 0.4900    \\\\\n",
       "\\end{tabular}\n"
      ],
      "text/markdown": [
       "\n",
       "Switch | Scheme | Event | Count (normalized) | \n",
       "|---|---|---|---|---|---|---|---|---|---|---|---|---|---|---|---|\n",
       "| Core       | DCN        | join       | 1.6400     | \n",
       "| Core       | DCN        | leave      | 1.5500     | \n",
       "| Core       | Elmo       | join       | 0.0000     | \n",
       "| Core       | Elmo       | leave      | 0.0000     | \n",
       "| Spine      | DCN        | join       | 1.8900     | \n",
       "| Spine      | DCN        | leave      | 1.8600     | \n",
       "| Spine      | Elmo       | join       | 0.0015     | \n",
       "| Spine      | Elmo       | leave      | 0.0023     | \n",
       "| Leaf       | DCN        | join       | 1.0000     | \n",
       "| Leaf       | DCN        | leave      | 1.0000     | \n",
       "| Leaf       | Elmo       | join       | 0.0042     | \n",
       "| Leaf       | Elmo       | leave      | 0.0061     | \n",
       "| Hypervisor | DCN        | join       | 1.0000     | \n",
       "| Hypervisor | DCN        | leave      | 1.0000     | \n",
       "| Hypervisor | Elmo       | join       | 0.3300     | \n",
       "| Hypervisor | Elmo       | leave      | 0.4900     | \n",
       "\n",
       "\n"
      ],
      "text/plain": [
       "   Switch     Scheme Event Count (normalized)\n",
       "1  Core       DCN    join  1.6400            \n",
       "2  Core       DCN    leave 1.5500            \n",
       "3  Core       Elmo   join  0.0000            \n",
       "4  Core       Elmo   leave 0.0000            \n",
       "5  Spine      DCN    join  1.8900            \n",
       "6  Spine      DCN    leave 1.8600            \n",
       "7  Spine      Elmo   join  0.0015            \n",
       "8  Spine      Elmo   leave 0.0023            \n",
       "9  Leaf       DCN    join  1.0000            \n",
       "10 Leaf       DCN    leave 1.0000            \n",
       "11 Leaf       Elmo   join  0.0042            \n",
       "12 Leaf       Elmo   leave 0.0061            \n",
       "13 Hypervisor DCN    join  1.0000            \n",
       "14 Hypervisor DCN    leave 1.0000            \n",
       "15 Hypervisor Elmo   join  0.3300            \n",
       "16 Hypervisor Elmo   leave 0.4900            "
      ]
     },
     "metadata": {},
     "output_type": "display_data"
    }
   ],
   "source": [
    "switchUpdateCount"
   ]
  },
  {
   "cell_type": "code",
   "execution_count": null,
   "metadata": {},
   "outputs": [],
   "source": []
  },
  {
   "cell_type": "code",
   "execution_count": null,
   "metadata": {},
   "outputs": [],
   "source": []
  }
 ],
 "metadata": {
  "kernelspec": {
   "display_name": "R",
   "language": "R",
   "name": "ir"
  },
  "language_info": {
   "codemirror_mode": "r",
   "file_extension": ".r",
   "mimetype": "text/x-r-source",
   "name": "R",
   "pygments_lexer": "r",
   "version": "3.4.3"
  }
 },
 "nbformat": 4,
 "nbformat_minor": 2
}
