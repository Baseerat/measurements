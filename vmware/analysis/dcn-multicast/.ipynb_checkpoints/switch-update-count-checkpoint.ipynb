{
 "cells": [
  {
   "cell_type": "code",
   "execution_count": 1,
   "metadata": {},
   "outputs": [
    {
     "name": "stderr",
     "output_type": "stream",
     "text": [
      "Loading required package: ggplot2\n",
      "Loading required package: data.table\n",
      "Loading required package: Hmisc\n",
      "Loading required package: lattice\n",
      "Loading required package: survival\n",
      "Loading required package: Formula\n",
      "\n",
      "Attaching package: ‘Hmisc’\n",
      "\n",
      "The following objects are masked from ‘package:base’:\n",
      "\n",
      "    format.pval, units\n",
      "\n",
      "Loading required package: ggthemes\n",
      "Loading required package: gridExtra\n",
      "Loading required package: grid\n",
      "Loading required package: scales\n",
      "Loading required package: RColorBrewer\n"
     ]
    }
   ],
   "source": [
    "require(ggplot2)\n",
    "require(data.table)\n",
    "require(Hmisc)\n",
    "require(ggthemes)\n",
    "require(gridExtra)\n",
    "require(grid)\n",
    "require(lattice)\n",
    "require(scales)\n",
    "require(RColorBrewer)"
   ]
  },
  {
   "cell_type": "code",
   "execution_count": null,
   "metadata": {},
   "outputs": [],
   "source": []
  },
  {
   "cell_type": "code",
   "execution_count": 2,
   "metadata": {},
   "outputs": [],
   "source": [
    "directory = \"../../results/dcn-multicast/\"\n",
    "blues = brewer.pal(n = 6, \"Blues\")[4:6]\n",
    "plotTheme <- theme_hc() + theme(legend.title=element_blank(), legend.position=\"none\", legend.text=element_text(size=8))"
   ]
  },
  {
   "cell_type": "code",
   "execution_count": null,
   "metadata": {},
   "outputs": [],
   "source": []
  },
  {
   "cell_type": "code",
   "execution_count": 4,
   "metadata": {},
   "outputs": [],
   "source": [
    "switchUpdateCount <- fread(paste(directory, \"switch-update-count.csv\", sep=\"/\"), sep=\",\", header=TRUE)"
   ]
  },
  {
   "cell_type": "code",
   "execution_count": 5,
   "metadata": {},
   "outputs": [
    {
     "data": {
      "text/html": [
       "<table>\n",
       "<thead><tr><th scope=col>Switch</th><th scope=col>Scheme</th><th scope=col>Event</th><th scope=col>Count (normalized)</th></tr></thead>\n",
       "<tbody>\n",
       "\t<tr><td>Core </td><td>DCN  </td><td>join </td><td>1.64 </td></tr>\n",
       "\t<tr><td>Core </td><td>DCN  </td><td>leave</td><td>1.55 </td></tr>\n",
       "\t<tr><td>Core </td><td>Elmo </td><td>join </td><td>0.00 </td></tr>\n",
       "\t<tr><td>Core </td><td>Elmo </td><td>leave</td><td>0.00 </td></tr>\n",
       "\t<tr><td>Spine</td><td>DCN  </td><td>join </td><td>1.89 </td></tr>\n",
       "\t<tr><td>Spine</td><td>DCN  </td><td>leave</td><td>1.86 </td></tr>\n",
       "</tbody>\n",
       "</table>\n"
      ],
      "text/latex": [
       "\\begin{tabular}{r|llll}\n",
       " Switch & Scheme & Event & Count (normalized)\\\\\n",
       "\\hline\n",
       "\t Core  & DCN   & join  & 1.64 \\\\\n",
       "\t Core  & DCN   & leave & 1.55 \\\\\n",
       "\t Core  & Elmo  & join  & 0.00 \\\\\n",
       "\t Core  & Elmo  & leave & 0.00 \\\\\n",
       "\t Spine & DCN   & join  & 1.89 \\\\\n",
       "\t Spine & DCN   & leave & 1.86 \\\\\n",
       "\\end{tabular}\n"
      ],
      "text/markdown": [
       "\n",
       "Switch | Scheme | Event | Count (normalized) | \n",
       "|---|---|---|---|---|---|\n",
       "| Core  | DCN   | join  | 1.64  | \n",
       "| Core  | DCN   | leave | 1.55  | \n",
       "| Core  | Elmo  | join  | 0.00  | \n",
       "| Core  | Elmo  | leave | 0.00  | \n",
       "| Spine | DCN   | join  | 1.89  | \n",
       "| Spine | DCN   | leave | 1.86  | \n",
       "\n",
       "\n"
      ],
      "text/plain": [
       "  Switch Scheme Event Count (normalized)\n",
       "1 Core   DCN    join  1.64              \n",
       "2 Core   DCN    leave 1.55              \n",
       "3 Core   Elmo   join  0.00              \n",
       "4 Core   Elmo   leave 0.00              \n",
       "5 Spine  DCN    join  1.89              \n",
       "6 Spine  DCN    leave 1.86              "
      ]
     },
     "metadata": {},
     "output_type": "display_data"
    }
   ],
   "source": [
    "head(switchUpdateCount)"
   ]
  },
  {
   "cell_type": "code",
   "execution_count": null,
   "metadata": {},
   "outputs": [],
   "source": []
  },
  {
   "cell_type": "code",
   "execution_count": null,
   "metadata": {},
   "outputs": [],
   "source": []
  }
 ],
 "metadata": {
  "kernelspec": {
   "display_name": "R",
   "language": "R",
   "name": "ir"
  },
  "language_info": {
   "codemirror_mode": "r",
   "file_extension": ".r",
   "mimetype": "text/x-r-source",
   "name": "R",
   "pygments_lexer": "r",
   "version": "3.4.3"
  }
 },
 "nbformat": 4,
 "nbformat_minor": 2
}
