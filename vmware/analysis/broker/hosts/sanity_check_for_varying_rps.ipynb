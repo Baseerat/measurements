{
 "cells": [
  {
   "cell_type": "code",
   "execution_count": 1,
   "metadata": {
    "collapsed": true
   },
   "outputs": [],
   "source": [
    "import os\n",
    "import glob\n",
    "from functools import reduce"
   ]
  },
  {
   "cell_type": "code",
   "execution_count": 2,
   "metadata": {
    "collapsed": false
   },
   "outputs": [],
   "source": [
    "import seaborn as sns\n",
    "import numpy as np\n",
    "import pandas as pd\n",
    "import matplotlib.pyplot as plt\n",
    "plt.style.use('ggplot')\n",
    "import seaborn as sns\n",
    "\n",
    "# display plots in the notebook\n",
    "%matplotlib inline\n",
    "\n",
    "# increase default figure and font sizes for easier viewing\n",
    "plt.rcParams['figure.figsize'] = (8, 6)\n",
    "plt.rcParams['font.size'] = 14"
   ]
  },
  {
   "cell_type": "markdown",
   "metadata": {},
   "source": [
    "## Analysis\n",
    "---\n",
    "\n",
    "Description: This is a test for broker evaluation with varying number of subscribers and publishers. The broker process -- along with all its threads -- is pinned to a single physical core (core 9). The interval is set to **2ms** (e.g., no. of pubs * 500rps). "
   ]
  },
  {
   "cell_type": "code",
   "execution_count": 3,
   "metadata": {
    "collapsed": true
   },
   "outputs": [],
   "source": [
    "results_dir = \"../../../results/broker/hosts/\"\n",
    "date_time_list_1ms = [\"20170731231815.490819\", \"20170801000044.280947\"]\n",
    "date_time_list_2ms = [\"20170801091236.943618\"]\n",
    "\n",
    "cols = ['%cpu', '%mem'] "
   ]
  },
  {
   "cell_type": "code",
   "execution_count": 4,
   "metadata": {
    "collapsed": false
   },
   "outputs": [],
   "source": [
    "broker_data_dict_1ms = {}\n",
    "\n",
    "for date_time in date_time_list_1ms:\n",
    "    for i in glob.glob(results_dir + date_time + \"/broker_stats_with__*\"):\n",
    "        key = i.split('__')[1].split('_')[1] + \"x\" + i.split('__')[2].split('_')[1]        \n",
    "        broker_data_dict_1ms[key] = pd.read_csv(i, sep=' ', header=None, na_filter=False, names = cols)\n",
    "\n",
    "# sorted(broker_data_dict_1ms.keys())"
   ]
  },
  {
   "cell_type": "code",
   "execution_count": 5,
   "metadata": {
    "collapsed": true
   },
   "outputs": [],
   "source": [
    "broker_data_dict_2ms = {}\n",
    "\n",
    "for date_time in date_time_list_2ms:\n",
    "    for i in glob.glob(results_dir + date_time + \"/broker_stats_with__*\"):\n",
    "        key = i.split('__')[1].split('_')[1] + \"x\" + i.split('__')[2].split('_')[1]        \n",
    "        broker_data_dict_2ms[key] = pd.read_csv(i, sep=' ', header=None, na_filter=False, names = cols)\n",
    "\n",
    "# sorted(broker_data_dict_2ms.keys())"
   ]
  },
  {
   "cell_type": "code",
   "execution_count": 6,
   "metadata": {
    "collapsed": false
   },
   "outputs": [
    {
     "data": {
      "text/html": [
       "<div>\n",
       "<style>\n",
       "    .dataframe thead tr:only-child th {\n",
       "        text-align: right;\n",
       "    }\n",
       "\n",
       "    .dataframe thead th {\n",
       "        text-align: left;\n",
       "    }\n",
       "\n",
       "    .dataframe tbody tr th {\n",
       "        vertical-align: top;\n",
       "    }\n",
       "</style>\n",
       "<table border=\"1\" class=\"dataframe\">\n",
       "  <thead>\n",
       "    <tr style=\"text-align: right;\">\n",
       "      <th></th>\n",
       "      <th>%pcpu-subs:1</th>\n",
       "      <th>%pcpu-subs:2</th>\n",
       "      <th>%pcpu-subs:4</th>\n",
       "      <th>%pcpu-subs:8</th>\n",
       "      <th>%pcpu-subs:16</th>\n",
       "      <th>%pcpu-subs:32</th>\n",
       "      <th>%pcpu-subs:64</th>\n",
       "      <th>%pcpu-subs:128</th>\n",
       "    </tr>\n",
       "    <tr>\n",
       "      <th>pubs</th>\n",
       "      <th></th>\n",
       "      <th></th>\n",
       "      <th></th>\n",
       "      <th></th>\n",
       "      <th></th>\n",
       "      <th></th>\n",
       "      <th></th>\n",
       "      <th></th>\n",
       "    </tr>\n",
       "  </thead>\n",
       "  <tbody>\n",
       "    <tr>\n",
       "      <th>1 (1ms)</th>\n",
       "      <td>5.227273</td>\n",
       "      <td>5.618182</td>\n",
       "      <td>6.481818</td>\n",
       "      <td>7.945455</td>\n",
       "      <td>10.836364</td>\n",
       "      <td>16.572727</td>\n",
       "      <td>27.872727</td>\n",
       "      <td>49.991667</td>\n",
       "    </tr>\n",
       "    <tr>\n",
       "      <th>1 (2ms)</th>\n",
       "      <td>3.890909</td>\n",
       "      <td>4.218182</td>\n",
       "      <td>4.745455</td>\n",
       "      <td>5.336364</td>\n",
       "      <td>6.836364</td>\n",
       "      <td>9.681818</td>\n",
       "      <td>15.300000</td>\n",
       "      <td>27.081818</td>\n",
       "    </tr>\n",
       "  </tbody>\n",
       "</table>\n",
       "</div>"
      ],
      "text/plain": [
       "         %pcpu-subs:1  %pcpu-subs:2  %pcpu-subs:4  %pcpu-subs:8  \\\n",
       "pubs                                                              \n",
       "1 (1ms)      5.227273      5.618182      6.481818      7.945455   \n",
       "1 (2ms)      3.890909      4.218182      4.745455      5.336364   \n",
       "\n",
       "         %pcpu-subs:16  %pcpu-subs:32  %pcpu-subs:64  %pcpu-subs:128  \n",
       "pubs                                                                  \n",
       "1 (1ms)      10.836364      16.572727      27.872727       49.991667  \n",
       "1 (2ms)       6.836364       9.681818      15.300000       27.081818  "
      ]
     },
     "execution_count": 6,
     "metadata": {},
     "output_type": "execute_result"
    }
   ],
   "source": [
    "pcpu_usage = pd.DataFrame()\n",
    "\n",
    "cols = [1, 2, 4, 8, 16, 32, 64, 128]\n",
    "\n",
    "pcpu_usage['pubs'] = [\"1 (1ms)\", \"1 (2ms)\"]\n",
    "\n",
    "for col in cols:\n",
    "    row = []\n",
    "    if str(1) + \"x\" + str(col) in broker_data_dict_1ms:\n",
    "        row += [broker_data_dict_1ms[str(1) + \"x\" + str(col)]['%cpu'].mean()]\n",
    "    else:\n",
    "        row += [np.nan]\n",
    "    if str(1) + \"x\" + str(col) in broker_data_dict_2ms:\n",
    "        row += [broker_data_dict_2ms[str(1) + \"x\" + str(col)]['%cpu'].mean()]\n",
    "    else:\n",
    "        row += [np.nan]\n",
    "    pcpu_usage['%pcpu' + \"-subs:\" + str(col)] = row\n",
    "    \n",
    "\n",
    "pcpu_usage = pcpu_usage.set_index('pubs')\n",
    "    \n",
    "pcpu_usage"
   ]
  },
  {
   "cell_type": "code",
   "execution_count": 7,
   "metadata": {
    "collapsed": false
   },
   "outputs": [
    {
     "data": {
      "text/html": [
       "<div>\n",
       "<style>\n",
       "    .dataframe thead tr:only-child th {\n",
       "        text-align: right;\n",
       "    }\n",
       "\n",
       "    .dataframe thead th {\n",
       "        text-align: left;\n",
       "    }\n",
       "\n",
       "    .dataframe tbody tr th {\n",
       "        vertical-align: top;\n",
       "    }\n",
       "</style>\n",
       "<table border=\"1\" class=\"dataframe\">\n",
       "  <thead>\n",
       "    <tr style=\"text-align: right;\">\n",
       "      <th></th>\n",
       "      <th>%pmem-subs:1</th>\n",
       "      <th>%pmem-subs:2</th>\n",
       "      <th>%pmem-subs:4</th>\n",
       "      <th>%pmem-subs:8</th>\n",
       "      <th>%pmem-subs:16</th>\n",
       "      <th>%pmem-subs:32</th>\n",
       "      <th>%pmem-subs:64</th>\n",
       "      <th>%pmem-subs:128</th>\n",
       "    </tr>\n",
       "    <tr>\n",
       "      <th>pubs</th>\n",
       "      <th></th>\n",
       "      <th></th>\n",
       "      <th></th>\n",
       "      <th></th>\n",
       "      <th></th>\n",
       "      <th></th>\n",
       "      <th></th>\n",
       "      <th></th>\n",
       "    </tr>\n",
       "  </thead>\n",
       "  <tbody>\n",
       "    <tr>\n",
       "      <th>1 (1ms)</th>\n",
       "      <td>0.0</td>\n",
       "      <td>0.0</td>\n",
       "      <td>0.0</td>\n",
       "      <td>0.0</td>\n",
       "      <td>0.0</td>\n",
       "      <td>0.0</td>\n",
       "      <td>0.0</td>\n",
       "      <td>0.0</td>\n",
       "    </tr>\n",
       "    <tr>\n",
       "      <th>1 (2ms)</th>\n",
       "      <td>0.0</td>\n",
       "      <td>0.0</td>\n",
       "      <td>0.0</td>\n",
       "      <td>0.0</td>\n",
       "      <td>0.0</td>\n",
       "      <td>0.0</td>\n",
       "      <td>0.0</td>\n",
       "      <td>0.0</td>\n",
       "    </tr>\n",
       "  </tbody>\n",
       "</table>\n",
       "</div>"
      ],
      "text/plain": [
       "         %pmem-subs:1  %pmem-subs:2  %pmem-subs:4  %pmem-subs:8  \\\n",
       "pubs                                                              \n",
       "1 (1ms)           0.0           0.0           0.0           0.0   \n",
       "1 (2ms)           0.0           0.0           0.0           0.0   \n",
       "\n",
       "         %pmem-subs:16  %pmem-subs:32  %pmem-subs:64  %pmem-subs:128  \n",
       "pubs                                                                  \n",
       "1 (1ms)            0.0            0.0            0.0             0.0  \n",
       "1 (2ms)            0.0            0.0            0.0             0.0  "
      ]
     },
     "execution_count": 7,
     "metadata": {},
     "output_type": "execute_result"
    }
   ],
   "source": [
    "pmem_usage = pd.DataFrame()\n",
    "\n",
    "cols = [1, 2, 4, 8, 16, 32, 64, 128]\n",
    "\n",
    "pmem_usage['pubs'] = [\"1 (1ms)\", \"1 (2ms)\"]\n",
    "\n",
    "for col in cols:\n",
    "    row = []\n",
    "    if str(1) + \"x\" + str(col) in broker_data_dict_1ms:\n",
    "        row += [broker_data_dict_1ms[str(1) + \"x\" + str(col)]['%mem'].mean()]\n",
    "    else:\n",
    "        row += [np.nan]\n",
    "    if str(1) + \"x\" + str(col) in broker_data_dict_2ms:\n",
    "        row += [broker_data_dict_2ms[str(1) + \"x\" + str(col)]['%mem'].mean()]\n",
    "    else:\n",
    "        row += [np.nan]\n",
    "    pmem_usage['%pmem' + \"-subs:\" + str(col)] = row\n",
    "\n",
    "pmem_usage = pmem_usage.set_index('pubs')\n",
    "    \n",
    "pmem_usage"
   ]
  },
  {
   "cell_type": "code",
   "execution_count": null,
   "metadata": {
    "collapsed": true
   },
   "outputs": [],
   "source": []
  }
 ],
 "metadata": {
  "kernelspec": {
   "display_name": "Python 3",
   "language": "python",
   "name": "python3"
  },
  "language_info": {
   "codemirror_mode": {
    "name": "ipython",
    "version": 3
   },
   "file_extension": ".py",
   "mimetype": "text/x-python",
   "name": "python",
   "nbconvert_exporter": "python",
   "pygments_lexer": "ipython3",
   "version": "3.5.2"
  }
 },
 "nbformat": 4,
 "nbformat_minor": 2
}
