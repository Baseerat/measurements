{
 "cells": [
  {
   "cell_type": "code",
   "execution_count": 2,
   "metadata": {
    "collapsed": true
   },
   "outputs": [],
   "source": [
    "import os\n",
    "import glob\n",
    "from functools import reduce"
   ]
  },
  {
   "cell_type": "code",
   "execution_count": 3,
   "metadata": {
    "collapsed": false
   },
   "outputs": [],
   "source": [
    "import seaborn as sns\n",
    "import numpy as np\n",
    "import pandas as pd\n",
    "import matplotlib.pyplot as plt\n",
    "plt.style.use('ggplot')\n",
    "import seaborn as sns\n",
    "\n",
    "# display plots in the notebook\n",
    "%matplotlib inline\n",
    "\n",
    "# increase default figure and font sizes for easier viewing\n",
    "plt.rcParams['figure.figsize'] = (8, 6)\n",
    "plt.rcParams['font.size'] = 14"
   ]
  },
  {
   "cell_type": "markdown",
   "metadata": {},
   "source": [
    "## Analysis\n",
    "---\n",
    "\n",
    "Note: these plots are for showing, primarily, how much network saving is possible with Baseerat."
   ]
  },
  {
   "cell_type": "markdown",
   "metadata": {},
   "source": [
    "### 1. Publisher to subscriber (fanout) ...\n",
    "\n",
    "- msg_size = 64B = 64 x 8 = 512b\n",
    "\n",
    "- throughput_1pub/1sub = 1000 msgs/sec = 1000 msg_size/sec 1000 x (512b)/sec = 512 x 10^3 bps = 500kbps\n",
    "\n",
    "- throughput_1pub/256sub = 256 x throughput_1pub/1sub = 256 x 512 x 10^3 bps = 131.072 x 10^6 bps = 125mbps\n",
    "\n",
    "**Note: from measurements, we see that throughput_1pub/256sub is sufficient to saturate a single core.** In other words, a single core generates a throughput of:\n",
    "\n",
    "- 1core = throughput_1pub/256sub = 125mbps\n",
    "\n",
    "For saturating a 10gbps link, the number of cores required are:\n",
    "\n",
    "- n10g_cores = (10 x 2^30) / (125 x 2^20) = 81.92\n",
    "\n",
    "Thus, 81.92 cores are needed to saturate a 10g link. Similarly:\n",
    "\n",
    "- n40g_cores = 4 x n10g_cores = 327.68\n",
    "- n100g_cores = 10 x n10g_cores = 819.2\n",
    "\n",
    "@shahbaz: these are big numbers, I didn't think these would be that large!\n",
    "\n",
    "For achieving throughput_1pub/1sub, we need 5% of a core (or 0.05 cores).\n",
    "\n",
    "**Note: we should also note down the CPU type and processing speed as well for this!**"
   ]
  },
  {
   "cell_type": "markdown",
   "metadata": {},
   "source": [
    "### 2. Subscriber from publisher (fanin) ...\n",
    "\n",
    "- msg_size = 64B = 64 x 8 = 512b\n",
    "\n",
    "- throughput_1sub/1pub = 1000 msgs/sec = 1000 msg_size/sec 1000 x (512b)/sec = 512 x 10^3 bps = 500kpbs\n",
    "\n",
    "- throughput_1sub/64pub = 64 x throughput_1sub/1pub = 64 x 512 x 10^3 bps = 32.768 x 10^6 bps = 31.25mbps\n",
    "\n",
    "**Note: from measurements, we see that throughput_1sub/64pub is sufficient to saturate a single core.** In other words, a single core generates a throughput of:\n",
    "\n",
    "- 1core = throughput_1sub/64pub = 31.25mbps\n",
    "\n",
    "For saturating a 10gbps link, the number of cores required are:\n",
    "\n",
    "- n10g_cores = (10 x 2^30) / (31.25 x 2^20) = 327.68\n",
    "\n",
    "Thus, 327.68 cores are needed to saturate a 10g link. Similarly:\n",
    "\n",
    "- n40g_cores = 4 x n10g_cores = 1310.72\n",
    "- n100g_cores = 10 x n10g_cores = 3276.8\n",
    "\n",
    "@shahbaz: these are big numbers, I didn't think these would be that large!\n",
    "\n",
    "For achieving throughput_1sub/1pub, we need 5% of a core (or 0.05 cores).\n",
    "\n",
    "**Note: we should also note down the CPU type and processing speed as well for this!**"
   ]
  },
  {
   "cell_type": "markdown",
   "metadata": {},
   "source": [
    "### 3. Broker\n",
    "\n",
    "TODO."
   ]
  },
  {
   "cell_type": "markdown",
   "metadata": {
    "collapsed": true
   },
   "source": [
    "## Plots\n",
    "---"
   ]
  },
  {
   "cell_type": "markdown",
   "metadata": {},
   "source": [
    "### Publsiher to subscriber ..."
   ]
  },
  {
   "cell_type": "code",
   "execution_count": 15,
   "metadata": {
    "collapsed": false
   },
   "outputs": [
    {
     "data": {
      "text/html": [
       "<div>\n",
       "<style>\n",
       "    .dataframe thead tr:only-child th {\n",
       "        text-align: right;\n",
       "    }\n",
       "\n",
       "    .dataframe thead th {\n",
       "        text-align: left;\n",
       "    }\n",
       "\n",
       "    .dataframe tbody tr th {\n",
       "        vertical-align: top;\n",
       "    }\n",
       "</style>\n",
       "<table border=\"1\" class=\"dataframe\">\n",
       "  <thead>\n",
       "    <tr style=\"text-align: right;\">\n",
       "      <th></th>\n",
       "      <th>cores</th>\n",
       "      <th>subs</th>\n",
       "    </tr>\n",
       "    <tr>\n",
       "      <th>bandwidth (bps)</th>\n",
       "      <th></th>\n",
       "      <th></th>\n",
       "    </tr>\n",
       "  </thead>\n",
       "  <tbody>\n",
       "    <tr>\n",
       "      <th>500k</th>\n",
       "      <td>0.05</td>\n",
       "      <td>1.00</td>\n",
       "    </tr>\n",
       "    <tr>\n",
       "      <th>125m</th>\n",
       "      <td>1.00</td>\n",
       "      <td>256.00</td>\n",
       "    </tr>\n",
       "    <tr>\n",
       "      <th>10g</th>\n",
       "      <td>81.92</td>\n",
       "      <td>20971.52</td>\n",
       "    </tr>\n",
       "    <tr>\n",
       "      <th>40g</th>\n",
       "      <td>327.68</td>\n",
       "      <td>83886.08</td>\n",
       "    </tr>\n",
       "    <tr>\n",
       "      <th>100g</th>\n",
       "      <td>819.20</td>\n",
       "      <td>209715.20</td>\n",
       "    </tr>\n",
       "  </tbody>\n",
       "</table>\n",
       "</div>"
      ],
      "text/plain": [
       "                  cores       subs\n",
       "bandwidth (bps)                   \n",
       "500k               0.05       1.00\n",
       "125m               1.00     256.00\n",
       "10g               81.92   20971.52\n",
       "40g              327.68   83886.08\n",
       "100g             819.20  209715.20"
      ]
     },
     "execution_count": 15,
     "metadata": {},
     "output_type": "execute_result"
    }
   ],
   "source": [
    "pubsub_bw_usage = pd.DataFrame()\n",
    "\n",
    "pubsub_bw_usage['bandwidth (bps)'] = ['500k', '125m',     '10g',      '40g',    '100g']\n",
    "pubsub_bw_usage['cores']           = [  0.05,      1,     81.92,     327.68,     819.2]\n",
    "pubsub_bw_usage['subs']            = [     1,    256, 256*81.92, 256*327.68, 256*819.2]\n",
    "\n",
    "pubsub_bw_usage = pubsub_bw_usage.set_index('bandwidth (bps)')\n",
    "\n",
    "pubsub_bw_usage"
   ]
  },
  {
   "cell_type": "code",
   "execution_count": 28,
   "metadata": {
    "collapsed": false
   },
   "outputs": [
    {
     "data": {
      "text/plain": [
       "<matplotlib.axes._subplots.AxesSubplot at 0x7fcdba106080>"
      ]
     },
     "execution_count": 28,
     "metadata": {},
     "output_type": "execute_result"
    },
    {
     "data": {
      "image/png": "[encoded data removed]",
      "text/plain": [
       "<matplotlib.figure.Figure at 0x7fcdba101828>"
      ]
     },
     "metadata": {},
     "output_type": "display_data"
    }
   ],
   "source": [
    "pubsub_bw_usage[['cores']].plot(kind='bar', logy=True)"
   ]
  },
  {
   "cell_type": "code",
   "execution_count": 17,
   "metadata": {
    "collapsed": false
   },
   "outputs": [
    {
     "data": {
      "text/plain": [
       "<matplotlib.axes._subplots.AxesSubplot at 0x7fcdbadf17b8>"
      ]
     },
     "execution_count": 17,
     "metadata": {},
     "output_type": "execute_result"
    },
    {
     "data": {
      "image/png": "[encoded data removed]",
      "text/plain": [
       "<matplotlib.figure.Figure at 0x7fcdbade5198>"
      ]
     },
     "metadata": {},
     "output_type": "display_data"
    }
   ],
   "source": [
    "pubsub_bw_usage[['subs']].plot(kind='bar', logy=True)"
   ]
  },
  {
   "cell_type": "markdown",
   "metadata": {},
   "source": [
    "### Subscriber form publisher ..."
   ]
  },
  {
   "cell_type": "code",
   "execution_count": 18,
   "metadata": {
    "collapsed": false
   },
   "outputs": [
    {
     "data": {
      "text/html": [
       "<div>\n",
       "<style>\n",
       "    .dataframe thead tr:only-child th {\n",
       "        text-align: right;\n",
       "    }\n",
       "\n",
       "    .dataframe thead th {\n",
       "        text-align: left;\n",
       "    }\n",
       "\n",
       "    .dataframe tbody tr th {\n",
       "        vertical-align: top;\n",
       "    }\n",
       "</style>\n",
       "<table border=\"1\" class=\"dataframe\">\n",
       "  <thead>\n",
       "    <tr style=\"text-align: right;\">\n",
       "      <th></th>\n",
       "      <th>cores</th>\n",
       "      <th>pubs</th>\n",
       "    </tr>\n",
       "    <tr>\n",
       "      <th>bandwidth (bps)</th>\n",
       "      <th></th>\n",
       "      <th></th>\n",
       "    </tr>\n",
       "  </thead>\n",
       "  <tbody>\n",
       "    <tr>\n",
       "      <th>500k</th>\n",
       "      <td>0.05</td>\n",
       "      <td>1.00</td>\n",
       "    </tr>\n",
       "    <tr>\n",
       "      <th>31.25m</th>\n",
       "      <td>1.00</td>\n",
       "      <td>64.00</td>\n",
       "    </tr>\n",
       "    <tr>\n",
       "      <th>10g</th>\n",
       "      <td>327.68</td>\n",
       "      <td>20971.52</td>\n",
       "    </tr>\n",
       "    <tr>\n",
       "      <th>40g</th>\n",
       "      <td>1310.72</td>\n",
       "      <td>83886.08</td>\n",
       "    </tr>\n",
       "    <tr>\n",
       "      <th>100g</th>\n",
       "      <td>3276.80</td>\n",
       "      <td>209715.20</td>\n",
       "    </tr>\n",
       "  </tbody>\n",
       "</table>\n",
       "</div>"
      ],
      "text/plain": [
       "                   cores       pubs\n",
       "bandwidth (bps)                    \n",
       "500k                0.05       1.00\n",
       "31.25m              1.00      64.00\n",
       "10g               327.68   20971.52\n",
       "40g              1310.72   83886.08\n",
       "100g             3276.80  209715.20"
      ]
     },
     "execution_count": 18,
     "metadata": {},
     "output_type": "execute_result"
    }
   ],
   "source": [
    "subpub_bw_usage = pd.DataFrame()\n",
    "\n",
    "subpub_bw_usage['bandwidth (bps)'] = ['500k', '31.25m',     '10g',      '40g',    '100g']\n",
    "subpub_bw_usage['cores']           = [  0.05,        1,    327.68,    1310.72,    3276.8]\n",
    "subpub_bw_usage['pubs']            = [     1,       64, 64*327.68, 64*1310.72, 64*3276.8]\n",
    "\n",
    "subpub_bw_usage = subpub_bw_usage.set_index('bandwidth (bps)')\n",
    "\n",
    "subpub_bw_usage"
   ]
  },
  {
   "cell_type": "code",
   "execution_count": 19,
   "metadata": {
    "collapsed": false
   },
   "outputs": [
    {
     "data": {
      "text/plain": [
       "<matplotlib.axes._subplots.AxesSubplot at 0x7fcdbacc3f60>"
      ]
     },
     "execution_count": 19,
     "metadata": {},
     "output_type": "execute_result"
    },
    {
     "data": {
      "image/png": "[encoded data removed]",
      "text/plain": [
       "<matplotlib.figure.Figure at 0x7fcdbb0194e0>"
      ]
     },
     "metadata": {},
     "output_type": "display_data"
    }
   ],
   "source": [
    "subpub_bw_usage[['cores']].plot(kind='bar', logy=True)"
   ]
  },
  {
   "cell_type": "code",
   "execution_count": 24,
   "metadata": {
    "collapsed": false
   },
   "outputs": [
    {
     "data": {
      "text/plain": [
       "<matplotlib.axes._subplots.AxesSubplot at 0x7fcdba69ff98>"
      ]
     },
     "execution_count": 24,
     "metadata": {},
     "output_type": "execute_result"
    },
    {
     "data": {
      "image/png": "[encoded data removed]",
      "text/plain": [
       "<matplotlib.figure.Figure at 0x7fcdba680208>"
      ]
     },
     "metadata": {},
     "output_type": "display_data"
    }
   ],
   "source": [
    "subpub_bw_usage[['pubs']].plot(kind='bar', logy=True)"
   ]
  },
  {
   "cell_type": "code",
   "execution_count": null,
   "metadata": {
    "collapsed": true
   },
   "outputs": [],
   "source": []
  }
 ],
 "metadata": {
  "kernelspec": {
   "display_name": "Python 3",
   "language": "python",
   "name": "python3"
  },
  "language_info": {
   "codemirror_mode": {
    "name": "ipython",
    "version": 3
   },
   "file_extension": ".py",
   "mimetype": "text/x-python",
   "name": "python",
   "nbconvert_exporter": "python",
   "pygments_lexer": "ipython3",
   "version": "3.5.2"
  }
 },
 "nbformat": 4,
 "nbformat_minor": 2
}
