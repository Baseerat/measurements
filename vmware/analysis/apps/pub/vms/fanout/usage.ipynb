{
 "cells": [
  {
   "cell_type": "code",
   "execution_count": 1,
   "metadata": {
    "collapsed": true
   },
   "outputs": [],
   "source": [
    "import os\n",
    "import glob\n",
    "from functools import reduce"
   ]
  },
  {
   "cell_type": "code",
   "execution_count": 2,
   "metadata": {
    "collapsed": false
   },
   "outputs": [],
   "source": [
    "import seaborn as sns\n",
    "import numpy as np\n",
    "import pandas as pd\n",
    "import matplotlib.pyplot as plt\n",
    "plt.style.use('ggplot')\n",
    "import seaborn as sns\n",
    "\n",
    "# display plots in the notebook\n",
    "%matplotlib inline\n",
    "\n",
    "# increase default figure and font sizes for easier viewing\n",
    "plt.rcParams['figure.figsize'] = (8, 6)\n",
    "plt.rcParams['font.size'] = 14"
   ]
  },
  {
   "cell_type": "markdown",
   "metadata": {},
   "source": [
    "## Analysis\n",
    "---"
   ]
  },
  {
   "cell_type": "code",
   "execution_count": 11,
   "metadata": {
    "collapsed": true
   },
   "outputs": [],
   "source": [
    "results_dir = \"../../../../../results/apps/pub/vms/fanout/\"\n",
    "date_time_list = [\"20170827035916.747697\"]\n",
    "\n",
    "cols = ['in (kbps)', 'out (kbps)'] "
   ]
  },
  {
   "cell_type": "code",
   "execution_count": 28,
   "metadata": {
    "collapsed": false
   },
   "outputs": [
    {
     "name": "stderr",
     "output_type": "stream",
     "text": [
      "/opt/conda/lib/python3.5/site-packages/ipykernel/__main__.py:12: ParserWarning: Falling back to the 'python' engine because the 'c' engine does not support skipfooter; you can avoid this warning by specifying engine='python'.\n",
      "/opt/conda/lib/python3.5/site-packages/pandas/io/parsers.py:2138: FutureWarning: split() requires a non-empty pattern match.\n",
      "  yield pat.split(line.strip())\n",
      "/opt/conda/lib/python3.5/site-packages/pandas/io/parsers.py:2140: FutureWarning: split() requires a non-empty pattern match.\n",
      "  yield pat.split(line.strip())\n",
      "/opt/conda/lib/python3.5/site-packages/ipykernel/__main__.py:9: ParserWarning: Falling back to the 'python' engine because the 'c' engine does not support skipfooter; you can avoid this warning by specifying engine='python'.\n"
     ]
    }
   ],
   "source": [
    "dish_data_dict = {}\n",
    "dish_data_dict['baseerat'] = {}\n",
    "dish_data_dict['unicast'] = {}\n",
    "\n",
    "for date_time in date_time_list:\n",
    "    for i in glob.glob(results_dir + date_time + \"/dish_stats_with__*\"):\n",
    "        scheme = i.split('__')[2].split('.')[1]\n",
    "        if scheme == 'baseerat':\n",
    "            dish_data_dict[scheme][1] = pd.read_csv(i, sep='\\s*', header=None, skiprows=4, skipfooter=1, na_filter=False, names = cols)\n",
    "        else:\n",
    "            key = eval(i.split('__')[1].split('_')[1])\n",
    "            dish_data_dict[scheme][key] = pd.read_csv(i, sep='\\s*', header=None, skiprows=4, skipfooter=1, na_filter=False, names = cols)"
   ]
  },
  {
   "cell_type": "code",
   "execution_count": 33,
   "metadata": {
    "collapsed": false
   },
   "outputs": [
    {
     "data": {
      "text/html": [
       "<div>\n",
       "<style>\n",
       "    .dataframe thead tr:only-child th {\n",
       "        text-align: right;\n",
       "    }\n",
       "\n",
       "    .dataframe thead th {\n",
       "        text-align: left;\n",
       "    }\n",
       "\n",
       "    .dataframe tbody tr th {\n",
       "        vertical-align: top;\n",
       "    }\n",
       "</style>\n",
       "<table border=\"1\" class=\"dataframe\">\n",
       "  <thead>\n",
       "    <tr style=\"text-align: right;\">\n",
       "      <th></th>\n",
       "      <th>unicast: throughput (kbps)</th>\n",
       "      <th>baseerat: throughput (kbps)</th>\n",
       "    </tr>\n",
       "    <tr>\n",
       "      <th>subscribers</th>\n",
       "      <th></th>\n",
       "      <th></th>\n",
       "    </tr>\n",
       "  </thead>\n",
       "  <tbody>\n",
       "    <tr>\n",
       "      <th>1</th>\n",
       "      <td>51099.023667</td>\n",
       "      <td>52937.975517</td>\n",
       "    </tr>\n",
       "    <tr>\n",
       "      <th>2</th>\n",
       "      <td>34821.176667</td>\n",
       "      <td>52937.975517</td>\n",
       "    </tr>\n",
       "    <tr>\n",
       "      <th>4</th>\n",
       "      <td>18006.987353</td>\n",
       "      <td>52937.975517</td>\n",
       "    </tr>\n",
       "    <tr>\n",
       "      <th>8</th>\n",
       "      <td>4009.291333</td>\n",
       "      <td>52937.975517</td>\n",
       "    </tr>\n",
       "    <tr>\n",
       "      <th>16</th>\n",
       "      <td>1852.993871</td>\n",
       "      <td>52937.975517</td>\n",
       "    </tr>\n",
       "    <tr>\n",
       "      <th>32</th>\n",
       "      <td>1014.201333</td>\n",
       "      <td>52937.975517</td>\n",
       "    </tr>\n",
       "    <tr>\n",
       "      <th>64</th>\n",
       "      <td>546.794667</td>\n",
       "      <td>52937.975517</td>\n",
       "    </tr>\n",
       "    <tr>\n",
       "      <th>128</th>\n",
       "      <td>276.811159</td>\n",
       "      <td>52937.975517</td>\n",
       "    </tr>\n",
       "  </tbody>\n",
       "</table>\n",
       "</div>"
      ],
      "text/plain": [
       "             unicast: throughput (kbps)  baseerat: throughput (kbps)\n",
       "subscribers                                                         \n",
       "1                          51099.023667                 52937.975517\n",
       "2                          34821.176667                 52937.975517\n",
       "4                          18006.987353                 52937.975517\n",
       "8                           4009.291333                 52937.975517\n",
       "16                          1852.993871                 52937.975517\n",
       "32                          1014.201333                 52937.975517\n",
       "64                           546.794667                 52937.975517\n",
       "128                          276.811159                 52937.975517"
      ]
     },
     "execution_count": 33,
     "metadata": {},
     "output_type": "execute_result"
    }
   ],
   "source": [
    "plot_data_dict = pd.DataFrame()\n",
    "\n",
    "cols = [1, 2, 4, 8, 16, 32, 64, 128]\n",
    "\n",
    "plot_data_dict['subscribers'] = cols\n",
    "\n",
    "rows = []\n",
    "for i in plot_data_dict['subscribers']:\n",
    "    rows += [dish_data_dict['unicast'][i]['in (kbps)'].mean()]\n",
    "plot_data_dict['unicast: throughput (kbps)'] = rows    \n",
    "\n",
    "rows = []\n",
    "for i in plot_data_dict['subscribers']:\n",
    "    rows += [dish_data_dict['baseerat'][1]['in (kbps)'].mean()]\n",
    "plot_data_dict['baseerat: throughput (kbps)'] = rows    \n",
    "\n",
    "plot_data_dict = plot_data_dict.set_index('subscribers')\n",
    "\n",
    "plot_data_dict"
   ]
  },
  {
   "cell_type": "code",
   "execution_count": 34,
   "metadata": {
    "collapsed": false
   },
   "outputs": [
    {
     "data": {
      "text/plain": [
       "<matplotlib.axes._subplots.AxesSubplot at 0x7f9f8d9b96a0>"
      ]
     },
     "execution_count": 34,
     "metadata": {},
     "output_type": "execute_result"
    },
    {
     "data": {
      "image/png": "[encoded data removed]",
      "text/plain": [
       "<matplotlib.figure.Figure at 0x7f9f8d92df60>"
      ]
     },
     "metadata": {},
     "output_type": "display_data"
    }
   ],
   "source": [
    "plot_data_dict[['unicast: throughput (kbps)', 'baseerat: throughput (kbps)']].plot(kind='line')"
   ]
  },
  {
   "cell_type": "code",
   "execution_count": 35,
   "metadata": {
    "collapsed": false
   },
   "outputs": [
    {
     "data": {
      "text/plain": [
       "<matplotlib.axes._subplots.AxesSubplot at 0x7f9f8b8d7b70>"
      ]
     },
     "execution_count": 35,
     "metadata": {},
     "output_type": "execute_result"
    },
    {
     "data": {
      "image/png": "[encoded data removed]",
      "text/plain": [
       "<matplotlib.figure.Figure at 0x7f9f8b872470>"
      ]
     },
     "metadata": {},
     "output_type": "display_data"
    }
   ],
   "source": [
    "plot_data_dict[['unicast: throughput (kbps)', 'baseerat: throughput (kbps)']].plot(kind='bar')"
   ]
  },
  {
   "cell_type": "code",
   "execution_count": null,
   "metadata": {
    "collapsed": true
   },
   "outputs": [],
   "source": []
  }
 ],
 "metadata": {
  "kernelspec": {
   "display_name": "Python 3",
   "language": "python",
   "name": "python3"
  },
  "language_info": {
   "codemirror_mode": {
    "name": "ipython",
    "version": 3
   },
   "file_extension": ".py",
   "mimetype": "text/x-python",
   "name": "python",
   "nbconvert_exporter": "python",
   "pygments_lexer": "ipython3",
   "version": "3.5.2"
  }
 },
 "nbformat": 4,
 "nbformat_minor": 2
}
