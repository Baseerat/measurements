{
 "cells": [
  {
   "cell_type": "code",
   "execution_count": 3,
   "metadata": {
    "collapsed": true
   },
   "outputs": [],
   "source": [
    "import warnings\n",
    "warnings.filterwarnings('ignore')\n",
    "# For ignoring warnings printed by R magic commands"
   ]
  },
  {
   "cell_type": "code",
   "execution_count": 4,
   "metadata": {
    "collapsed": true
   },
   "outputs": [],
   "source": [
    "import os\n",
    "import glob"
   ]
  },
  {
   "cell_type": "code",
   "execution_count": 5,
   "metadata": {
    "collapsed": true
   },
   "outputs": [],
   "source": [
    "import seaborn as sns\n",
    "import numpy as np\n",
    "import pandas as pd\n",
    "import matplotlib.pyplot as plt\n",
    "plt.style.use('ggplot')\n",
    "import seaborn as sns\n",
    "\n",
    "# display plots in the notebook\n",
    "%matplotlib inline\n",
    "\n",
    "# increase default figure and font sizes for easier viewing\n",
    "plt.rcParams['figure.figsize'] = (8, 6)\n",
    "plt.rcParams['font.size'] = 14"
   ]
  },
  {
   "cell_type": "code",
   "execution_count": 6,
   "metadata": {
    "collapsed": true
   },
   "outputs": [],
   "source": [
    "# Load R magic\n",
    "%load_ext rpy2.ipython\n",
    "# Import ggplot2\n",
    "%R require(ggplot2);"
   ]
  },
  {
   "cell_type": "code",
   "execution_count": 49,
   "metadata": {
    "collapsed": true
   },
   "outputs": [],
   "source": [
    "# If experiment parameters change, modify this function\n",
    "def AddParametersAsColumns(df, file, protocol):\n",
    "    expParams = file.split('/')[-1].split('__')\n",
    "    df['numSubscribers'] = eval(expParams[1].split('_')[1])\n",
    "    df['scheme'] = expParams[-1].split('.')[1]\n",
    "    \n",
    "    if protocol == 'radio':\n",
    "        df['period (ms)'] = expParams[-1].split('.')[0].split('(')[1].split(')')[0]\n",
    "    \n",
    "# Turns all files of a given filname across a set of folders into a single dataframe\n",
    "def DataSetAsDataFrame(files, headers, header=None, reset_index=True, protocol='dish'):\n",
    "    # Read dataset as dataframe\n",
    "    def ReadDataSet(file):\n",
    "        if protocol == 'dish':\n",
    "            df = pd.read_csv(file, sep='\\s*', header=header, skiprows=4, na_filter=False, names=headers)\n",
    "        else:\n",
    "            df = pd.read_csv(file, sep=' ', header=header, na_filter=False, names=headers)\n",
    "        AddParametersAsColumns(df, file, protocol)\n",
    "        return df\n",
    "    # Get the list of dataframes\n",
    "    dfs = map(ReadDataSet, files)\n",
    "    # Combine into a single dataframe\n",
    "    df = pd.concat(dfs)\n",
    "    if reset_index:\n",
    "        df.reset_index(inplace=True)\n",
    "        df.drop('index', axis=1, inplace=True)\n",
    "    return df"
   ]
  },
  {
   "cell_type": "code",
   "execution_count": null,
   "metadata": {
    "collapsed": true
   },
   "outputs": [],
   "source": []
  },
  {
   "cell_type": "code",
   "execution_count": 8,
   "metadata": {
    "collapsed": true
   },
   "outputs": [],
   "source": [
    "%%R \n",
    "plotTheme <- theme(legend.title=element_blank(), legend.position=\"top\", legend.text=element_text(size=6))"
   ]
  },
  {
   "cell_type": "code",
   "execution_count": 37,
   "metadata": {
    "collapsed": true
   },
   "outputs": [],
   "source": [
    "directory = '../../../../../results/apps/pub/vms/fanout/'\n",
    "dish_data_time_folder = '20171217231930.266914/'\n",
    "dish_files = glob.glob(directory + dish_data_time_folder + 'dish_stats_with__*')\n",
    "radio_data_time_folder = '20170827074947.700696/'\n",
    "radio_files = glob.glob(directory + radio_data_time_folder + 'radio_stats_with__*')"
   ]
  },
  {
   "cell_type": "code",
   "execution_count": 24,
   "metadata": {
    "collapsed": true
   },
   "outputs": [],
   "source": [
    "message_size = 51*8 # in bits"
   ]
  },
  {
   "cell_type": "code",
   "execution_count": null,
   "metadata": {
    "collapsed": true
   },
   "outputs": [],
   "source": []
  },
  {
   "cell_type": "code",
   "execution_count": 50,
   "metadata": {
    "collapsed": true
   },
   "outputs": [],
   "source": [
    "dish_df = DataSetAsDataFrame(dish_files, ['in (kbps)', 'out (kbps)'])"
   ]
  },
  {
   "cell_type": "code",
   "execution_count": 51,
   "metadata": {
    "collapsed": false
   },
   "outputs": [
    {
     "data": {
      "text/html": [
       "<div>\n",
       "<style>\n",
       "    .dataframe thead tr:only-child th {\n",
       "        text-align: right;\n",
       "    }\n",
       "\n",
       "    .dataframe thead th {\n",
       "        text-align: left;\n",
       "    }\n",
       "\n",
       "    .dataframe tbody tr th {\n",
       "        vertical-align: top;\n",
       "    }\n",
       "</style>\n",
       "<table border=\"1\" class=\"dataframe\">\n",
       "  <thead>\n",
       "    <tr style=\"text-align: right;\">\n",
       "      <th></th>\n",
       "      <th>in (kbps)</th>\n",
       "      <th>out (kbps)</th>\n",
       "      <th>numSubscribers</th>\n",
       "      <th>scheme</th>\n",
       "    </tr>\n",
       "  </thead>\n",
       "  <tbody>\n",
       "    <tr>\n",
       "      <th>0</th>\n",
       "      <td>81630.94</td>\n",
       "      <td>0.0</td>\n",
       "      <td>8</td>\n",
       "      <td>baseerat</td>\n",
       "    </tr>\n",
       "    <tr>\n",
       "      <th>1</th>\n",
       "      <td>80950.90</td>\n",
       "      <td>0.0</td>\n",
       "      <td>8</td>\n",
       "      <td>baseerat</td>\n",
       "    </tr>\n",
       "    <tr>\n",
       "      <th>2</th>\n",
       "      <td>80190.05</td>\n",
       "      <td>0.0</td>\n",
       "      <td>8</td>\n",
       "      <td>baseerat</td>\n",
       "    </tr>\n",
       "    <tr>\n",
       "      <th>3</th>\n",
       "      <td>76888.28</td>\n",
       "      <td>0.0</td>\n",
       "      <td>8</td>\n",
       "      <td>baseerat</td>\n",
       "    </tr>\n",
       "    <tr>\n",
       "      <th>4</th>\n",
       "      <td>81164.18</td>\n",
       "      <td>0.0</td>\n",
       "      <td>8</td>\n",
       "      <td>baseerat</td>\n",
       "    </tr>\n",
       "  </tbody>\n",
       "</table>\n",
       "</div>"
      ],
      "text/plain": [
       "   in (kbps)  out (kbps)  numSubscribers    scheme\n",
       "0   81630.94         0.0               8  baseerat\n",
       "1   80950.90         0.0               8  baseerat\n",
       "2   80190.05         0.0               8  baseerat\n",
       "3   76888.28         0.0               8  baseerat\n",
       "4   81164.18         0.0               8  baseerat"
      ]
     },
     "execution_count": 51,
     "metadata": {},
     "output_type": "execute_result"
    }
   ],
   "source": [
    "dish_df.head()"
   ]
  },
  {
   "cell_type": "code",
   "execution_count": 55,
   "metadata": {
    "collapsed": true
   },
   "outputs": [],
   "source": [
    "dish_df['in (mbps)'] = dish_df['in (kbps)'] / 1024\n",
    "dish_df['in (krps)'] = dish_df['in (kbps)'] / message_size"
   ]
  },
  {
   "cell_type": "code",
   "execution_count": 56,
   "metadata": {
    "collapsed": false
   },
   "outputs": [
    {
     "data": {
      "text/html": [
       "<div>\n",
       "<style>\n",
       "    .dataframe thead tr:only-child th {\n",
       "        text-align: right;\n",
       "    }\n",
       "\n",
       "    .dataframe thead th {\n",
       "        text-align: left;\n",
       "    }\n",
       "\n",
       "    .dataframe tbody tr th {\n",
       "        vertical-align: top;\n",
       "    }\n",
       "</style>\n",
       "<table border=\"1\" class=\"dataframe\">\n",
       "  <thead>\n",
       "    <tr style=\"text-align: right;\">\n",
       "      <th></th>\n",
       "      <th>in (kbps)</th>\n",
       "      <th>out (kbps)</th>\n",
       "      <th>numSubscribers</th>\n",
       "      <th>scheme</th>\n",
       "      <th>in (mbps)</th>\n",
       "      <th>in (krps)</th>\n",
       "    </tr>\n",
       "  </thead>\n",
       "  <tbody>\n",
       "    <tr>\n",
       "      <th>0</th>\n",
       "      <td>81630.94</td>\n",
       "      <td>0.0</td>\n",
       "      <td>8</td>\n",
       "      <td>baseerat</td>\n",
       "      <td>79.717715</td>\n",
       "      <td>200.075833</td>\n",
       "    </tr>\n",
       "    <tr>\n",
       "      <th>1</th>\n",
       "      <td>80950.90</td>\n",
       "      <td>0.0</td>\n",
       "      <td>8</td>\n",
       "      <td>baseerat</td>\n",
       "      <td>79.053613</td>\n",
       "      <td>198.409069</td>\n",
       "    </tr>\n",
       "    <tr>\n",
       "      <th>2</th>\n",
       "      <td>80190.05</td>\n",
       "      <td>0.0</td>\n",
       "      <td>8</td>\n",
       "      <td>baseerat</td>\n",
       "      <td>78.310596</td>\n",
       "      <td>196.544240</td>\n",
       "    </tr>\n",
       "    <tr>\n",
       "      <th>3</th>\n",
       "      <td>76888.28</td>\n",
       "      <td>0.0</td>\n",
       "      <td>8</td>\n",
       "      <td>baseerat</td>\n",
       "      <td>75.086211</td>\n",
       "      <td>188.451667</td>\n",
       "    </tr>\n",
       "    <tr>\n",
       "      <th>4</th>\n",
       "      <td>81164.18</td>\n",
       "      <td>0.0</td>\n",
       "      <td>8</td>\n",
       "      <td>baseerat</td>\n",
       "      <td>79.261895</td>\n",
       "      <td>198.931814</td>\n",
       "    </tr>\n",
       "  </tbody>\n",
       "</table>\n",
       "</div>"
      ],
      "text/plain": [
       "   in (kbps)  out (kbps)  numSubscribers    scheme  in (mbps)   in (krps)\n",
       "0   81630.94         0.0               8  baseerat  79.717715  200.075833\n",
       "1   80950.90         0.0               8  baseerat  79.053613  198.409069\n",
       "2   80190.05         0.0               8  baseerat  78.310596  196.544240\n",
       "3   76888.28         0.0               8  baseerat  75.086211  188.451667\n",
       "4   81164.18         0.0               8  baseerat  79.261895  198.931814"
      ]
     },
     "execution_count": 56,
     "metadata": {},
     "output_type": "execute_result"
    }
   ],
   "source": [
    "dish_df.head()"
   ]
  },
  {
   "cell_type": "code",
   "execution_count": 57,
   "metadata": {
    "collapsed": false
   },
   "outputs": [
    {
     "data": {
      "text/plain": [
       "count    295.000000\n",
       "mean      72.098332\n",
       "std        5.161891\n",
       "min       49.322832\n",
       "25%       69.756191\n",
       "50%       73.005781\n",
       "75%       75.257607\n",
       "max       80.961982\n",
       "Name: in (mbps), dtype: float64"
      ]
     },
     "execution_count": 57,
     "metadata": {},
     "output_type": "execute_result"
    }
   ],
   "source": [
    "dish_df['in (mbps)'].where(dish_df['scheme'] == 'baseerat').describe()"
   ]
  },
  {
   "cell_type": "code",
   "execution_count": 58,
   "metadata": {
    "collapsed": false
   },
   "outputs": [
    {
     "data": {
      "text/plain": [
       "180.95267539049507"
      ]
     },
     "execution_count": 58,
     "metadata": {},
     "output_type": "execute_result"
    }
   ],
   "source": [
    "dish_df['in (krps)'].where(dish_df['scheme'] == 'baseerat').mean()"
   ]
  },
  {
   "cell_type": "code",
   "execution_count": 59,
   "metadata": {
    "collapsed": false
   },
   "outputs": [
    {
     "data": {
      "text/plain": [
       "count    301.000000\n",
       "mean      16.482798\n",
       "std       24.689941\n",
       "min        0.071904\n",
       "25%        0.300430\n",
       "50%        1.416279\n",
       "75%       27.020654\n",
       "max       80.961982\n",
       "Name: in (mbps), dtype: float64"
      ]
     },
     "execution_count": 59,
     "metadata": {},
     "output_type": "execute_result"
    }
   ],
   "source": [
    "dish_df['in (mbps)'].where(dish_df['scheme'] == 'unicast').describe()"
   ]
  },
  {
   "cell_type": "code",
   "execution_count": 61,
   "metadata": {
    "collapsed": false
   },
   "outputs": [
    {
     "data": {
      "image/png": "[encoded data removed]",
      "text/plain": [
       "<matplotlib.figure.Figure at 0x7f469e0d3c18>"
      ]
     },
     "metadata": {},
     "output_type": "display_data"
    }
   ],
   "source": [
    "sns.set(style='ticks', font_scale=1.3, rc={\"lines.linewidth\": 0.9})\n",
    "ax = sns.factorplot(x='numSubscribers', y='in (mbps)', hue='scheme', data=dish_df, palette=\"Greys\",\n",
    "                   size=3, kind=\"point\", legend=True, legend_out=False, aspect=1.5, ci='sd', scale=1.5)\n",
    "ax.set(xlabel='No. of Subscribers', ylabel='Bandwidth (Mbps)')\n",
    "ax.set(ylim=(0, 90))\n",
    "plt.savefig('zmq-bandwidth-mbps.jpg')\n",
    "plt.show()"
   ]
  },
  {
   "cell_type": "code",
   "execution_count": 65,
   "metadata": {
    "collapsed": false
   },
   "outputs": [
    {
     "data": {
      "image/png": "[encoded data removed]",
      "text/plain": [
       "<matplotlib.figure.Figure at 0x7f469e074518>"
      ]
     },
     "metadata": {},
     "output_type": "display_data"
    }
   ],
   "source": [
    "sns.set(style='ticks', font_scale=1.3, rc={\"lines.linewidth\": 0.9})\n",
    "ax = sns.factorplot(x='numSubscribers', y='in (krps)', hue='scheme', data=dish_df, palette=\"Greys\",\n",
    "                   size=3, kind=\"point\", legend=True, legend_out=False, aspect=1.5, ci='sd', scale=1.5)\n",
    "ax.set(xlabel='No. of Subscribers', ylabel='Bandwidth (Krps)')\n",
    "ax.set(ylim=(0, 210))\n",
    "plt.savefig('zmq-bandwidth-krps.jpg')\n",
    "plt.show()"
   ]
  },
  {
   "cell_type": "code",
   "execution_count": 70,
   "metadata": {
    "collapsed": true
   },
   "outputs": [],
   "source": [
    "dish_df[['scheme', 'numSubscribers', 'in (kbps)', 'in (mbps)', 'in (krps)']].to_csv(directory + 'dish_throughput_stats.csv', index=False)"
   ]
  },
  {
   "cell_type": "code",
   "execution_count": null,
   "metadata": {
    "collapsed": true
   },
   "outputs": [],
   "source": []
  },
  {
   "cell_type": "code",
   "execution_count": 52,
   "metadata": {
    "collapsed": true
   },
   "outputs": [],
   "source": [
    "radio_df = DataSetAsDataFrame(radio_files, ['%cpu', '%mem'], protocol='radio')"
   ]
  },
  {
   "cell_type": "code",
   "execution_count": 53,
   "metadata": {
    "collapsed": false
   },
   "outputs": [
    {
     "data": {
      "text/html": [
       "<div>\n",
       "<style>\n",
       "    .dataframe thead tr:only-child th {\n",
       "        text-align: right;\n",
       "    }\n",
       "\n",
       "    .dataframe thead th {\n",
       "        text-align: left;\n",
       "    }\n",
       "\n",
       "    .dataframe tbody tr th {\n",
       "        vertical-align: top;\n",
       "    }\n",
       "</style>\n",
       "<table border=\"1\" class=\"dataframe\">\n",
       "  <thead>\n",
       "    <tr style=\"text-align: right;\">\n",
       "      <th></th>\n",
       "      <th>%cpu</th>\n",
       "      <th>%mem</th>\n",
       "      <th>numSubscribers</th>\n",
       "      <th>scheme</th>\n",
       "      <th>period (ms)</th>\n",
       "    </tr>\n",
       "  </thead>\n",
       "  <tbody>\n",
       "    <tr>\n",
       "      <th>0</th>\n",
       "      <td>18.3</td>\n",
       "      <td>0.1</td>\n",
       "      <td>32</td>\n",
       "      <td>unicast</td>\n",
       "      <td>1</td>\n",
       "    </tr>\n",
       "    <tr>\n",
       "      <th>1</th>\n",
       "      <td>19.0</td>\n",
       "      <td>0.1</td>\n",
       "      <td>32</td>\n",
       "      <td>unicast</td>\n",
       "      <td>1</td>\n",
       "    </tr>\n",
       "    <tr>\n",
       "      <th>2</th>\n",
       "      <td>19.3</td>\n",
       "      <td>0.1</td>\n",
       "      <td>32</td>\n",
       "      <td>unicast</td>\n",
       "      <td>1</td>\n",
       "    </tr>\n",
       "    <tr>\n",
       "      <th>3</th>\n",
       "      <td>19.0</td>\n",
       "      <td>0.1</td>\n",
       "      <td>32</td>\n",
       "      <td>unicast</td>\n",
       "      <td>1</td>\n",
       "    </tr>\n",
       "    <tr>\n",
       "      <th>4</th>\n",
       "      <td>18.3</td>\n",
       "      <td>0.1</td>\n",
       "      <td>32</td>\n",
       "      <td>unicast</td>\n",
       "      <td>1</td>\n",
       "    </tr>\n",
       "  </tbody>\n",
       "</table>\n",
       "</div>"
      ],
      "text/plain": [
       "   %cpu  %mem  numSubscribers   scheme period (ms)\n",
       "0  18.3   0.1              32  unicast           1\n",
       "1  19.0   0.1              32  unicast           1\n",
       "2  19.3   0.1              32  unicast           1\n",
       "3  19.0   0.1              32  unicast           1\n",
       "4  18.3   0.1              32  unicast           1"
      ]
     },
     "execution_count": 53,
     "metadata": {},
     "output_type": "execute_result"
    }
   ],
   "source": [
    "radio_df.head()"
   ]
  },
  {
   "cell_type": "code",
   "execution_count": 67,
   "metadata": {
    "collapsed": false
   },
   "outputs": [
    {
     "data": {
      "text/plain": [
       "count    10.000000\n",
       "mean      4.970000\n",
       "std       0.397352\n",
       "min       4.300000\n",
       "25%       4.700000\n",
       "50%       5.000000\n",
       "75%       5.225000\n",
       "max       5.700000\n",
       "Name: %cpu, dtype: float64"
      ]
     },
     "execution_count": 67,
     "metadata": {},
     "output_type": "execute_result"
    }
   ],
   "source": [
    "radio_df['%cpu'].where(radio_df['scheme'] == 'baseerat').where(radio_df['numSubscribers'] == 1).describe()"
   ]
  },
  {
   "cell_type": "code",
   "execution_count": 68,
   "metadata": {
    "collapsed": false
   },
   "outputs": [
    {
     "data": {
      "text/plain": [
       "count    10.000000\n",
       "mean     32.050000\n",
       "std       0.397911\n",
       "min      31.600000\n",
       "25%      31.600000\n",
       "50%      32.300000\n",
       "75%      32.300000\n",
       "max      32.600000\n",
       "Name: %cpu, dtype: float64"
      ]
     },
     "execution_count": 68,
     "metadata": {},
     "output_type": "execute_result"
    }
   ],
   "source": [
    "radio_df['%cpu'].where(radio_df['scheme'] == 'unicast').where(radio_df['numSubscribers'] == 64).describe()"
   ]
  },
  {
   "cell_type": "code",
   "execution_count": 69,
   "metadata": {
    "collapsed": false
   },
   "outputs": [
    {
     "data": {
      "image/png": "[encoded data removed]",
      "text/plain": [
       "<matplotlib.figure.Figure at 0x7f46960bb5c0>"
      ]
     },
     "metadata": {},
     "output_type": "display_data"
    }
   ],
   "source": [
    "sns.set(style='ticks', font_scale=1.3, rc={\"lines.linewidth\": 0.9})\n",
    "ax = sns.factorplot(x='numSubscribers', y='%cpu', hue='scheme', data=radio_df, palette=\"Greys\",\n",
    "                   size=3, kind=\"bar\", legend=True, legend_out=False, aspect=1.5, ci='sd')\n",
    "ax.set(xlabel='No. of Subscribers', ylabel='CPU Usage (%)')\n",
    "plt.savefig('zmq-cpu-usage.jpg')\n",
    "plt.show()"
   ]
  },
  {
   "cell_type": "code",
   "execution_count": 71,
   "metadata": {
    "collapsed": true
   },
   "outputs": [],
   "source": [
    "radio_df.to_csv(directory + 'radio_cpu_stats.csv', index=False)"
   ]
  },
  {
   "cell_type": "code",
   "execution_count": null,
   "metadata": {
    "collapsed": true
   },
   "outputs": [],
   "source": []
  }
 ],
 "metadata": {
  "kernelspec": {
   "display_name": "Python 3",
   "language": "python",
   "name": "python3"
  },
  "language_info": {
   "codemirror_mode": {
    "name": "ipython",
    "version": 3
   },
   "file_extension": ".py",
   "mimetype": "text/x-python",
   "name": "python",
   "nbconvert_exporter": "python",
   "pygments_lexer": "ipython3",
   "version": "3.5.2"
  }
 },
 "nbformat": 4,
 "nbformat_minor": 2
}
