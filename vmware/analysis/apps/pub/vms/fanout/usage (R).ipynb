{
 "cells": [
  {
   "cell_type": "code",
   "execution_count": 1,
   "metadata": {},
   "outputs": [
    {
     "name": "stderr",
     "output_type": "stream",
     "text": [
      "Loading required package: ggplot2\n",
      "Loading required package: data.table\n",
      "Loading required package: Hmisc\n",
      "Warning message in library(package, lib.loc = lib.loc, character.only = TRUE, logical.return = TRUE, :\n",
      "“there is no package called ‘Hmisc’”"
     ]
    }
   ],
   "source": [
    "require(ggplot2)\n",
    "require(data.table)\n",
    "require(Hmisc)"
   ]
  },
  {
   "cell_type": "code",
   "execution_count": null,
   "metadata": {
    "collapsed": true
   },
   "outputs": [],
   "source": []
  },
  {
   "cell_type": "code",
   "execution_count": 2,
   "metadata": {
    "collapsed": true
   },
   "outputs": [],
   "source": [
    "directory = \"../../../../../results/apps/pub/vms/fanout/\"\n",
    "plotTheme <- theme(legend.title=element_blank(), legend.position=\"top\", legend.text=element_text(size=6))"
   ]
  },
  {
   "cell_type": "code",
   "execution_count": null,
   "metadata": {
    "collapsed": true
   },
   "outputs": [],
   "source": []
  },
  {
   "cell_type": "code",
   "execution_count": 3,
   "metadata": {
    "collapsed": true
   },
   "outputs": [],
   "source": [
    "dishThroughputStats <- fread(paste(directory, \"dish_throughput_stats.csv\", sep=\"/\"), sep=\",\", header=TRUE)"
   ]
  },
  {
   "cell_type": "code",
   "execution_count": 4,
   "metadata": {},
   "outputs": [
    {
     "data": {
      "text/html": [
       "<table>\n",
       "<thead><tr><th scope=col>scheme</th><th scope=col>numSubscribers</th><th scope=col>in (kbps)</th><th scope=col>in (mbps)</th><th scope=col>in (krps)</th></tr></thead>\n",
       "<tbody>\n",
       "\t<tr><td>baseerat</td><td>8       </td><td>81630.94</td><td>79.71771</td><td>200.0758</td></tr>\n",
       "\t<tr><td>baseerat</td><td>8       </td><td>80950.90</td><td>79.05361</td><td>198.4091</td></tr>\n",
       "\t<tr><td>baseerat</td><td>8       </td><td>80190.05</td><td>78.31060</td><td>196.5442</td></tr>\n",
       "\t<tr><td>baseerat</td><td>8       </td><td>76888.28</td><td>75.08621</td><td>188.4517</td></tr>\n",
       "\t<tr><td>baseerat</td><td>8       </td><td>81164.18</td><td>79.26189</td><td>198.9318</td></tr>\n",
       "\t<tr><td>baseerat</td><td>8       </td><td>77794.66</td><td>75.97135</td><td>190.6732</td></tr>\n",
       "</tbody>\n",
       "</table>\n"
      ],
      "text/latex": [
       "\\begin{tabular}{r|lllll}\n",
       " scheme & numSubscribers & in (kbps) & in (mbps) & in (krps)\\\\\n",
       "\\hline\n",
       "\t baseerat & 8        & 81630.94 & 79.71771 & 200.0758\\\\\n",
       "\t baseerat & 8        & 80950.90 & 79.05361 & 198.4091\\\\\n",
       "\t baseerat & 8        & 80190.05 & 78.31060 & 196.5442\\\\\n",
       "\t baseerat & 8        & 76888.28 & 75.08621 & 188.4517\\\\\n",
       "\t baseerat & 8        & 81164.18 & 79.26189 & 198.9318\\\\\n",
       "\t baseerat & 8        & 77794.66 & 75.97135 & 190.6732\\\\\n",
       "\\end{tabular}\n"
      ],
      "text/markdown": [
       "\n",
       "scheme | numSubscribers | in (kbps) | in (mbps) | in (krps) | \n",
       "|---|---|---|---|---|---|\n",
       "| baseerat | 8        | 81630.94 | 79.71771 | 200.0758 | \n",
       "| baseerat | 8        | 80950.90 | 79.05361 | 198.4091 | \n",
       "| baseerat | 8        | 80190.05 | 78.31060 | 196.5442 | \n",
       "| baseerat | 8        | 76888.28 | 75.08621 | 188.4517 | \n",
       "| baseerat | 8        | 81164.18 | 79.26189 | 198.9318 | \n",
       "| baseerat | 8        | 77794.66 | 75.97135 | 190.6732 | \n",
       "\n",
       "\n"
      ],
      "text/plain": [
       "  scheme   numSubscribers in (kbps) in (mbps) in (krps)\n",
       "1 baseerat 8              81630.94  79.71771  200.0758 \n",
       "2 baseerat 8              80950.90  79.05361  198.4091 \n",
       "3 baseerat 8              80190.05  78.31060  196.5442 \n",
       "4 baseerat 8              76888.28  75.08621  188.4517 \n",
       "5 baseerat 8              81164.18  79.26189  198.9318 \n",
       "6 baseerat 8              77794.66  75.97135  190.6732 "
      ]
     },
     "metadata": {},
     "output_type": "display_data"
    }
   ],
   "source": [
    "head(dishThroughputStats)"
   ]
  },
  {
   "cell_type": "code",
   "execution_count": null,
   "metadata": {
    "collapsed": true
   },
   "outputs": [],
   "source": []
  },
  {
   "cell_type": "code",
   "execution_count": 5,
   "metadata": {
    "collapsed": true
   },
   "outputs": [],
   "source": [
    "radioCPUStats <- fread(paste(directory, \"radio_cpu_stats.csv\", sep=\"/\"), sep=\",\", header=TRUE)"
   ]
  },
  {
   "cell_type": "code",
   "execution_count": 6,
   "metadata": {},
   "outputs": [
    {
     "data": {
      "text/html": [
       "<table>\n",
       "<thead><tr><th scope=col>%cpu</th><th scope=col>%mem</th><th scope=col>numSubscribers</th><th scope=col>scheme</th><th scope=col>period (ms)</th></tr></thead>\n",
       "<tbody>\n",
       "\t<tr><td>18.3   </td><td>0.1    </td><td>32     </td><td>unicast</td><td>1      </td></tr>\n",
       "\t<tr><td>19.0   </td><td>0.1    </td><td>32     </td><td>unicast</td><td>1      </td></tr>\n",
       "\t<tr><td>19.3   </td><td>0.1    </td><td>32     </td><td>unicast</td><td>1      </td></tr>\n",
       "\t<tr><td>19.0   </td><td>0.1    </td><td>32     </td><td>unicast</td><td>1      </td></tr>\n",
       "\t<tr><td>18.3   </td><td>0.1    </td><td>32     </td><td>unicast</td><td>1      </td></tr>\n",
       "\t<tr><td>18.6   </td><td>0.1    </td><td>32     </td><td>unicast</td><td>1      </td></tr>\n",
       "</tbody>\n",
       "</table>\n"
      ],
      "text/latex": [
       "\\begin{tabular}{r|lllll}\n",
       " \\%cpu & \\%mem & numSubscribers & scheme & period (ms)\\\\\n",
       "\\hline\n",
       "\t 18.3    & 0.1     & 32      & unicast & 1      \\\\\n",
       "\t 19.0    & 0.1     & 32      & unicast & 1      \\\\\n",
       "\t 19.3    & 0.1     & 32      & unicast & 1      \\\\\n",
       "\t 19.0    & 0.1     & 32      & unicast & 1      \\\\\n",
       "\t 18.3    & 0.1     & 32      & unicast & 1      \\\\\n",
       "\t 18.6    & 0.1     & 32      & unicast & 1      \\\\\n",
       "\\end{tabular}\n"
      ],
      "text/markdown": [
       "\n",
       "%cpu | %mem | numSubscribers | scheme | period (ms) | \n",
       "|---|---|---|---|---|---|\n",
       "| 18.3    | 0.1     | 32      | unicast | 1       | \n",
       "| 19.0    | 0.1     | 32      | unicast | 1       | \n",
       "| 19.3    | 0.1     | 32      | unicast | 1       | \n",
       "| 19.0    | 0.1     | 32      | unicast | 1       | \n",
       "| 18.3    | 0.1     | 32      | unicast | 1       | \n",
       "| 18.6    | 0.1     | 32      | unicast | 1       | \n",
       "\n",
       "\n"
      ],
      "text/plain": [
       "  %cpu %mem numSubscribers scheme  period (ms)\n",
       "1 18.3 0.1  32             unicast 1          \n",
       "2 19.0 0.1  32             unicast 1          \n",
       "3 19.3 0.1  32             unicast 1          \n",
       "4 19.0 0.1  32             unicast 1          \n",
       "5 18.3 0.1  32             unicast 1          \n",
       "6 18.6 0.1  32             unicast 1          "
      ]
     },
     "metadata": {},
     "output_type": "display_data"
    }
   ],
   "source": [
    "head(radioCPUStats)"
   ]
  },
  {
   "cell_type": "code",
   "execution_count": null,
   "metadata": {
    "collapsed": true
   },
   "outputs": [],
   "source": []
  }
 ],
 "metadata": {
  "kernelspec": {
   "display_name": "R",
   "language": "R",
   "name": "ir"
  },
  "language_info": {
   "codemirror_mode": "r",
   "file_extension": ".r",
   "mimetype": "text/x-r-source",
   "name": "R",
   "pygments_lexer": "r",
   "version": "3.4.2"
  }
 },
 "nbformat": 4,
 "nbformat_minor": 2
}
