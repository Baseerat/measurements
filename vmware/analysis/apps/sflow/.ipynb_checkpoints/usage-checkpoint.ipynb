{
 "cells": [
  {
   "cell_type": "code",
   "execution_count": null,
   "metadata": {
    "collapsed": true
   },
   "outputs": [],
   "source": [
    "import os\n",
    "import glob\n",
    "from functools import reduce"
   ]
  },
  {
   "cell_type": "code",
   "execution_count": null,
   "metadata": {
    "collapsed": false
   },
   "outputs": [],
   "source": [
    "import seaborn as sns\n",
    "import numpy as np\n",
    "import pandas as pd\n",
    "import matplotlib.pyplot as plt\n",
    "plt.style.use('ggplot')\n",
    "import seaborn as sns\n",
    "\n",
    "# display plots in the notebook\n",
    "%matplotlib inline\n",
    "\n",
    "# increase default figure and font sizes for easier viewing\n",
    "plt.rcParams['figure.figsize'] = (8, 6)\n",
    "plt.rcParams['font.size'] = 14"
   ]
  },
  {
   "cell_type": "markdown",
   "metadata": {},
   "source": [
    "## Analysis\n",
    "---"
   ]
  },
  {
   "cell_type": "code",
   "execution_count": 15,
   "metadata": {
    "collapsed": true
   },
   "outputs": [],
   "source": [
    "results_dir = \"../../../results/apps/sflow/\"\n",
    "date_time_list = [\"20170826015447.145605\"]\n",
    "\n",
    "cols = ['in (kbps)', 'out (kbps)'] "
   ]
  },
  {
   "cell_type": "code",
   "execution_count": 16,
   "metadata": {
    "collapsed": false
   },
   "outputs": [
    {
     "name": "stderr",
     "output_type": "stream",
     "text": [
      "/opt/conda/lib/python3.5/site-packages/ipykernel/__main__.py:6: ParserWarning: Falling back to the 'python' engine because the 'c' engine does not support skipfooter; you can avoid this warning by specifying engine='python'.\n",
      "/opt/conda/lib/python3.5/site-packages/pandas/io/parsers.py:2138: FutureWarning: split() requires a non-empty pattern match.\n",
      "  yield pat.split(line.strip())\n",
      "/opt/conda/lib/python3.5/site-packages/pandas/io/parsers.py:2140: FutureWarning: split() requires a non-empty pattern match.\n",
      "  yield pat.split(line.strip())\n"
     ]
    }
   ],
   "source": [
    "sflow_data_dict = {}\n",
    "\n",
    "for date_time in date_time_list:\n",
    "    for i in glob.glob(results_dir + date_time + \"/sflow_stats__*\"):\n",
    "        key = i.split('__')[1].split('_')[1].split('.')[0]\n",
    "        sflow_data_dict[key] = pd.read_csv(i, sep='\\s*', header=None, skiprows=4, skipfooter=1, na_filter=False, names = cols)\n",
    "        sflow_data_dict[key] = sflow_data_dict[key][sflow_data_dict[key]['out (kbps)'] >= 1]\n",
    "\n",
    "# sorted(broker_data_dict.keys())"
   ]
  },
  {
   "cell_type": "code",
   "execution_count": 17,
   "metadata": {
    "collapsed": false
   },
   "outputs": [],
   "source": [
    "plot_data_dict = pd.DataFrame()\n",
    "\n",
    "cols = [1, 2, 4, 8, 16, 32, 64, 128]\n",
    "\n",
    "plot_data_dict['subscribers'] = cols\n",
    "\n",
    "rows = []\n",
    "for i in plot_data_dict['subscribers']:\n",
    "    rows += [sflow_data_dict[str(i)]['out (kbps)'].mean()]\n",
    "plot_data_dict['unicast: throughput (kbps)'] = rows    \n",
    "\n",
    "rows = []\n",
    "for i in plot_data_dict['subscribers']:\n",
    "    rows += [sflow_data_dict[str(1)]['out (kbps)'].mean()]\n",
    "plot_data_dict['baseerat: throughput (kbps)'] = rows    \n",
    "\n",
    "plot_data_dict = plot_data_dict.set_index('subscribers')\n",
    "\n",
    "# plot_data_dict"
   ]
  },
  {
   "cell_type": "code",
   "execution_count": null,
   "metadata": {
    "collapsed": false
   },
   "outputs": [],
   "source": [
    "ax = plot_data_dict[['unicast: throughput (kbps)', 'baseerat: throughput (kbps)']].plot(kind='line', marker='o')\n",
    "ax.set(xlabel='Collectors', ylabel='Throughput (kpbs)')\n",
    "plt.savefig('sflow-throughput-kbps.pdf')\n",
    "plt.show()"
   ]
  },
  {
   "cell_type": "code",
   "execution_count": 19,
   "metadata": {
    "collapsed": false
   },
   "outputs": [
    {
     "data": {
      "text/plain": [
       "<matplotlib.axes._subplots.AxesSubplot at 0x7fc2d04bb3c8>"
      ]
     },
     "execution_count": 19,
     "metadata": {},
     "output_type": "execute_result"
    },
    {
     "data": {
      "image/png": "[encoded data removed]",
      "text/plain": [
       "<matplotlib.figure.Figure at 0x7fc2d059d278>"
      ]
     },
     "metadata": {},
     "output_type": "display_data"
    }
   ],
   "source": [
    "plot_data_dict[['unicast: throughput (kbps)', 'baseerat: throughput (kbps)']].plot(kind='bar')"
   ]
  },
  {
   "cell_type": "code",
   "execution_count": null,
   "metadata": {
    "collapsed": true
   },
   "outputs": [],
   "source": []
  }
 ],
 "metadata": {
  "kernelspec": {
   "display_name": "Python 3",
   "language": "python",
   "name": "python3"
  },
  "language_info": {
   "codemirror_mode": {
    "name": "ipython",
    "version": 3
   },
   "file_extension": ".py",
   "mimetype": "text/x-python",
   "name": "python",
   "nbconvert_exporter": "python",
   "pygments_lexer": "ipython3",
   "version": "3.5.2"
  }
 },
 "nbformat": 4,
 "nbformat_minor": 2
}
