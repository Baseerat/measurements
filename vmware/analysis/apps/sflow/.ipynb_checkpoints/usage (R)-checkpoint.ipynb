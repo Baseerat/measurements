{
 "cells": [
  {
   "cell_type": "code",
   "execution_count": 45,
   "metadata": {
    "collapsed": false
   },
   "outputs": [
    {
     "name": "stderr",
     "output_type": "stream",
     "text": [
      "Loading required package: RColorBrewer\n"
     ]
    }
   ],
   "source": [
    "require(ggplot2)\n",
    "require(data.table)\n",
    "require(Hmisc)\n",
    "require(ggthemes)\n",
    "require(RColorBrewer)"
   ]
  },
  {
   "cell_type": "code",
   "execution_count": null,
   "metadata": {
    "collapsed": false
   },
   "outputs": [],
   "source": []
  },
  {
   "cell_type": "code",
   "execution_count": 46,
   "metadata": {
    "collapsed": true
   },
   "outputs": [],
   "source": [
    "directory = \"../../../results/apps/sflow/\"\n",
    "blues = brewer.pal(n = 6, \"Blues\")[3:6]\n",
    "plotTheme <- theme_hc() + theme(legend.title=element_blank(), legend.position=\"top\", legend.text=element_text(size=8))"
   ]
  },
  {
   "cell_type": "code",
   "execution_count": null,
   "metadata": {
    "collapsed": false
   },
   "outputs": [],
   "source": []
  },
  {
   "cell_type": "code",
   "execution_count": 38,
   "metadata": {
    "collapsed": true
   },
   "outputs": [],
   "source": [
    "sflowStats <- fread(paste(directory, \"sflow_stats.csv\", sep=\"/\"), sep=\",\", header=TRUE)"
   ]
  },
  {
   "cell_type": "code",
   "execution_count": 39,
   "metadata": {
    "collapsed": false
   },
   "outputs": [
    {
     "data": {
      "text/html": [
       "<table>\n",
       "<thead><tr><th></th><th scope=col>scheme</th><th scope=col>numCollectors</th><th scope=col>out (kbps)</th></tr></thead>\n",
       "<tbody>\n",
       "\t<tr><th scope=row>1</th><td>unicast</td><td>128    </td><td>766.69 </td></tr>\n",
       "\t<tr><th scope=row>2</th><td>unicast</td><td>128    </td><td>795.92 </td></tr>\n",
       "\t<tr><th scope=row>3</th><td>unicast</td><td>128    </td><td>705.87 </td></tr>\n",
       "\t<tr><th scope=row>4</th><td>unicast</td><td>128    </td><td>831.05 </td></tr>\n",
       "\t<tr><th scope=row>5</th><td>unicast</td><td>128    </td><td>719.87 </td></tr>\n",
       "\t<tr><th scope=row>6</th><td>unicast</td><td>128    </td><td>702.33 </td></tr>\n",
       "</tbody>\n",
       "</table>\n"
      ],
      "text/latex": [
       "\\begin{tabular}{r|lll}\n",
       "  & scheme & numCollectors & out (kbps)\\\\\n",
       "\\hline\n",
       "\t1 & unicast & 128     & 766.69 \\\\\n",
       "\t2 & unicast & 128     & 795.92 \\\\\n",
       "\t3 & unicast & 128     & 705.87 \\\\\n",
       "\t4 & unicast & 128     & 831.05 \\\\\n",
       "\t5 & unicast & 128     & 719.87 \\\\\n",
       "\t6 & unicast & 128     & 702.33 \\\\\n",
       "\\end{tabular}\n"
      ],
      "text/plain": [
       "   scheme numCollectors out (kbps)\n",
       "1 unicast           128     766.69\n",
       "2 unicast           128     795.92\n",
       "3 unicast           128     705.87\n",
       "4 unicast           128     831.05\n",
       "5 unicast           128     719.87\n",
       "6 unicast           128     702.33"
      ]
     },
     "metadata": {},
     "output_type": "display_data"
    }
   ],
   "source": [
    "head(sflowStats)"
   ]
  },
  {
   "cell_type": "code",
   "execution_count": 40,
   "metadata": {
    "collapsed": true
   },
   "outputs": [],
   "source": [
    "colnames(sflowStats)[colnames(sflowStats) == \"out (kbps)\"] <- \"outKbps\""
   ]
  },
  {
   "cell_type": "code",
   "execution_count": 49,
   "metadata": {
    "collapsed": false
   },
   "outputs": [],
   "source": [
    "p1 <- ggplot(sflowStats, aes(y=outKbps, x=factor(numCollectors), col=scheme, fill=scheme)) + \n",
    " stat_summary(fun.data=mean_sdl, fun.args = list(mult=1), geom=\"bar\", position=position_dodge(0.8), \n",
    "              width=0.7, col=\"black\") + \n",
    " stat_summary(fun.data=mean_sdl, fun.args = list(mult=1), geom=\"errorbar\", width=0.3, \n",
    "              position=position_dodge(0.8), color=\"black\") +\n",
    " ylab(\"Bandwidth Utilization (kbps)\") +\n",
    " xlab(\"Number of collectors\") +\n",
    " scale_color_manual(values=blues) +\n",
    " scale_fill_manual(values=blues) +\n",
    " plotTheme"
   ]
  },
  {
   "cell_type": "code",
   "execution_count": 50,
   "metadata": {
    "collapsed": false
   },
   "outputs": [],
   "source": [
    "ggsave(p1, height=3, width=4, file=\"sFlowBandwidth.pdf\")"
   ]
  },
  {
   "cell_type": "code",
   "execution_count": null,
   "metadata": {
    "collapsed": true
   },
   "outputs": [],
   "source": []
  }
 ],
 "metadata": {
  "kernelspec": {
   "display_name": "R",
   "language": "R",
   "name": "ir"
  },
  "language_info": {
   "codemirror_mode": "r",
   "file_extension": ".r",
   "mimetype": "text/x-r-source",
   "name": "R",
   "pygments_lexer": "r",
   "version": "3.3.1"
  }
 },
 "nbformat": 4,
 "nbformat_minor": 2
}
