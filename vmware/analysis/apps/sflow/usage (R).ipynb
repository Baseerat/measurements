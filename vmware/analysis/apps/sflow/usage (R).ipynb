{
 "cells": [
  {
   "cell_type": "code",
   "execution_count": 1,
   "metadata": {},
   "outputs": [
    {
     "name": "stderr",
     "output_type": "stream",
     "text": [
      "Loading required package: ggplot2\n",
      "Loading required package: data.table\n",
      "Loading required package: Hmisc\n",
      "Warning message in library(package, lib.loc = lib.loc, character.only = TRUE, logical.return = TRUE, :\n",
      "“there is no package called ‘Hmisc’”"
     ]
    }
   ],
   "source": [
    "require(ggplot2)\n",
    "require(data.table)\n",
    "require(Hmisc)"
   ]
  },
  {
   "cell_type": "code",
   "execution_count": null,
   "metadata": {
    "collapsed": true
   },
   "outputs": [],
   "source": []
  },
  {
   "cell_type": "code",
   "execution_count": 2,
   "metadata": {
    "collapsed": true
   },
   "outputs": [],
   "source": [
    "directory = \"../../../results/apps/sflow/\"\n",
    "plotTheme <- theme(legend.title=element_blank(), legend.position=\"top\", legend.text=element_text(size=6))"
   ]
  },
  {
   "cell_type": "code",
   "execution_count": null,
   "metadata": {
    "collapsed": true
   },
   "outputs": [],
   "source": []
  },
  {
   "cell_type": "code",
   "execution_count": 3,
   "metadata": {
    "collapsed": true
   },
   "outputs": [],
   "source": [
    "sflowStats <- fread(paste(directory, \"sflow_stats.csv\", sep=\"/\"), sep=\",\", header=TRUE)"
   ]
  },
  {
   "cell_type": "code",
   "execution_count": 4,
   "metadata": {},
   "outputs": [
    {
     "data": {
      "text/html": [
       "<table>\n",
       "<thead><tr><th scope=col>scheme</th><th scope=col>numCollectors</th><th scope=col>out (kbps)</th></tr></thead>\n",
       "<tbody>\n",
       "\t<tr><td>unicast</td><td>128    </td><td>766.69 </td></tr>\n",
       "\t<tr><td>unicast</td><td>128    </td><td>795.92 </td></tr>\n",
       "\t<tr><td>unicast</td><td>128    </td><td>705.87 </td></tr>\n",
       "\t<tr><td>unicast</td><td>128    </td><td>831.05 </td></tr>\n",
       "\t<tr><td>unicast</td><td>128    </td><td>719.87 </td></tr>\n",
       "\t<tr><td>unicast</td><td>128    </td><td>702.33 </td></tr>\n",
       "</tbody>\n",
       "</table>\n"
      ],
      "text/latex": [
       "\\begin{tabular}{r|lll}\n",
       " scheme & numCollectors & out (kbps)\\\\\n",
       "\\hline\n",
       "\t unicast & 128     & 766.69 \\\\\n",
       "\t unicast & 128     & 795.92 \\\\\n",
       "\t unicast & 128     & 705.87 \\\\\n",
       "\t unicast & 128     & 831.05 \\\\\n",
       "\t unicast & 128     & 719.87 \\\\\n",
       "\t unicast & 128     & 702.33 \\\\\n",
       "\\end{tabular}\n"
      ],
      "text/markdown": [
       "\n",
       "scheme | numCollectors | out (kbps) | \n",
       "|---|---|---|---|---|---|\n",
       "| unicast | 128     | 766.69  | \n",
       "| unicast | 128     | 795.92  | \n",
       "| unicast | 128     | 705.87  | \n",
       "| unicast | 128     | 831.05  | \n",
       "| unicast | 128     | 719.87  | \n",
       "| unicast | 128     | 702.33  | \n",
       "\n",
       "\n"
      ],
      "text/plain": [
       "  scheme  numCollectors out (kbps)\n",
       "1 unicast 128           766.69    \n",
       "2 unicast 128           795.92    \n",
       "3 unicast 128           705.87    \n",
       "4 unicast 128           831.05    \n",
       "5 unicast 128           719.87    \n",
       "6 unicast 128           702.33    "
      ]
     },
     "metadata": {},
     "output_type": "display_data"
    }
   ],
   "source": [
    "head(sflowStats)"
   ]
  },
  {
   "cell_type": "code",
   "execution_count": null,
   "metadata": {
    "collapsed": true
   },
   "outputs": [],
   "source": []
  }
 ],
 "metadata": {
  "kernelspec": {
   "display_name": "R",
   "language": "R",
   "name": "ir"
  },
  "language_info": {
   "codemirror_mode": "r",
   "file_extension": ".r",
   "mimetype": "text/x-r-source",
   "name": "R",
   "pygments_lexer": "r",
   "version": "3.4.2"
  }
 },
 "nbformat": 4,
 "nbformat_minor": 2
}
