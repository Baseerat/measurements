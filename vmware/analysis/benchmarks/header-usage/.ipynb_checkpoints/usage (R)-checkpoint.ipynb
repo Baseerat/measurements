{
 "cells": [
  {
   "cell_type": "code",
   "execution_count": 2,
   "metadata": {
    "collapsed": false
   },
   "outputs": [
    {
     "name": "stderr",
     "output_type": "stream",
     "text": [
      "Loading required package: ggplot2\n",
      "Loading required package: data.table\n",
      "Loading required package: Hmisc\n",
      "Loading required package: lattice\n",
      "Loading required package: survival\n",
      "Loading required package: Formula\n",
      "\n",
      "Attaching package: ‘Hmisc’\n",
      "\n",
      "The following objects are masked from ‘package:base’:\n",
      "\n",
      "    format.pval, units\n",
      "\n",
      "Loading required package: ggthemes\n",
      "Loading required package: gridExtra\n",
      "Loading required package: grid\n",
      "Loading required package: scales\n",
      "Loading required package: RColorBrewer\n"
     ]
    }
   ],
   "source": [
    "require(ggplot2)\n",
    "require(data.table)\n",
    "require(Hmisc)\n",
    "require(ggthemes)\n",
    "require(gridExtra)\n",
    "require(grid)\n",
    "require(lattice)\n",
    "require(scales)\n",
    "require(RColorBrewer)"
   ]
  },
  {
   "cell_type": "code",
   "execution_count": null,
   "metadata": {
    "collapsed": true
   },
   "outputs": [],
   "source": []
  },
  {
   "cell_type": "code",
   "execution_count": 3,
   "metadata": {
    "collapsed": false
   },
   "outputs": [],
   "source": [
    "directory = \"../../../results/benchmarks/header-usage/\"\n",
    "blues = brewer.pal(n = 6, \"Blues\")[4:6]\n",
    "bluesLong = brewer.pal(n = 6, \"Blues\")[2:6]\n",
    "plotTheme <- theme_hc() + theme(legend.title=element_blank(), legend.position=\"none\", legend.text=element_text(size=8))"
   ]
  },
  {
   "cell_type": "code",
   "execution_count": null,
   "metadata": {
    "collapsed": true
   },
   "outputs": [],
   "source": []
  },
  {
   "cell_type": "code",
   "execution_count": 4,
   "metadata": {
    "collapsed": true
   },
   "outputs": [],
   "source": [
    "headerSizes <- fread(paste(directory, \"header_usage.csv\", sep=\"/\"), sep=\",\", header=TRUE)"
   ]
  },
  {
   "cell_type": "code",
   "execution_count": 5,
   "metadata": {
    "collapsed": false
   },
   "outputs": [
    {
     "data": {
      "text/html": [
       "<table>\n",
       "<thead><tr><th></th><th scope=col>numHeaders</th><th scope=col>usage (bytes)</th></tr></thead>\n",
       "<tbody>\n",
       "\t<tr><th scope=row>1</th><td>  0</td><td>128</td></tr>\n",
       "\t<tr><th scope=row>2</th><td>  5</td><td>184</td></tr>\n",
       "\t<tr><th scope=row>3</th><td> 10</td><td>234</td></tr>\n",
       "\t<tr><th scope=row>4</th><td> 15</td><td>284</td></tr>\n",
       "\t<tr><th scope=row>5</th><td> 20</td><td>334</td></tr>\n",
       "\t<tr><th scope=row>6</th><td> 25</td><td>384</td></tr>\n",
       "</tbody>\n",
       "</table>\n"
      ],
      "text/latex": [
       "\\begin{tabular}{r|ll}\n",
       "  & numHeaders & usage (bytes)\\\\\n",
       "\\hline\n",
       "\t1 &   0 & 128\\\\\n",
       "\t2 &   5 & 184\\\\\n",
       "\t3 &  10 & 234\\\\\n",
       "\t4 &  15 & 284\\\\\n",
       "\t5 &  20 & 334\\\\\n",
       "\t6 &  25 & 384\\\\\n",
       "\\end{tabular}\n"
      ],
      "text/plain": [
       "  numHeaders usage (bytes)\n",
       "1          0           128\n",
       "2          5           184\n",
       "3         10           234\n",
       "4         15           284\n",
       "5         20           334\n",
       "6         25           384"
      ]
     },
     "metadata": {},
     "output_type": "display_data"
    }
   ],
   "source": [
    "head(headerSizes)\n",
    "colnames(headerSizes)[colnames(headerSizes) == \"usage (bytes)\"] <- \"usageBytes\"\n"
   ]
  },
  {
   "cell_type": "code",
   "execution_count": 19,
   "metadata": {
    "collapsed": false
   },
   "outputs": [],
   "source": [
    "p1 <- ggplot(headerSizes, aes(y=(usageBytes - 128), x=factor(numHeaders), col=\"baseerat\", fill=\"baseerat\")) + \n",
    " stat_summary(fun.data=mean_sdl, fun.args = list(mult=1), geom=\"bar\", width=0.6, col=\"black\") + \n",
    " geom_hline(aes(yintercept=512), linetype=\"dashed\", size=0.8, col=\"black\") +\n",
    " annotate(\"text\", label = \"Header size limit for RMT (512B)\", x = 4, y = 560, size = 3.5) +\n",
    " ylim(c(0, 600)) +\n",
    " ylab(\"Header size (bytes)\") +\n",
    " xlab(\"No. of p-rules\") +\n",
    " scale_fill_manual(values=blues, name=\"Redundancy\") +\n",
    "#  scale_color_tableau() +\n",
    "#  scale_fill_tableau() +\n",
    " plotTheme"
   ]
  },
  {
   "cell_type": "code",
   "execution_count": 20,
   "metadata": {
    "collapsed": false
   },
   "outputs": [
    {
     "data": {},
     "metadata": {},
     "output_type": "display_data"
    },
    {
     "data": {
      "image/png": "[encoded data removed]",
      "text/plain": [
       "plot without title"
      ]
     },
     "metadata": {},
     "output_type": "display_data"
    }
   ],
   "source": [
    "p1"
   ]
  },
  {
   "cell_type": "code",
   "execution_count": 21,
   "metadata": {
    "collapsed": true
   },
   "outputs": [],
   "source": [
    "# ggsave(p1, height=2, width=3.5, file=\"headerUsage.pdf\")\n",
    "ggsave(p1, height=2, width=4.5, file=\"headerUsage.pdf\")"
   ]
  },
  {
   "cell_type": "code",
   "execution_count": null,
   "metadata": {
    "collapsed": true
   },
   "outputs": [],
   "source": []
  }
 ],
 "metadata": {
  "kernelspec": {
   "display_name": "R",
   "language": "R",
   "name": "ir"
  },
  "language_info": {
   "codemirror_mode": "r",
   "file_extension": ".r",
   "mimetype": "text/x-r-source",
   "name": "R",
   "pygments_lexer": "r",
   "version": "3.3.1"
  }
 },
 "nbformat": 4,
 "nbformat_minor": 2
}
