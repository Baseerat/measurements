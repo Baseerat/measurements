{
 "cells": [
  {
   "cell_type": "code",
   "execution_count": 1,
   "metadata": {
    "collapsed": false
   },
   "outputs": [
    {
     "name": "stderr",
     "output_type": "stream",
     "text": [
      "Loading required package: ggplot2\n",
      "Loading required package: data.table\n",
      "Loading required package: Hmisc\n",
      "Loading required package: lattice\n",
      "Loading required package: survival\n",
      "Loading required package: Formula\n",
      "\n",
      "Attaching package: ‘Hmisc’\n",
      "\n",
      "The following objects are masked from ‘package:base’:\n",
      "\n",
      "    format.pval, round.POSIXt, trunc.POSIXt, units\n",
      "\n",
      "Loading required package: ggthemes\n",
      "Loading required package: gridExtra\n",
      "\n",
      "Attaching package: ‘gridExtra’\n",
      "\n",
      "The following object is masked from ‘package:Hmisc’:\n",
      "\n",
      "    combine\n",
      "\n",
      "Loading required package: grid\n",
      "Loading required package: scales\n",
      "Loading required package: RColorBrewer\n"
     ]
    }
   ],
   "source": [
    "require(ggplot2)\n",
    "require(data.table)\n",
    "require(Hmisc)\n",
    "require(ggthemes)\n",
    "require(gridExtra)\n",
    "require(grid)\n",
    "require(lattice)\n",
    "require(scales)\n",
    "require(RColorBrewer)"
   ]
  },
  {
   "cell_type": "code",
   "execution_count": null,
   "metadata": {
    "collapsed": true
   },
   "outputs": [],
   "source": []
  },
  {
   "cell_type": "code",
   "execution_count": 2,
   "metadata": {
    "collapsed": false
   },
   "outputs": [],
   "source": [
    "directory = \"../../../results/benchmarks/header-sizes/\"\n",
    "plotTheme <- theme_hc() + theme(legend.title=element_blank(), legend.position=\"none\", legend.text=element_text(size=8))"
   ]
  },
  {
   "cell_type": "code",
   "execution_count": null,
   "metadata": {
    "collapsed": true
   },
   "outputs": [],
   "source": []
  },
  {
   "cell_type": "code",
   "execution_count": 3,
   "metadata": {
    "collapsed": true
   },
   "outputs": [],
   "source": [
    "headerSizes <- fread(paste(directory, \"header_sizes.csv\", sep=\"/\"), sep=\",\", header=TRUE)"
   ]
  },
  {
   "cell_type": "code",
   "execution_count": 4,
   "metadata": {
    "collapsed": false
   },
   "outputs": [
    {
     "data": {
      "text/html": [
       "<table>\n",
       "<thead><tr><th></th><th scope=col>numHeaders</th><th scope=col>Size (bytes)</th></tr></thead>\n",
       "<tbody>\n",
       "\t<tr><th scope=row>1</th><td>  0</td><td>128</td></tr>\n",
       "\t<tr><th scope=row>2</th><td>  5</td><td>184</td></tr>\n",
       "\t<tr><th scope=row>3</th><td> 10</td><td>234</td></tr>\n",
       "\t<tr><th scope=row>4</th><td> 15</td><td>290</td></tr>\n",
       "\t<tr><th scope=row>5</th><td> 20</td><td>340</td></tr>\n",
       "\t<tr><th scope=row>6</th><td> 25</td><td>396</td></tr>\n",
       "</tbody>\n",
       "</table>\n"
      ],
      "text/latex": [
       "\\begin{tabular}{r|ll}\n",
       "  & numHeaders & Size (bytes)\\\\\n",
       "\\hline\n",
       "\t1 &   0 & 128\\\\\n",
       "\t2 &   5 & 184\\\\\n",
       "\t3 &  10 & 234\\\\\n",
       "\t4 &  15 & 290\\\\\n",
       "\t5 &  20 & 340\\\\\n",
       "\t6 &  25 & 396\\\\\n",
       "\\end{tabular}\n"
      ],
      "text/plain": [
       "  numHeaders Size (bytes)\n",
       "1          0          128\n",
       "2          5          184\n",
       "3         10          234\n",
       "4         15          290\n",
       "5         20          340\n",
       "6         25          396"
      ]
     },
     "metadata": {},
     "output_type": "display_data"
    }
   ],
   "source": [
    "head(headerSizes)"
   ]
  },
  {
   "cell_type": "code",
   "execution_count": null,
   "metadata": {
    "collapsed": true
   },
   "outputs": [],
   "source": []
  },
  {
   "cell_type": "code",
   "execution_count": null,
   "metadata": {
    "collapsed": true
   },
   "outputs": [],
   "source": []
  }
 ],
 "metadata": {
  "kernelspec": {
   "display_name": "R",
   "language": "R",
   "name": "ir"
  },
  "language_info": {
   "codemirror_mode": "r",
   "file_extension": ".r",
   "mimetype": "text/x-r-source",
   "name": "R",
   "pygments_lexer": "r",
   "version": "3.3.1"
  }
 },
 "nbformat": 4,
 "nbformat_minor": 2
}
