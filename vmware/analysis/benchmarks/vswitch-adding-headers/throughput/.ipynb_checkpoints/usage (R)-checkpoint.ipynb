{
 "cells": [
  {
   "cell_type": "code",
   "execution_count": 1,
   "metadata": {},
   "outputs": [
    {
     "name": "stderr",
     "output_type": "stream",
     "text": [
      "Loading required package: ggplot2\n",
      "Loading required package: data.table\n",
      "Loading required package: Hmisc\n",
      "Warning message in library(package, lib.loc = lib.loc, character.only = TRUE, logical.return = TRUE, :\n",
      "“there is no package called ‘Hmisc’”"
     ]
    }
   ],
   "source": [
    "require(ggplot2)\n",
    "require(data.table)\n",
    "require(Hmisc)"
   ]
  },
  {
   "cell_type": "code",
   "execution_count": null,
   "metadata": {
    "collapsed": true
   },
   "outputs": [],
   "source": []
  },
  {
   "cell_type": "code",
   "execution_count": 2,
   "metadata": {
    "collapsed": true
   },
   "outputs": [],
   "source": [
    "directory = \"../../../../results/benchmarks/vswitch-adding-headers/throughput/\"\n",
    "plotTheme <- theme(legend.title=element_blank(), legend.position=\"top\", legend.text=element_text(size=6))"
   ]
  },
  {
   "cell_type": "code",
   "execution_count": null,
   "metadata": {
    "collapsed": true
   },
   "outputs": [],
   "source": []
  },
  {
   "cell_type": "code",
   "execution_count": 4,
   "metadata": {},
   "outputs": [],
   "source": [
    "throughputCombinedHeaders <- fread(paste(directory, \"throughput_combined_headers.csv\", sep=\"/\"), sep=\",\", header=TRUE)"
   ]
  },
  {
   "cell_type": "code",
   "execution_count": 5,
   "metadata": {},
   "outputs": [
    {
     "data": {
      "text/html": [
       "<table>\n",
       "<thead><tr><th scope=col>numHeaders</th><th scope=col>Mpps</th><th scope=col>Mbps</th><th scope=col>Gbps</th></tr></thead>\n",
       "<tbody>\n",
       "\t<tr><td>0       </td><td>14.54   </td><td>20000.08</td><td>19.53133</td></tr>\n",
       "\t<tr><td>0       </td><td>14.54   </td><td>19999.63</td><td>19.53089</td></tr>\n",
       "\t<tr><td>0       </td><td>14.53   </td><td>19995.91</td><td>19.52726</td></tr>\n",
       "\t<tr><td>0       </td><td>14.54   </td><td>19999.68</td><td>19.53094</td></tr>\n",
       "\t<tr><td>0       </td><td>14.54   </td><td>20000.03</td><td>19.53128</td></tr>\n",
       "\t<tr><td>0       </td><td>14.54   </td><td>19999.69</td><td>19.53095</td></tr>\n",
       "</tbody>\n",
       "</table>\n"
      ],
      "text/latex": [
       "\\begin{tabular}{r|llll}\n",
       " numHeaders & Mpps & Mbps & Gbps\\\\\n",
       "\\hline\n",
       "\t 0        & 14.54    & 20000.08 & 19.53133\\\\\n",
       "\t 0        & 14.54    & 19999.63 & 19.53089\\\\\n",
       "\t 0        & 14.53    & 19995.91 & 19.52726\\\\\n",
       "\t 0        & 14.54    & 19999.68 & 19.53094\\\\\n",
       "\t 0        & 14.54    & 20000.03 & 19.53128\\\\\n",
       "\t 0        & 14.54    & 19999.69 & 19.53095\\\\\n",
       "\\end{tabular}\n"
      ],
      "text/markdown": [
       "\n",
       "numHeaders | Mpps | Mbps | Gbps | \n",
       "|---|---|---|---|---|---|\n",
       "| 0        | 14.54    | 20000.08 | 19.53133 | \n",
       "| 0        | 14.54    | 19999.63 | 19.53089 | \n",
       "| 0        | 14.53    | 19995.91 | 19.52726 | \n",
       "| 0        | 14.54    | 19999.68 | 19.53094 | \n",
       "| 0        | 14.54    | 20000.03 | 19.53128 | \n",
       "| 0        | 14.54    | 19999.69 | 19.53095 | \n",
       "\n",
       "\n"
      ],
      "text/plain": [
       "  numHeaders Mpps  Mbps     Gbps    \n",
       "1 0          14.54 20000.08 19.53133\n",
       "2 0          14.54 19999.63 19.53089\n",
       "3 0          14.53 19995.91 19.52726\n",
       "4 0          14.54 19999.68 19.53094\n",
       "5 0          14.54 20000.03 19.53128\n",
       "6 0          14.54 19999.69 19.53095"
      ]
     },
     "metadata": {},
     "output_type": "display_data"
    }
   ],
   "source": [
    "head(throughputCombinedHeaders)"
   ]
  },
  {
   "cell_type": "code",
   "execution_count": null,
   "metadata": {
    "collapsed": true
   },
   "outputs": [],
   "source": []
  },
  {
   "cell_type": "code",
   "execution_count": 6,
   "metadata": {
    "collapsed": true
   },
   "outputs": [],
   "source": [
    "throughputNoCombinedHeaders <- fread(paste(directory, \"throughput_no_combined_headers.csv\", sep=\"/\"), sep=\",\", header=TRUE)"
   ]
  },
  {
   "cell_type": "code",
   "execution_count": 7,
   "metadata": {},
   "outputs": [
    {
     "data": {
      "text/html": [
       "<table>\n",
       "<thead><tr><th scope=col>numHeaders</th><th scope=col>Mpps</th><th scope=col>Mbps</th><th scope=col>Gbps</th></tr></thead>\n",
       "<tbody>\n",
       "\t<tr><td>0       </td><td>14.54   </td><td>20000.08</td><td>19.53133</td></tr>\n",
       "\t<tr><td>0       </td><td>14.54   </td><td>19999.63</td><td>19.53089</td></tr>\n",
       "\t<tr><td>0       </td><td>14.53   </td><td>19995.91</td><td>19.52726</td></tr>\n",
       "\t<tr><td>0       </td><td>14.54   </td><td>19999.68</td><td>19.53094</td></tr>\n",
       "\t<tr><td>0       </td><td>14.54   </td><td>20000.03</td><td>19.53128</td></tr>\n",
       "\t<tr><td>0       </td><td>14.54   </td><td>19999.69</td><td>19.53095</td></tr>\n",
       "</tbody>\n",
       "</table>\n"
      ],
      "text/latex": [
       "\\begin{tabular}{r|llll}\n",
       " numHeaders & Mpps & Mbps & Gbps\\\\\n",
       "\\hline\n",
       "\t 0        & 14.54    & 20000.08 & 19.53133\\\\\n",
       "\t 0        & 14.54    & 19999.63 & 19.53089\\\\\n",
       "\t 0        & 14.53    & 19995.91 & 19.52726\\\\\n",
       "\t 0        & 14.54    & 19999.68 & 19.53094\\\\\n",
       "\t 0        & 14.54    & 20000.03 & 19.53128\\\\\n",
       "\t 0        & 14.54    & 19999.69 & 19.53095\\\\\n",
       "\\end{tabular}\n"
      ],
      "text/markdown": [
       "\n",
       "numHeaders | Mpps | Mbps | Gbps | \n",
       "|---|---|---|---|---|---|\n",
       "| 0        | 14.54    | 20000.08 | 19.53133 | \n",
       "| 0        | 14.54    | 19999.63 | 19.53089 | \n",
       "| 0        | 14.53    | 19995.91 | 19.52726 | \n",
       "| 0        | 14.54    | 19999.68 | 19.53094 | \n",
       "| 0        | 14.54    | 20000.03 | 19.53128 | \n",
       "| 0        | 14.54    | 19999.69 | 19.53095 | \n",
       "\n",
       "\n"
      ],
      "text/plain": [
       "  numHeaders Mpps  Mbps     Gbps    \n",
       "1 0          14.54 20000.08 19.53133\n",
       "2 0          14.54 19999.63 19.53089\n",
       "3 0          14.53 19995.91 19.52726\n",
       "4 0          14.54 19999.68 19.53094\n",
       "5 0          14.54 20000.03 19.53128\n",
       "6 0          14.54 19999.69 19.53095"
      ]
     },
     "metadata": {},
     "output_type": "display_data"
    }
   ],
   "source": [
    "head(throughputNoCombinedHeaders)"
   ]
  },
  {
   "cell_type": "code",
   "execution_count": null,
   "metadata": {
    "collapsed": true
   },
   "outputs": [],
   "source": []
  }
 ],
 "metadata": {
  "kernelspec": {
   "display_name": "R",
   "language": "R",
   "name": "ir"
  },
  "language_info": {
   "codemirror_mode": "r",
   "file_extension": ".r",
   "mimetype": "text/x-r-source",
   "name": "R",
   "pygments_lexer": "r",
   "version": "3.4.2"
  }
 },
 "nbformat": 4,
 "nbformat_minor": 2
}
