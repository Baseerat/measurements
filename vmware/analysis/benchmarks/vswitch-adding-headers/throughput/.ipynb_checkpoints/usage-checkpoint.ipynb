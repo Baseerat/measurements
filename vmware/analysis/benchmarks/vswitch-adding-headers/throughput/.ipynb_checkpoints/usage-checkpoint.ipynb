{
 "cells": [
  {
   "cell_type": "code",
   "execution_count": 1,
   "metadata": {
    "collapsed": true
   },
   "outputs": [],
   "source": [
    "import warnings\n",
    "warnings.filterwarnings('ignore')\n",
    "# For ignoring warnings printed by R magic commands"
   ]
  },
  {
   "cell_type": "code",
   "execution_count": 2,
   "metadata": {
    "collapsed": true
   },
   "outputs": [],
   "source": [
    "import os\n",
    "import glob"
   ]
  },
  {
   "cell_type": "code",
   "execution_count": 3,
   "metadata": {
    "collapsed": true
   },
   "outputs": [],
   "source": [
    "import seaborn as sns\n",
    "import numpy as np\n",
    "import pandas as pd\n",
    "import matplotlib.pyplot as plt\n",
    "plt.style.use('ggplot')\n",
    "import seaborn as sns\n",
    "\n",
    "# display plots in the notebook\n",
    "%matplotlib inline\n",
    "\n",
    "# increase default figure and font sizes for easier viewing\n",
    "plt.rcParams['figure.figsize'] = (8, 6)\n",
    "plt.rcParams['font.size'] = 14"
   ]
  },
  {
   "cell_type": "code",
   "execution_count": 4,
   "metadata": {
    "collapsed": true
   },
   "outputs": [],
   "source": [
    "# Load R magic\n",
    "%load_ext rpy2.ipython\n",
    "# Import ggplot2\n",
    "%R require(ggplot2);"
   ]
  },
  {
   "cell_type": "code",
   "execution_count": 5,
   "metadata": {
    "collapsed": true
   },
   "outputs": [],
   "source": [
    "# If experiment parameters change, modify this function\n",
    "def AddParametersAsColumns(df, file):\n",
    "    expParams = file.split('/')[-1].split('.')[1].split('_')\n",
    "    df['numHeaders'] = int(expParams[4])\n",
    "    df['isCombined'] = True if len(expParams) > 6 else False\n",
    "    df['pairId'] = [int(i / 2) for i in range(len(df))]  \n",
    "    \n",
    "# Turns all files of a given filname across a set of folders into a single dataframe\n",
    "def DataSetAsDataFrame(files, headers, header=None, reset_index=True):\n",
    "    # Read dataset as dataframe\n",
    "    def ReadDataSet(file):\n",
    "        df = pd.read_csv(file, sep=',', header=header, names=headers)\n",
    "        AddParametersAsColumns(df, file)\n",
    "        return df\n",
    "    # Get the list of dataframes\n",
    "    dfs = map(ReadDataSet, files)\n",
    "    # Combine into a single dataframe\n",
    "    df = pd.concat(dfs)\n",
    "    if reset_index:\n",
    "        df.reset_index(inplace=True)\n",
    "        df.drop('index', axis=1, inplace=True)\n",
    "    return df"
   ]
  },
  {
   "cell_type": "code",
   "execution_count": null,
   "metadata": {
    "collapsed": true
   },
   "outputs": [],
   "source": []
  },
  {
   "cell_type": "code",
   "execution_count": 6,
   "metadata": {
    "collapsed": true
   },
   "outputs": [],
   "source": [
    "%%R \n",
    "plotTheme <- theme(legend.title=element_blank(), legend.position=\"top\", legend.text=element_text(size=6))"
   ]
  },
  {
   "cell_type": "code",
   "execution_count": 7,
   "metadata": {
    "collapsed": true
   },
   "outputs": [],
   "source": [
    "directory = '../../../../results/benchmarks/vswitch-adding-headers/throughput/'\n",
    "files = glob.glob(directory + 'rx__*.csv')"
   ]
  },
  {
   "cell_type": "code",
   "execution_count": 8,
   "metadata": {
    "collapsed": true
   },
   "outputs": [],
   "source": [
    "df = DataSetAsDataFrame(files,  ['dev', 'Mpps', 'Mbps'])"
   ]
  },
  {
   "cell_type": "code",
   "execution_count": 9,
   "metadata": {
    "collapsed": false
   },
   "outputs": [
    {
     "data": {
      "text/html": [
       "<div>\n",
       "<style scoped>\n",
       "    .dataframe tbody tr th:only-of-type {\n",
       "        vertical-align: middle;\n",
       "    }\n",
       "\n",
       "    .dataframe tbody tr th {\n",
       "        vertical-align: top;\n",
       "    }\n",
       "\n",
       "    .dataframe thead th {\n",
       "        text-align: right;\n",
       "    }\n",
       "</style>\n",
       "<table border=\"1\" class=\"dataframe\">\n",
       "  <thead>\n",
       "    <tr style=\"text-align: right;\">\n",
       "      <th></th>\n",
       "      <th>dev</th>\n",
       "      <th>Mpps</th>\n",
       "      <th>Mbps</th>\n",
       "      <th>numHeaders</th>\n",
       "      <th>isCombined</th>\n",
       "      <th>pairId</th>\n",
       "    </tr>\n",
       "  </thead>\n",
       "  <tbody>\n",
       "    <tr>\n",
       "      <th>0</th>\n",
       "      <td>0</td>\n",
       "      <td>3.22</td>\n",
       "      <td>5868.52</td>\n",
       "      <td>5</td>\n",
       "      <td>False</td>\n",
       "      <td>0</td>\n",
       "    </tr>\n",
       "    <tr>\n",
       "      <th>1</th>\n",
       "      <td>1</td>\n",
       "      <td>3.36</td>\n",
       "      <td>6132.56</td>\n",
       "      <td>5</td>\n",
       "      <td>False</td>\n",
       "      <td>0</td>\n",
       "    </tr>\n",
       "    <tr>\n",
       "      <th>2</th>\n",
       "      <td>0</td>\n",
       "      <td>3.22</td>\n",
       "      <td>5867.66</td>\n",
       "      <td>5</td>\n",
       "      <td>False</td>\n",
       "      <td>1</td>\n",
       "    </tr>\n",
       "    <tr>\n",
       "      <th>3</th>\n",
       "      <td>1</td>\n",
       "      <td>3.36</td>\n",
       "      <td>6131.88</td>\n",
       "      <td>5</td>\n",
       "      <td>False</td>\n",
       "      <td>1</td>\n",
       "    </tr>\n",
       "    <tr>\n",
       "      <th>4</th>\n",
       "      <td>0</td>\n",
       "      <td>3.22</td>\n",
       "      <td>5868.74</td>\n",
       "      <td>5</td>\n",
       "      <td>False</td>\n",
       "      <td>2</td>\n",
       "    </tr>\n",
       "  </tbody>\n",
       "</table>\n",
       "</div>"
      ],
      "text/plain": [
       "   dev  Mpps     Mbps  numHeaders  isCombined  pairId\n",
       "0    0  3.22  5868.52           5       False       0\n",
       "1    1  3.36  6132.56           5       False       0\n",
       "2    0  3.22  5867.66           5       False       1\n",
       "3    1  3.36  6131.88           5       False       1\n",
       "4    0  3.22  5868.74           5       False       2"
      ]
     },
     "execution_count": 9,
     "metadata": {},
     "output_type": "execute_result"
    }
   ],
   "source": [
    "df.head()"
   ]
  },
  {
   "cell_type": "code",
   "execution_count": null,
   "metadata": {
    "collapsed": true
   },
   "outputs": [],
   "source": []
  },
  {
   "cell_type": "code",
   "execution_count": 10,
   "metadata": {
    "collapsed": true
   },
   "outputs": [],
   "source": [
    "plot_df = df.groupby(['numHeaders', 'isCombined', 'pairId']).sum()\n",
    "plot_df.reset_index(inplace=True)"
   ]
  },
  {
   "cell_type": "code",
   "execution_count": 11,
   "metadata": {
    "collapsed": true
   },
   "outputs": [],
   "source": [
    "plot_df_combined = plot_df[(plot_df['isCombined'] == True) | (plot_df['numHeaders'] == 0)]"
   ]
  },
  {
   "cell_type": "code",
   "execution_count": 12,
   "metadata": {
    "collapsed": false
   },
   "outputs": [
    {
     "data": {
      "text/html": [
       "<div>\n",
       "<style scoped>\n",
       "    .dataframe tbody tr th:only-of-type {\n",
       "        vertical-align: middle;\n",
       "    }\n",
       "\n",
       "    .dataframe tbody tr th {\n",
       "        vertical-align: top;\n",
       "    }\n",
       "\n",
       "    .dataframe thead tr th {\n",
       "        text-align: left;\n",
       "    }\n",
       "\n",
       "    .dataframe thead tr:last-of-type th {\n",
       "        text-align: right;\n",
       "    }\n",
       "</style>\n",
       "<table border=\"1\" class=\"dataframe\">\n",
       "  <thead>\n",
       "    <tr>\n",
       "      <th></th>\n",
       "      <th></th>\n",
       "      <th colspan=\"8\" halign=\"left\">Mpps</th>\n",
       "      <th colspan=\"8\" halign=\"left\">Mbps</th>\n",
       "    </tr>\n",
       "    <tr>\n",
       "      <th></th>\n",
       "      <th></th>\n",
       "      <th>count</th>\n",
       "      <th>mean</th>\n",
       "      <th>std</th>\n",
       "      <th>min</th>\n",
       "      <th>25%</th>\n",
       "      <th>50%</th>\n",
       "      <th>75%</th>\n",
       "      <th>max</th>\n",
       "      <th>count</th>\n",
       "      <th>mean</th>\n",
       "      <th>std</th>\n",
       "      <th>min</th>\n",
       "      <th>25%</th>\n",
       "      <th>50%</th>\n",
       "      <th>75%</th>\n",
       "      <th>max</th>\n",
       "    </tr>\n",
       "    <tr>\n",
       "      <th>numHeaders</th>\n",
       "      <th>isCombined</th>\n",
       "      <th></th>\n",
       "      <th></th>\n",
       "      <th></th>\n",
       "      <th></th>\n",
       "      <th></th>\n",
       "      <th></th>\n",
       "      <th></th>\n",
       "      <th></th>\n",
       "      <th></th>\n",
       "      <th></th>\n",
       "      <th></th>\n",
       "      <th></th>\n",
       "      <th></th>\n",
       "      <th></th>\n",
       "      <th></th>\n",
       "      <th></th>\n",
       "    </tr>\n",
       "  </thead>\n",
       "  <tbody>\n",
       "    <tr>\n",
       "      <th>0</th>\n",
       "      <th>False</th>\n",
       "      <td>9.0</td>\n",
       "      <td>14.538889</td>\n",
       "      <td>0.003333</td>\n",
       "      <td>14.53</td>\n",
       "      <td>14.54</td>\n",
       "      <td>14.54</td>\n",
       "      <td>14.54</td>\n",
       "      <td>14.54</td>\n",
       "      <td>9.0</td>\n",
       "      <td>19999.075556</td>\n",
       "      <td>1.566805</td>\n",
       "      <td>19995.91</td>\n",
       "      <td>19999.63</td>\n",
       "      <td>19999.69</td>\n",
       "      <td>20000.00</td>\n",
       "      <td>20000.08</td>\n",
       "    </tr>\n",
       "    <tr>\n",
       "      <th>5</th>\n",
       "      <th>True</th>\n",
       "      <td>9.0</td>\n",
       "      <td>10.957778</td>\n",
       "      <td>0.006667</td>\n",
       "      <td>10.94</td>\n",
       "      <td>10.96</td>\n",
       "      <td>10.96</td>\n",
       "      <td>10.96</td>\n",
       "      <td>10.96</td>\n",
       "      <td>9.0</td>\n",
       "      <td>19996.262222</td>\n",
       "      <td>10.730765</td>\n",
       "      <td>19967.65</td>\n",
       "      <td>19999.67</td>\n",
       "      <td>19999.74</td>\n",
       "      <td>20000.01</td>\n",
       "      <td>20000.05</td>\n",
       "    </tr>\n",
       "    <tr>\n",
       "      <th>10</th>\n",
       "      <th>True</th>\n",
       "      <td>9.0</td>\n",
       "      <td>9.000000</td>\n",
       "      <td>0.000000</td>\n",
       "      <td>9.00</td>\n",
       "      <td>9.00</td>\n",
       "      <td>9.00</td>\n",
       "      <td>9.00</td>\n",
       "      <td>9.00</td>\n",
       "      <td>9.0</td>\n",
       "      <td>19999.854444</td>\n",
       "      <td>0.180632</td>\n",
       "      <td>19999.58</td>\n",
       "      <td>19999.71</td>\n",
       "      <td>19999.86</td>\n",
       "      <td>19999.99</td>\n",
       "      <td>20000.12</td>\n",
       "    </tr>\n",
       "    <tr>\n",
       "      <th>15</th>\n",
       "      <th>True</th>\n",
       "      <td>9.0</td>\n",
       "      <td>7.480000</td>\n",
       "      <td>0.000000</td>\n",
       "      <td>7.48</td>\n",
       "      <td>7.48</td>\n",
       "      <td>7.48</td>\n",
       "      <td>7.48</td>\n",
       "      <td>7.48</td>\n",
       "      <td>9.0</td>\n",
       "      <td>19999.862222</td>\n",
       "      <td>0.200423</td>\n",
       "      <td>19999.55</td>\n",
       "      <td>19999.72</td>\n",
       "      <td>19999.86</td>\n",
       "      <td>20000.01</td>\n",
       "      <td>20000.17</td>\n",
       "    </tr>\n",
       "    <tr>\n",
       "      <th>20</th>\n",
       "      <th>True</th>\n",
       "      <td>9.0</td>\n",
       "      <td>6.520000</td>\n",
       "      <td>0.000000</td>\n",
       "      <td>6.52</td>\n",
       "      <td>6.52</td>\n",
       "      <td>6.52</td>\n",
       "      <td>6.52</td>\n",
       "      <td>6.52</td>\n",
       "      <td>9.0</td>\n",
       "      <td>19999.853333</td>\n",
       "      <td>0.211778</td>\n",
       "      <td>19999.54</td>\n",
       "      <td>19999.69</td>\n",
       "      <td>19999.85</td>\n",
       "      <td>20000.01</td>\n",
       "      <td>20000.17</td>\n",
       "    </tr>\n",
       "    <tr>\n",
       "      <th>25</th>\n",
       "      <th>True</th>\n",
       "      <td>9.0</td>\n",
       "      <td>5.680000</td>\n",
       "      <td>0.000000</td>\n",
       "      <td>5.68</td>\n",
       "      <td>5.68</td>\n",
       "      <td>5.68</td>\n",
       "      <td>5.68</td>\n",
       "      <td>5.68</td>\n",
       "      <td>9.0</td>\n",
       "      <td>19999.858889</td>\n",
       "      <td>0.218429</td>\n",
       "      <td>19999.52</td>\n",
       "      <td>19999.70</td>\n",
       "      <td>19999.86</td>\n",
       "      <td>20000.02</td>\n",
       "      <td>20000.20</td>\n",
       "    </tr>\n",
       "    <tr>\n",
       "      <th>30</th>\n",
       "      <th>True</th>\n",
       "      <td>9.0</td>\n",
       "      <td>5.100000</td>\n",
       "      <td>0.000000</td>\n",
       "      <td>5.10</td>\n",
       "      <td>5.10</td>\n",
       "      <td>5.10</td>\n",
       "      <td>5.10</td>\n",
       "      <td>5.10</td>\n",
       "      <td>9.0</td>\n",
       "      <td>19999.858889</td>\n",
       "      <td>0.220423</td>\n",
       "      <td>19999.54</td>\n",
       "      <td>19999.68</td>\n",
       "      <td>19999.86</td>\n",
       "      <td>20000.03</td>\n",
       "      <td>20000.18</td>\n",
       "    </tr>\n",
       "  </tbody>\n",
       "</table>\n",
       "</div>"
      ],
      "text/plain": [
       "                       Mpps                                                   \\\n",
       "                      count       mean       std    min    25%    50%    75%   \n",
       "numHeaders isCombined                                                          \n",
       "0          False        9.0  14.538889  0.003333  14.53  14.54  14.54  14.54   \n",
       "5          True         9.0  10.957778  0.006667  10.94  10.96  10.96  10.96   \n",
       "10         True         9.0   9.000000  0.000000   9.00   9.00   9.00   9.00   \n",
       "15         True         9.0   7.480000  0.000000   7.48   7.48   7.48   7.48   \n",
       "20         True         9.0   6.520000  0.000000   6.52   6.52   6.52   6.52   \n",
       "25         True         9.0   5.680000  0.000000   5.68   5.68   5.68   5.68   \n",
       "30         True         9.0   5.100000  0.000000   5.10   5.10   5.10   5.10   \n",
       "\n",
       "                              Mbps                                     \\\n",
       "                         max count          mean        std       min   \n",
       "numHeaders isCombined                                                   \n",
       "0          False       14.54   9.0  19999.075556   1.566805  19995.91   \n",
       "5          True        10.96   9.0  19996.262222  10.730765  19967.65   \n",
       "10         True         9.00   9.0  19999.854444   0.180632  19999.58   \n",
       "15         True         7.48   9.0  19999.862222   0.200423  19999.55   \n",
       "20         True         6.52   9.0  19999.853333   0.211778  19999.54   \n",
       "25         True         5.68   9.0  19999.858889   0.218429  19999.52   \n",
       "30         True         5.10   9.0  19999.858889   0.220423  19999.54   \n",
       "\n",
       "                                                               \n",
       "                            25%       50%       75%       max  \n",
       "numHeaders isCombined                                          \n",
       "0          False       19999.63  19999.69  20000.00  20000.08  \n",
       "5          True        19999.67  19999.74  20000.01  20000.05  \n",
       "10         True        19999.71  19999.86  19999.99  20000.12  \n",
       "15         True        19999.72  19999.86  20000.01  20000.17  \n",
       "20         True        19999.69  19999.85  20000.01  20000.17  \n",
       "25         True        19999.70  19999.86  20000.02  20000.20  \n",
       "30         True        19999.68  19999.86  20000.03  20000.18  "
      ]
     },
     "execution_count": 12,
     "metadata": {},
     "output_type": "execute_result"
    }
   ],
   "source": [
    "plot_df_combined.groupby(['numHeaders', 'isCombined'])[['Mpps', 'Mbps']].describe()"
   ]
  },
  {
   "cell_type": "code",
   "execution_count": null,
   "metadata": {
    "collapsed": true
   },
   "outputs": [],
   "source": []
  },
  {
   "cell_type": "code",
   "execution_count": 14,
   "metadata": {
    "collapsed": false
   },
   "outputs": [
    {
     "data": {
      "image/png": "[encoded data removed]",
      "text/plain": [
       "<matplotlib.figure.Figure at 0x7f8764d9ebe0>"
      ]
     },
     "metadata": {},
     "output_type": "display_data"
    }
   ],
   "source": [
    "sns.set(style='ticks', font_scale=1.3, rc={\"lines.linewidth\": 0.9})\n",
    "ax = sns.factorplot(x='numHeaders', y='Mpps', data=plot_df_combined, palette=\"Greys\",\n",
    "                   size=3, kind=\"bar\", legend=True, legend_out=False, aspect=1.5, ci='sd')\n",
    "ax.set(xlabel='No. of Headers', ylabel='Throughput (Mpps)')\n",
    "# plt.savefig('vswitch-adding-headers-throughput-mpps.pdf')\n",
    "plt.show()"
   ]
  },
  {
   "cell_type": "code",
   "execution_count": 15,
   "metadata": {
    "collapsed": true
   },
   "outputs": [],
   "source": [
    "plot_df_combined['Gbps'] = plot_df_combined['Mbps'] / 1024"
   ]
  },
  {
   "cell_type": "code",
   "execution_count": 16,
   "metadata": {
    "collapsed": false
   },
   "outputs": [
    {
     "data": {
      "image/png": "[encoded data removed]",
      "text/plain": [
       "<matplotlib.figure.Figure at 0x7f87b0d51e48>"
      ]
     },
     "metadata": {},
     "output_type": "display_data"
    }
   ],
   "source": [
    "sns.set(style='ticks', font_scale=1.3, rc={\"lines.linewidth\": 0.9})\n",
    "ax = sns.factorplot(x='numHeaders', y='Gbps', data=plot_df_combined, palette=\"Greys\",\n",
    "                   size=3, kind=\"bar\", legend=True, legend_out=False, aspect=1.5, ci='sd')\n",
    "ax.set(xlabel='No. of Headers', ylabel='Throughput (Gbps)')\n",
    "# plt.savefig('vswitch-adding-headers-throughput-gbps.pdf')\n",
    "plt.show()"
   ]
  },
  {
   "cell_type": "code",
   "execution_count": 17,
   "metadata": {
    "collapsed": false
   },
   "outputs": [
    {
     "data": {
      "text/html": [
       "<div>\n",
       "<style scoped>\n",
       "    .dataframe tbody tr th:only-of-type {\n",
       "        vertical-align: middle;\n",
       "    }\n",
       "\n",
       "    .dataframe tbody tr th {\n",
       "        vertical-align: top;\n",
       "    }\n",
       "\n",
       "    .dataframe thead th {\n",
       "        text-align: right;\n",
       "    }\n",
       "</style>\n",
       "<table border=\"1\" class=\"dataframe\">\n",
       "  <thead>\n",
       "    <tr style=\"text-align: right;\">\n",
       "      <th></th>\n",
       "      <th>numHeaders</th>\n",
       "      <th>isCombined</th>\n",
       "      <th>pairId</th>\n",
       "      <th>dev</th>\n",
       "      <th>Mpps</th>\n",
       "      <th>Mbps</th>\n",
       "      <th>Gbps</th>\n",
       "    </tr>\n",
       "  </thead>\n",
       "  <tbody>\n",
       "    <tr>\n",
       "      <th>0</th>\n",
       "      <td>0</td>\n",
       "      <td>False</td>\n",
       "      <td>0</td>\n",
       "      <td>1</td>\n",
       "      <td>14.54</td>\n",
       "      <td>20000.08</td>\n",
       "      <td>19.531328</td>\n",
       "    </tr>\n",
       "    <tr>\n",
       "      <th>1</th>\n",
       "      <td>0</td>\n",
       "      <td>False</td>\n",
       "      <td>1</td>\n",
       "      <td>1</td>\n",
       "      <td>14.54</td>\n",
       "      <td>19999.63</td>\n",
       "      <td>19.530889</td>\n",
       "    </tr>\n",
       "    <tr>\n",
       "      <th>2</th>\n",
       "      <td>0</td>\n",
       "      <td>False</td>\n",
       "      <td>2</td>\n",
       "      <td>1</td>\n",
       "      <td>14.53</td>\n",
       "      <td>19995.91</td>\n",
       "      <td>19.527256</td>\n",
       "    </tr>\n",
       "    <tr>\n",
       "      <th>3</th>\n",
       "      <td>0</td>\n",
       "      <td>False</td>\n",
       "      <td>3</td>\n",
       "      <td>1</td>\n",
       "      <td>14.54</td>\n",
       "      <td>19999.68</td>\n",
       "      <td>19.530938</td>\n",
       "    </tr>\n",
       "    <tr>\n",
       "      <th>4</th>\n",
       "      <td>0</td>\n",
       "      <td>False</td>\n",
       "      <td>4</td>\n",
       "      <td>1</td>\n",
       "      <td>14.54</td>\n",
       "      <td>20000.03</td>\n",
       "      <td>19.531279</td>\n",
       "    </tr>\n",
       "  </tbody>\n",
       "</table>\n",
       "</div>"
      ],
      "text/plain": [
       "   numHeaders  isCombined  pairId  dev   Mpps      Mbps       Gbps\n",
       "0           0       False       0    1  14.54  20000.08  19.531328\n",
       "1           0       False       1    1  14.54  19999.63  19.530889\n",
       "2           0       False       2    1  14.53  19995.91  19.527256\n",
       "3           0       False       3    1  14.54  19999.68  19.530938\n",
       "4           0       False       4    1  14.54  20000.03  19.531279"
      ]
     },
     "execution_count": 17,
     "metadata": {},
     "output_type": "execute_result"
    }
   ],
   "source": [
    "plot_df_combined.head()"
   ]
  },
  {
   "cell_type": "code",
   "execution_count": 26,
   "metadata": {
    "collapsed": true
   },
   "outputs": [],
   "source": [
    "plot_df_combined[['numHeaders', 'Mpps', 'Mbps', 'Gbps']].to_csv(directory + 'throughput_combined_headers.csv', index=False)"
   ]
  },
  {
   "cell_type": "code",
   "execution_count": null,
   "metadata": {
    "collapsed": true
   },
   "outputs": [],
   "source": []
  },
  {
   "cell_type": "code",
   "execution_count": 18,
   "metadata": {
    "collapsed": true
   },
   "outputs": [],
   "source": [
    "plot_df_no_combined = plot_df[plot_df['isCombined'] == False]"
   ]
  },
  {
   "cell_type": "code",
   "execution_count": 25,
   "metadata": {
    "collapsed": false
   },
   "outputs": [
    {
     "data": {
      "image/png": "[encoded data removed]",
      "text/plain": [
       "<matplotlib.figure.Figure at 0x7f87ae5750f0>"
      ]
     },
     "metadata": {},
     "output_type": "display_data"
    }
   ],
   "source": [
    "sns.set(style='ticks', font_scale=1.3, rc={\"lines.linewidth\": 0.9})\n",
    "ax = sns.factorplot(x='numHeaders', y='Mpps', data=plot_df_no_combined, palette=\"Greys\",\n",
    "                   size=3, kind=\"bar\", legend=True, legend_out=False, aspect=1.5, ci='sd')\n",
    "ax.set(xlabel='No. of Headers', ylabel='Throughput (Mpps)')\n",
    "plt.savefig('vswitch-adding-separate-headers-throughput-mpps.pdf')\n",
    "plt.show()"
   ]
  },
  {
   "cell_type": "code",
   "execution_count": 20,
   "metadata": {
    "collapsed": true
   },
   "outputs": [],
   "source": [
    "plot_df_no_combined['Gbps'] = plot_df_no_combined['Mbps'] / 1024"
   ]
  },
  {
   "cell_type": "code",
   "execution_count": 23,
   "metadata": {
    "collapsed": false
   },
   "outputs": [
    {
     "data": {
      "image/png": "[encoded data removed]",
      "text/plain": [
       "<matplotlib.figure.Figure at 0x7f87b0d37fd0>"
      ]
     },
     "metadata": {},
     "output_type": "display_data"
    }
   ],
   "source": [
    "sns.set(style='ticks', font_scale=1.3, rc={\"lines.linewidth\": 0.9})\n",
    "ax = sns.factorplot(x='numHeaders', y='Gbps', data=plot_df_no_combined, palette=\"Greys\",\n",
    "                   size=3, kind=\"bar\", legend=True, legend_out=False, aspect=1.5, ci='sd')\n",
    "ax.set(xlabel='No. of Headers', ylabel='Throughput (Gbps)')\n",
    "plt.savefig('vswitch-adding-separate-headers-throughput-gbps.pdf')\n",
    "plt.show()"
   ]
  },
  {
   "cell_type": "code",
   "execution_count": 26,
   "metadata": {
    "collapsed": true
   },
   "outputs": [],
   "source": [
    "plot_df_no_combined[['numHeaders', 'Mpps', 'Mbps', 'Gbps']].to_csv(directory + 'throughput_separate_headers.csv', index=False)"
   ]
  },
  {
   "cell_type": "code",
   "execution_count": null,
   "metadata": {
    "collapsed": true
   },
   "outputs": [],
   "source": []
  }
 ],
 "metadata": {
  "kernelspec": {
   "display_name": "Python 3",
   "language": "python",
   "name": "python3"
  },
  "language_info": {
   "codemirror_mode": {
    "name": "ipython",
    "version": 3
   },
   "file_extension": ".py",
   "mimetype": "text/x-python",
   "name": "python",
   "nbconvert_exporter": "python",
   "pygments_lexer": "ipython3",
   "version": "3.5.2"
  }
 },
 "nbformat": 4,
 "nbformat_minor": 2
}
