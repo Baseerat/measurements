{
 "cells": [
  {
   "cell_type": "code",
   "execution_count": 1,
   "metadata": {
    "collapsed": false
   },
   "outputs": [
    {
     "name": "stderr",
     "output_type": "stream",
     "text": [
      "Loading required package: ggplot2\n",
      "Loading required package: data.table\n",
      "Loading required package: Hmisc\n",
      "Loading required package: lattice\n",
      "Loading required package: survival\n",
      "Loading required package: Formula\n",
      "\n",
      "Attaching package: ‘Hmisc’\n",
      "\n",
      "The following objects are masked from ‘package:base’:\n",
      "\n",
      "    format.pval, round.POSIXt, trunc.POSIXt, units\n",
      "\n",
      "Loading required package: ggthemes\n",
      "Loading required package: gridExtra\n",
      "\n",
      "Attaching package: ‘gridExtra’\n",
      "\n",
      "The following object is masked from ‘package:Hmisc’:\n",
      "\n",
      "    combine\n",
      "\n",
      "Loading required package: grid\n",
      "Loading required package: scales\n",
      "Loading required package: RColorBrewer\n"
     ]
    }
   ],
   "source": [
    "require(ggplot2)\n",
    "require(data.table)\n",
    "require(Hmisc)\n",
    "require(ggthemes)\n",
    "require(gridExtra)\n",
    "require(grid)\n",
    "require(lattice)\n",
    "require(scales)\n",
    "require(RColorBrewer)"
   ]
  },
  {
   "cell_type": "code",
   "execution_count": null,
   "metadata": {
    "collapsed": true
   },
   "outputs": [],
   "source": []
  },
  {
   "cell_type": "code",
   "execution_count": 2,
   "metadata": {
    "collapsed": false
   },
   "outputs": [],
   "source": [
    "directory = \"../../../../results/benchmarks/vswitch-adding-headers/throughput/\"\n",
    "plotTheme <- theme_hc() + theme(legend.title=element_blank(), legend.position=\"none\", legend.text=element_text(size=8))"
   ]
  },
  {
   "cell_type": "code",
   "execution_count": null,
   "metadata": {
    "collapsed": true
   },
   "outputs": [],
   "source": []
  },
  {
   "cell_type": "code",
   "execution_count": 3,
   "metadata": {
    "collapsed": true
   },
   "outputs": [],
   "source": [
    "throughputCombinedHeaders <- fread(paste(directory, \"throughput_combined_headers.csv\", sep=\"/\"), sep=\",\", header=TRUE)"
   ]
  },
  {
   "cell_type": "code",
   "execution_count": 4,
   "metadata": {
    "collapsed": false
   },
   "outputs": [
    {
     "data": {
      "text/html": [
       "<table>\n",
       "<thead><tr><th></th><th scope=col>numHeaders</th><th scope=col>Mpps</th><th scope=col>Mbps</th><th scope=col>Gbps</th></tr></thead>\n",
       "<tbody>\n",
       "\t<tr><th scope=row>1</th><td>    0.00000</td><td>   14.54000</td><td>20000.08000</td><td>   19.53133</td></tr>\n",
       "\t<tr><th scope=row>2</th><td>    0.00000</td><td>   14.54000</td><td>19999.63000</td><td>   19.53089</td></tr>\n",
       "\t<tr><th scope=row>3</th><td>    0.00000</td><td>   14.53000</td><td>19995.91000</td><td>   19.52726</td></tr>\n",
       "\t<tr><th scope=row>4</th><td>    0.00000</td><td>   14.54000</td><td>19999.68000</td><td>   19.53094</td></tr>\n",
       "\t<tr><th scope=row>5</th><td>    0.00000</td><td>   14.54000</td><td>20000.03000</td><td>   19.53128</td></tr>\n",
       "\t<tr><th scope=row>6</th><td>    0.00000</td><td>   14.54000</td><td>19999.69000</td><td>   19.53095</td></tr>\n",
       "</tbody>\n",
       "</table>\n"
      ],
      "text/latex": [
       "\\begin{tabular}{r|llll}\n",
       "  & numHeaders & Mpps & Mbps & Gbps\\\\\n",
       "\\hline\n",
       "\t1 &     0.00000 &    14.54000 & 20000.08000 &    19.53133\\\\\n",
       "\t2 &     0.00000 &    14.54000 & 19999.63000 &    19.53089\\\\\n",
       "\t3 &     0.00000 &    14.53000 & 19995.91000 &    19.52726\\\\\n",
       "\t4 &     0.00000 &    14.54000 & 19999.68000 &    19.53094\\\\\n",
       "\t5 &     0.00000 &    14.54000 & 20000.03000 &    19.53128\\\\\n",
       "\t6 &     0.00000 &    14.54000 & 19999.69000 &    19.53095\\\\\n",
       "\\end{tabular}\n"
      ],
      "text/plain": [
       "  numHeaders  Mpps     Mbps     Gbps\n",
       "1          0 14.54 20000.08 19.53133\n",
       "2          0 14.54 19999.63 19.53089\n",
       "3          0 14.53 19995.91 19.52726\n",
       "4          0 14.54 19999.68 19.53094\n",
       "5          0 14.54 20000.03 19.53128\n",
       "6          0 14.54 19999.69 19.53095"
      ]
     },
     "metadata": {},
     "output_type": "display_data"
    }
   ],
   "source": [
    "head(throughputCombinedHeaders)"
   ]
  },
  {
   "cell_type": "code",
   "execution_count": 5,
   "metadata": {
    "collapsed": false
   },
   "outputs": [],
   "source": [
    "p1 <- ggplot(throughputCombinedHeaders, aes(y=Mpps, x=factor(numHeaders), col=\"baseerat\", fill=\"baseerat\")) + \n",
    " stat_summary(fun.data=mean_sdl, fun.args = list(mult=1), geom=\"bar\", width=0.5, col=\"black\") + \n",
    " stat_summary(fun.data=mean_sdl, fun.args = list(mult=1), geom=\"errorbar\", width=0.2, color=\"black\") +\n",
    " ylab(\"Throughput (Mpps)\") +\n",
    " xlab(\"No. of headers\") +\n",
    " scale_color_tableau() +\n",
    " scale_fill_tableau() +\n",
    " plotTheme"
   ]
  },
  {
   "cell_type": "code",
   "execution_count": 6,
   "metadata": {
    "collapsed": true
   },
   "outputs": [],
   "source": [
    "ggsave(p1, height=3, width=4, file=\"vswitch-adding-headers-throughput-mpps.pdf\")"
   ]
  },
  {
   "cell_type": "code",
   "execution_count": 7,
   "metadata": {
    "collapsed": false
   },
   "outputs": [],
   "source": [
    "p2 <- ggplot(throughputCombinedHeaders, aes(y=Gbps, x=factor(numHeaders), col=\"baseerat\", fill=\"baseerat\")) + \n",
    " stat_summary(fun.data=mean_sdl, fun.args = list(mult=1), geom=\"bar\", width=0.5, col=\"black\") + \n",
    " stat_summary(fun.data=mean_sdl, fun.args = list(mult=1), geom=\"errorbar\", width=0.2, color=\"black\") +\n",
    " ylab(\"Throughput (Gbps)\") +\n",
    " xlab(\"No. of headers\") +\n",
    " scale_color_tableau() +\n",
    " scale_fill_tableau() +\n",
    " plotTheme"
   ]
  },
  {
   "cell_type": "code",
   "execution_count": 8,
   "metadata": {
    "collapsed": true
   },
   "outputs": [],
   "source": [
    "ggsave(p2, height=3, width=4, file=\"vswitch-adding-headers-throughput-gbps.pdf\")"
   ]
  },
  {
   "cell_type": "code",
   "execution_count": 9,
   "metadata": {
    "collapsed": true
   },
   "outputs": [],
   "source": [
    "throughputNoCombinedHeaders <- fread(paste(directory, \"throughput_no_combined_headers.csv\", sep=\"/\"), sep=\",\", header=TRUE)"
   ]
  },
  {
   "cell_type": "code",
   "execution_count": 10,
   "metadata": {
    "collapsed": false
   },
   "outputs": [
    {
     "data": {
      "text/html": [
       "<table>\n",
       "<thead><tr><th></th><th scope=col>numHeaders</th><th scope=col>Mpps</th><th scope=col>Mbps</th><th scope=col>Gbps</th></tr></thead>\n",
       "<tbody>\n",
       "\t<tr><th scope=row>1</th><td>    0.00000</td><td>   14.54000</td><td>20000.08000</td><td>   19.53133</td></tr>\n",
       "\t<tr><th scope=row>2</th><td>    0.00000</td><td>   14.54000</td><td>19999.63000</td><td>   19.53089</td></tr>\n",
       "\t<tr><th scope=row>3</th><td>    0.00000</td><td>   14.53000</td><td>19995.91000</td><td>   19.52726</td></tr>\n",
       "\t<tr><th scope=row>4</th><td>    0.00000</td><td>   14.54000</td><td>19999.68000</td><td>   19.53094</td></tr>\n",
       "\t<tr><th scope=row>5</th><td>    0.00000</td><td>   14.54000</td><td>20000.03000</td><td>   19.53128</td></tr>\n",
       "\t<tr><th scope=row>6</th><td>    0.00000</td><td>   14.54000</td><td>19999.69000</td><td>   19.53095</td></tr>\n",
       "</tbody>\n",
       "</table>\n"
      ],
      "text/latex": [
       "\\begin{tabular}{r|llll}\n",
       "  & numHeaders & Mpps & Mbps & Gbps\\\\\n",
       "\\hline\n",
       "\t1 &     0.00000 &    14.54000 & 20000.08000 &    19.53133\\\\\n",
       "\t2 &     0.00000 &    14.54000 & 19999.63000 &    19.53089\\\\\n",
       "\t3 &     0.00000 &    14.53000 & 19995.91000 &    19.52726\\\\\n",
       "\t4 &     0.00000 &    14.54000 & 19999.68000 &    19.53094\\\\\n",
       "\t5 &     0.00000 &    14.54000 & 20000.03000 &    19.53128\\\\\n",
       "\t6 &     0.00000 &    14.54000 & 19999.69000 &    19.53095\\\\\n",
       "\\end{tabular}\n"
      ],
      "text/plain": [
       "  numHeaders  Mpps     Mbps     Gbps\n",
       "1          0 14.54 20000.08 19.53133\n",
       "2          0 14.54 19999.63 19.53089\n",
       "3          0 14.53 19995.91 19.52726\n",
       "4          0 14.54 19999.68 19.53094\n",
       "5          0 14.54 20000.03 19.53128\n",
       "6          0 14.54 19999.69 19.53095"
      ]
     },
     "metadata": {},
     "output_type": "display_data"
    }
   ],
   "source": [
    "head(throughputNoCombinedHeaders)"
   ]
  },
  {
   "cell_type": "code",
   "execution_count": 11,
   "metadata": {
    "collapsed": false
   },
   "outputs": [
    {
     "data": {
      "image/png": "[encoded data removed]",
      "text/plain": [
       "plot without title"
      ]
     },
     "metadata": {},
     "output_type": "display_data"
    }
   ],
   "source": [
    "combined <- grid.arrange(p1, p2, ncol=2)\n",
    "ggsave(combined, height=2, width=4.1, file=\"vswitch-adding-headers-throughput-all.pdf\")"
   ]
  },
  {
   "cell_type": "code",
   "execution_count": null,
   "metadata": {
    "collapsed": true
   },
   "outputs": [],
   "source": []
  },
  {
   "cell_type": "code",
   "execution_count": null,
   "metadata": {
    "collapsed": true
   },
   "outputs": [],
   "source": []
  },
  {
   "cell_type": "code",
   "execution_count": null,
   "metadata": {
    "collapsed": true
   },
   "outputs": [],
   "source": []
  },
  {
   "cell_type": "code",
   "execution_count": null,
   "metadata": {
    "collapsed": true
   },
   "outputs": [],
   "source": []
  }
 ],
 "metadata": {
  "kernelspec": {
   "display_name": "R",
   "language": "R",
   "name": "ir"
  },
  "language_info": {
   "codemirror_mode": "r",
   "file_extension": ".r",
   "mimetype": "text/x-r-source",
   "name": "R",
   "pygments_lexer": "r",
   "version": "3.3.1"
  }
 },
 "nbformat": 4,
 "nbformat_minor": 2
}
