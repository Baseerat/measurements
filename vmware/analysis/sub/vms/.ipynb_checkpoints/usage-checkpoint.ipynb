{
 "cells": [
  {
   "cell_type": "code",
   "execution_count": 9,
   "metadata": {
    "collapsed": true
   },
   "outputs": [],
   "source": [
    "import os\n",
    "import glob\n",
    "from functools import reduce"
   ]
  },
  {
   "cell_type": "code",
   "execution_count": 10,
   "metadata": {
    "collapsed": false
   },
   "outputs": [],
   "source": [
    "import seaborn as sns\n",
    "import pandas as pd\n",
    "import matplotlib.pyplot as plt\n",
    "plt.style.use('ggplot')\n",
    "import seaborn as sns\n",
    "\n",
    "# display plots in the notebook\n",
    "%matplotlib inline\n",
    "\n",
    "# increase default figure and font sizes for easier viewing\n",
    "plt.rcParams['figure.figsize'] = (8, 6)\n",
    "plt.rcParams['font.size'] = 14"
   ]
  },
  {
   "cell_type": "markdown",
   "metadata": {},
   "source": [
    "## Analysis\n",
    "---\n",
    "\n",
    "Description: This is a test for fan-out evaluation. A publisher publishes messages to a varying number of subscribers. The VM hosting the publisher is pinned to a sinlge core (core 9), and the publisher process -- along with all its threads -- is pinned to a single core (core 3). The interval is set to 1ms."
   ]
  },
  {
   "cell_type": "code",
   "execution_count": 11,
   "metadata": {
    "collapsed": true
   },
   "outputs": [],
   "source": [
    "results_dir = \"../../../results/sub/vms/fanin/\"\n",
    "date_time_list = [\"20170730163819.235378\", \"20170730173148.946492\"]\n",
    "\n",
    "cols = ['%cpu', '%mem'] "
   ]
  },
  {
   "cell_type": "code",
   "execution_count": 12,
   "metadata": {
    "collapsed": false
   },
   "outputs": [
    {
     "data": {
      "text/plain": [
       "[2, 4, 8, 16, 32, 64, 100, 120, 128, 150]"
      ]
     },
     "execution_count": 12,
     "metadata": {},
     "output_type": "execute_result"
    }
   ],
   "source": [
    "dish_data_dict = {}\n",
    "\n",
    "for date_time in date_time_list:\n",
    "    for i in glob.glob(results_dir + date_time + \"/dish_stats_with__*\"):\n",
    "        count = eval(i.split('__')[1].split('_')[1].replace('x','*'))\n",
    "        dish_data_dict[count] = pd.read_csv(i, sep=' ', header=None, na_filter=False, names = cols)\n",
    "\n",
    "sorted(dish_data_dict.keys())"
   ]
  },
  {
   "cell_type": "code",
   "execution_count": 13,
   "metadata": {
    "collapsed": false
   },
   "outputs": [
    {
     "data": {
      "text/plain": [
       "[2, 4, 8, 16, 32, 64, 100, 120, 128, 150]"
      ]
     },
     "execution_count": 13,
     "metadata": {},
     "output_type": "execute_result"
    }
   ],
   "source": [
    "kvm_data_dict = {}\n",
    "\n",
    "for date_time in date_time_list:\n",
    "    for i in glob.glob(results_dir + date_time + \"/kvm_stats_with__*\"):\n",
    "        count = eval(i.split('__')[1].split('_')[1].replace('x','*'))\n",
    "        kvm_data_dict[count] = pd.read_csv(i, sep=' ', header=None, na_filter=False, names = cols)\n",
    "\n",
    "sorted(kvm_data_dict.keys())"
   ]
  },
  {
   "cell_type": "code",
   "execution_count": 18,
   "metadata": {
    "collapsed": false
   },
   "outputs": [
    {
     "data": {
      "text/html": [
       "<div>\n",
       "<style>\n",
       "    .dataframe thead tr:only-child th {\n",
       "        text-align: right;\n",
       "    }\n",
       "\n",
       "    .dataframe thead th {\n",
       "        text-align: left;\n",
       "    }\n",
       "\n",
       "    .dataframe tbody tr th {\n",
       "        vertical-align: top;\n",
       "    }\n",
       "</style>\n",
       "<table border=\"1\" class=\"dataframe\">\n",
       "  <thead>\n",
       "    <tr style=\"text-align: right;\">\n",
       "      <th></th>\n",
       "      <th>%vcpu</th>\n",
       "      <th>%vmem</th>\n",
       "      <th>%pcpu</th>\n",
       "      <th>%pmem</th>\n",
       "    </tr>\n",
       "    <tr>\n",
       "      <th>pubs</th>\n",
       "      <th></th>\n",
       "      <th></th>\n",
       "      <th></th>\n",
       "      <th></th>\n",
       "    </tr>\n",
       "  </thead>\n",
       "  <tbody>\n",
       "    <tr>\n",
       "      <th>2</th>\n",
       "      <td>4.930769</td>\n",
       "      <td>0.015385</td>\n",
       "      <td>11.815385</td>\n",
       "      <td>5.6</td>\n",
       "    </tr>\n",
       "    <tr>\n",
       "      <th>4</th>\n",
       "      <td>9.950000</td>\n",
       "      <td>0.028571</td>\n",
       "      <td>19.085714</td>\n",
       "      <td>5.6</td>\n",
       "    </tr>\n",
       "    <tr>\n",
       "      <th>8</th>\n",
       "      <td>14.207143</td>\n",
       "      <td>0.057143</td>\n",
       "      <td>24.878571</td>\n",
       "      <td>5.6</td>\n",
       "    </tr>\n",
       "    <tr>\n",
       "      <th>16</th>\n",
       "      <td>23.536364</td>\n",
       "      <td>0.090909</td>\n",
       "      <td>38.572727</td>\n",
       "      <td>5.6</td>\n",
       "    </tr>\n",
       "    <tr>\n",
       "      <th>32</th>\n",
       "      <td>37.280000</td>\n",
       "      <td>0.100000</td>\n",
       "      <td>53.721429</td>\n",
       "      <td>5.6</td>\n",
       "    </tr>\n",
       "    <tr>\n",
       "      <th>64</th>\n",
       "      <td>57.950000</td>\n",
       "      <td>0.100000</td>\n",
       "      <td>74.979167</td>\n",
       "      <td>5.6</td>\n",
       "    </tr>\n",
       "    <tr>\n",
       "      <th>100</th>\n",
       "      <td>72.591667</td>\n",
       "      <td>0.100000</td>\n",
       "      <td>88.800000</td>\n",
       "      <td>5.6</td>\n",
       "    </tr>\n",
       "    <tr>\n",
       "      <th>120</th>\n",
       "      <td>80.853846</td>\n",
       "      <td>0.100000</td>\n",
       "      <td>93.719231</td>\n",
       "      <td>5.6</td>\n",
       "    </tr>\n",
       "    <tr>\n",
       "      <th>128</th>\n",
       "      <td>82.640000</td>\n",
       "      <td>0.100000</td>\n",
       "      <td>94.860000</td>\n",
       "      <td>5.6</td>\n",
       "    </tr>\n",
       "    <tr>\n",
       "      <th>150</th>\n",
       "      <td>87.377778</td>\n",
       "      <td>0.100000</td>\n",
       "      <td>97.864151</td>\n",
       "      <td>5.6</td>\n",
       "    </tr>\n",
       "  </tbody>\n",
       "</table>\n",
       "</div>"
      ],
      "text/plain": [
       "          %vcpu     %vmem      %pcpu  %pmem\n",
       "pubs                                       \n",
       "2      4.930769  0.015385  11.815385    5.6\n",
       "4      9.950000  0.028571  19.085714    5.6\n",
       "8     14.207143  0.057143  24.878571    5.6\n",
       "16    23.536364  0.090909  38.572727    5.6\n",
       "32    37.280000  0.100000  53.721429    5.6\n",
       "64    57.950000  0.100000  74.979167    5.6\n",
       "100   72.591667  0.100000  88.800000    5.6\n",
       "120   80.853846  0.100000  93.719231    5.6\n",
       "128   82.640000  0.100000  94.860000    5.6\n",
       "150   87.377778  0.100000  97.864151    5.6"
      ]
     },
     "execution_count": 18,
     "metadata": {},
     "output_type": "execute_result"
    }
   ],
   "source": [
    "usage = pd.DataFrame()\n",
    "\n",
    "usage['pubs'] = sorted(dish_data_dict.keys())\n",
    "usage['%vcpu'] = [dish_data_dict[i]['%cpu'].mean() for i in usage['pubs']]\n",
    "usage['%vmem'] = [dish_data_dict[i]['%mem'].mean() for i in usage['pubs']]\n",
    "usage['%pcpu'] = [kvm_data_dict[i]['%cpu'].mean() for i in usage['pubs']]\n",
    "usage['%pmem'] = [kvm_data_dict[i]['%mem'].mean() for i in usage['pubs']]\n",
    "\n",
    "usage = usage.set_index('pubs')\n",
    "\n",
    "usage"
   ]
  },
  {
   "cell_type": "markdown",
   "metadata": {},
   "source": [
    "Note: after 150 subscribers, I start to see the following error (at this time pcpu hits 100% and more):\n",
    "\n",
    "`Resource temporarily unavailable (src/udp_engine.cpp:372)\n",
    "Aborted (core dumped)`"
   ]
  },
  {
   "cell_type": "code",
   "execution_count": 19,
   "metadata": {
    "collapsed": false
   },
   "outputs": [
    {
     "data": {
      "text/plain": [
       "<matplotlib.axes._subplots.AxesSubplot at 0x7fa9c8b0de80>"
      ]
     },
     "execution_count": 19,
     "metadata": {},
     "output_type": "execute_result"
    },
    {
     "data": {
      "image/png": "[encoded data removed]",
      "text/plain": [
       "<matplotlib.figure.Figure at 0x7fa9c8ccef60>"
      ]
     },
     "metadata": {},
     "output_type": "display_data"
    }
   ],
   "source": [
    "usage[['%vcpu', '%pcpu']].plot(kind='bar')"
   ]
  },
  {
   "cell_type": "code",
   "execution_count": 20,
   "metadata": {
    "collapsed": false
   },
   "outputs": [
    {
     "data": {
      "text/plain": [
       "<matplotlib.axes._subplots.AxesSubplot at 0x7fa9c8ae5b38>"
      ]
     },
     "execution_count": 20,
     "metadata": {},
     "output_type": "execute_result"
    },
    {
     "data": {
      "image/png": "[encoded data removed]",
      "text/plain": [
       "<matplotlib.figure.Figure at 0x7fa9c8abe6a0>"
      ]
     },
     "metadata": {},
     "output_type": "display_data"
    }
   ],
   "source": [
    "usage[['%vmem', '%pmem']].plot(kind='bar')"
   ]
  },
  {
   "cell_type": "code",
   "execution_count": null,
   "metadata": {
    "collapsed": true
   },
   "outputs": [],
   "source": []
  }
 ],
 "metadata": {
  "kernelspec": {
   "display_name": "Python 3",
   "language": "python",
   "name": "python3"
  },
  "language_info": {
   "codemirror_mode": {
    "name": "ipython",
    "version": 3
   },
   "file_extension": ".py",
   "mimetype": "text/x-python",
   "name": "python",
   "nbconvert_exporter": "python",
   "pygments_lexer": "ipython3",
   "version": "3.5.2"
  }
 },
 "nbformat": 4,
 "nbformat_minor": 2
}
