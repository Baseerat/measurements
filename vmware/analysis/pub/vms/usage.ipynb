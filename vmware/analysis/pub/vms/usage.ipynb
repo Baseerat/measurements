{
 "cells": [
  {
   "cell_type": "code",
   "execution_count": 1,
   "metadata": {
    "collapsed": true
   },
   "outputs": [],
   "source": [
    "import os\n",
    "import glob\n",
    "from functools import reduce"
   ]
  },
  {
   "cell_type": "code",
   "execution_count": 2,
   "metadata": {
    "collapsed": false
   },
   "outputs": [],
   "source": [
    "import seaborn as sns\n",
    "import pandas as pd\n",
    "import matplotlib.pyplot as plt\n",
    "plt.style.use('ggplot')\n",
    "import seaborn as sns\n",
    "\n",
    "# display plots in the notebook\n",
    "%matplotlib inline\n",
    "\n",
    "# increase default figure and font sizes for easier viewing\n",
    "plt.rcParams['figure.figsize'] = (8, 6)\n",
    "plt.rcParams['font.size'] = 14"
   ]
  },
  {
   "cell_type": "markdown",
   "metadata": {},
   "source": [
    "## Analysis\n",
    "---\n",
    "\n",
    "Description: This is a test for fan-out evaluation. A publisher publishes messages to a varying number of subscribers. The VM hosting the publisher is pinned to a sinlge core (core 9), and the publisher process -- along with all its threads -- is pinned to a single core (core 3). The interval is set to 1ms."
   ]
  },
  {
   "cell_type": "code",
   "execution_count": 3,
   "metadata": {
    "collapsed": true
   },
   "outputs": [],
   "source": [
    "results_dir = \"../../../results/pub/vms/fanout/\"\n",
    "data_time = \"20170730012928.038054\"\n",
    "\n",
    "cols = ['%cpu', '%mem'] "
   ]
  },
  {
   "cell_type": "code",
   "execution_count": 4,
   "metadata": {
    "collapsed": false
   },
   "outputs": [
    {
     "data": {
      "text/plain": [
       "[2, 4, 8, 16, 32, 64, 128, 256]"
      ]
     },
     "execution_count": 4,
     "metadata": {},
     "output_type": "execute_result"
    }
   ],
   "source": [
    "radio_data_dict = {}\n",
    "\n",
    "for i in glob.glob(results_dir + data_time + \"/radio_stats_with__*\"):\n",
    "    count = eval(i.split('__')[1].split('_')[1].replace('x','*'))\n",
    "    radio_data_dict[count] = pd.read_csv(i, sep=' ', header=None, na_filter=False, names = cols)\n",
    "\n",
    "sorted(radio_data_dict.keys())"
   ]
  },
  {
   "cell_type": "code",
   "execution_count": 5,
   "metadata": {
    "collapsed": false
   },
   "outputs": [
    {
     "data": {
      "text/plain": [
       "[2, 4, 8, 16, 32, 64, 128, 256]"
      ]
     },
     "execution_count": 5,
     "metadata": {},
     "output_type": "execute_result"
    }
   ],
   "source": [
    "kvm_data_dict = {}\n",
    "\n",
    "for i in glob.glob(results_dir + data_time + \"/kvm_stats_with__*\"):\n",
    "    count = eval(i.split('__')[1].split('_')[1].replace('x','*'))\n",
    "    kvm_data_dict[count] = pd.read_csv(i, sep=' ', header=None, na_filter=False, names = cols)\n",
    "\n",
    "sorted(kvm_data_dict.keys())"
   ]
  },
  {
   "cell_type": "code",
   "execution_count": 6,
   "metadata": {
    "collapsed": false
   },
   "outputs": [
    {
     "data": {
      "text/html": [
       "<div>\n",
       "<style>\n",
       "    .dataframe thead tr:only-child th {\n",
       "        text-align: right;\n",
       "    }\n",
       "\n",
       "    .dataframe thead th {\n",
       "        text-align: left;\n",
       "    }\n",
       "\n",
       "    .dataframe tbody tr th {\n",
       "        vertical-align: top;\n",
       "    }\n",
       "</style>\n",
       "<table border=\"1\" class=\"dataframe\">\n",
       "  <thead>\n",
       "    <tr style=\"text-align: right;\">\n",
       "      <th></th>\n",
       "      <th>%vcpu</th>\n",
       "      <th>%vmem</th>\n",
       "      <th>%pcpu</th>\n",
       "      <th>%pmem</th>\n",
       "    </tr>\n",
       "    <tr>\n",
       "      <th>subs</th>\n",
       "      <th></th>\n",
       "      <th></th>\n",
       "      <th></th>\n",
       "      <th></th>\n",
       "    </tr>\n",
       "  </thead>\n",
       "  <tbody>\n",
       "    <tr>\n",
       "      <th>2</th>\n",
       "      <td>4.653846</td>\n",
       "      <td>0.023077</td>\n",
       "      <td>7.191667</td>\n",
       "      <td>4.8</td>\n",
       "    </tr>\n",
       "    <tr>\n",
       "      <th>4</th>\n",
       "      <td>5.327273</td>\n",
       "      <td>0.100000</td>\n",
       "      <td>8.580000</td>\n",
       "      <td>4.8</td>\n",
       "    </tr>\n",
       "    <tr>\n",
       "      <th>8</th>\n",
       "      <td>6.400000</td>\n",
       "      <td>0.100000</td>\n",
       "      <td>9.358333</td>\n",
       "      <td>4.8</td>\n",
       "    </tr>\n",
       "    <tr>\n",
       "      <th>16</th>\n",
       "      <td>9.054545</td>\n",
       "      <td>0.100000</td>\n",
       "      <td>12.470000</td>\n",
       "      <td>4.8</td>\n",
       "    </tr>\n",
       "    <tr>\n",
       "      <th>32</th>\n",
       "      <td>14.527273</td>\n",
       "      <td>0.100000</td>\n",
       "      <td>17.840000</td>\n",
       "      <td>4.8</td>\n",
       "    </tr>\n",
       "    <tr>\n",
       "      <th>64</th>\n",
       "      <td>25.518750</td>\n",
       "      <td>0.200000</td>\n",
       "      <td>28.918750</td>\n",
       "      <td>4.8</td>\n",
       "    </tr>\n",
       "    <tr>\n",
       "      <th>128</th>\n",
       "      <td>49.445000</td>\n",
       "      <td>0.300000</td>\n",
       "      <td>52.505000</td>\n",
       "      <td>4.8</td>\n",
       "    </tr>\n",
       "    <tr>\n",
       "      <th>256</th>\n",
       "      <td>92.467391</td>\n",
       "      <td>0.500000</td>\n",
       "      <td>94.404444</td>\n",
       "      <td>4.8</td>\n",
       "    </tr>\n",
       "  </tbody>\n",
       "</table>\n",
       "</div>"
      ],
      "text/plain": [
       "          %vcpu     %vmem      %pcpu  %pmem\n",
       "subs                                       \n",
       "2      4.653846  0.023077   7.191667    4.8\n",
       "4      5.327273  0.100000   8.580000    4.8\n",
       "8      6.400000  0.100000   9.358333    4.8\n",
       "16     9.054545  0.100000  12.470000    4.8\n",
       "32    14.527273  0.100000  17.840000    4.8\n",
       "64    25.518750  0.200000  28.918750    4.8\n",
       "128   49.445000  0.300000  52.505000    4.8\n",
       "256   92.467391  0.500000  94.404444    4.8"
      ]
     },
     "execution_count": 6,
     "metadata": {},
     "output_type": "execute_result"
    }
   ],
   "source": [
    "usage = pd.DataFrame()\n",
    "\n",
    "usage['subs'] = sorted(radio_data_dict.keys())\n",
    "usage['%vcpu'] = [radio_data_dict[i]['%cpu'].mean() for i in usage['subs']]\n",
    "usage['%vmem'] = [radio_data_dict[i]['%mem'].mean() for i in usage['subs']]\n",
    "usage['%pcpu'] = [kvm_data_dict[i]['%cpu'].mean() for i in usage['subs']]\n",
    "usage['%pmem'] = [kvm_data_dict[i]['%mem'].mean() for i in usage['subs']]\n",
    "\n",
    "usage = usage.set_index('subs')\n",
    "\n",
    "usage"
   ]
  },
  {
   "cell_type": "code",
   "execution_count": 7,
   "metadata": {
    "collapsed": false
   },
   "outputs": [
    {
     "data": {
      "text/plain": [
       "<matplotlib.axes._subplots.AxesSubplot at 0x7f6d51765fd0>"
      ]
     },
     "execution_count": 7,
     "metadata": {},
     "output_type": "execute_result"
    },
    {
     "data": {
      "image/png": "[encoded data removed]",
      "text/plain": [
       "<matplotlib.figure.Figure at 0x7f6d51722860>"
      ]
     },
     "metadata": {},
     "output_type": "display_data"
    }
   ],
   "source": [
    "usage[['%vcpu', '%pcpu']].plot(kind='bar')"
   ]
  },
  {
   "cell_type": "code",
   "execution_count": 8,
   "metadata": {
    "collapsed": false
   },
   "outputs": [
    {
     "data": {
      "text/plain": [
       "<matplotlib.axes._subplots.AxesSubplot at 0x7f6d4f674630>"
      ]
     },
     "execution_count": 8,
     "metadata": {},
     "output_type": "execute_result"
    },
    {
     "data": {
      "image/png": "[encoded data removed]",
      "text/plain": [
       "<matplotlib.figure.Figure at 0x7f6d4f6b05c0>"
      ]
     },
     "metadata": {},
     "output_type": "display_data"
    }
   ],
   "source": [
    "usage[['%vmem', '%pmem']].plot(kind='bar')"
   ]
  },
  {
   "cell_type": "code",
   "execution_count": null,
   "metadata": {
    "collapsed": true
   },
   "outputs": [],
   "source": []
  }
 ],
 "metadata": {
  "kernelspec": {
   "display_name": "Python 3",
   "language": "python",
   "name": "python3"
  },
  "language_info": {
   "codemirror_mode": {
    "name": "ipython",
    "version": 3
   },
   "file_extension": ".py",
   "mimetype": "text/x-python",
   "name": "python",
   "nbconvert_exporter": "python",
   "pygments_lexer": "ipython3",
   "version": "3.5.2"
  }
 },
 "nbformat": 4,
 "nbformat_minor": 2
}
