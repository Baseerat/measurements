{
 "cells": [
  {
   "cell_type": "code",
   "execution_count": 1,
   "metadata": {
    "collapsed": true
   },
   "outputs": [],
   "source": [
    "import warnings\n",
    "warnings.filterwarnings('ignore')\n",
    "# For ignoring warnings printed by R magic commands"
   ]
  },
  {
   "cell_type": "code",
   "execution_count": 2,
   "metadata": {
    "collapsed": true
   },
   "outputs": [],
   "source": [
    "import os\n",
    "import glob"
   ]
  },
  {
   "cell_type": "code",
   "execution_count": 3,
   "metadata": {
    "collapsed": true
   },
   "outputs": [],
   "source": [
    "import seaborn as sns\n",
    "import numpy as np\n",
    "import pandas as pd\n",
    "import matplotlib.pyplot as plt\n",
    "plt.style.use('ggplot')\n",
    "import seaborn as sns\n",
    "\n",
    "# display plots in the notebook\n",
    "%matplotlib inline\n",
    "\n",
    "# increase default figure and font sizes for easier viewing\n",
    "plt.rcParams['figure.figsize'] = (8, 6)\n",
    "plt.rcParams['font.size'] = 14"
   ]
  },
  {
   "cell_type": "code",
   "execution_count": 4,
   "metadata": {
    "collapsed": true
   },
   "outputs": [],
   "source": [
    "# Load R magic\n",
    "%load_ext rpy2.ipython\n",
    "# Import ggplot2\n",
    "%R require(ggplot2);"
   ]
  },
  {
   "cell_type": "code",
   "execution_count": 5,
   "metadata": {
    "collapsed": true
   },
   "outputs": [],
   "source": [
    "# Turns all files of a given filname across a set of folders into a single dataframe\n",
    "def DataSetAsDataFrame(files, headers, header=None, reset_index=True):\n",
    "    # Read dataset as dataframe\n",
    "    def ReadDataSet(file):\n",
    "        df = pd.read_csv(file, sep=',', header=header, names=headers)\n",
    "        return df\n",
    "    # Get the list of dataframes\n",
    "    dfs = map(ReadDataSet, files)\n",
    "    # Combine into a single dataframe\n",
    "    df = pd.concat(dfs)\n",
    "    if reset_index:\n",
    "        df.reset_index(inplace=True)\n",
    "        df.drop('index', axis=1, inplace=True)\n",
    "    return df"
   ]
  },
  {
   "cell_type": "code",
   "execution_count": null,
   "metadata": {
    "collapsed": true
   },
   "outputs": [],
   "source": []
  },
  {
   "cell_type": "code",
   "execution_count": 6,
   "metadata": {
    "collapsed": true
   },
   "outputs": [],
   "source": [
    "%%R \n",
    "plotTheme <- theme(legend.title=element_blank(), legend.position=\"top\", legend.text=element_text(size=6))"
   ]
  },
  {
   "cell_type": "code",
   "execution_count": 7,
   "metadata": {
    "collapsed": true
   },
   "outputs": [],
   "source": [
    "directory = '../../results/hardware/'\n",
    "mux_files = glob.glob(directory + 'mux/stats.csv')\n",
    "shift_register_files = glob.glob(directory + 'shift_register/stats.csv')"
   ]
  },
  {
   "cell_type": "code",
   "execution_count": null,
   "metadata": {
    "collapsed": true
   },
   "outputs": [],
   "source": []
  },
  {
   "cell_type": "code",
   "execution_count": 8,
   "metadata": {
    "collapsed": true
   },
   "outputs": [],
   "source": [
    "mux_df = DataSetAsDataFrame(mux_files,  ['Bits', 'Area (um2)', 'Delay (ps)', 'Power (mW)'])"
   ]
  },
  {
   "cell_type": "code",
   "execution_count": 9,
   "metadata": {},
   "outputs": [
    {
     "data": {
      "text/html": [
       "<div>\n",
       "<style>\n",
       "    .dataframe thead tr:only-child th {\n",
       "        text-align: right;\n",
       "    }\n",
       "\n",
       "    .dataframe thead th {\n",
       "        text-align: left;\n",
       "    }\n",
       "\n",
       "    .dataframe tbody tr th {\n",
       "        vertical-align: top;\n",
       "    }\n",
       "</style>\n",
       "<table border=\"1\" class=\"dataframe\">\n",
       "  <thead>\n",
       "    <tr style=\"text-align: right;\">\n",
       "      <th></th>\n",
       "      <th>Bits</th>\n",
       "      <th>Area (um2)</th>\n",
       "      <th>Delay (ps)</th>\n",
       "      <th>Power (mW)</th>\n",
       "    </tr>\n",
       "  </thead>\n",
       "  <tbody>\n",
       "    <tr>\n",
       "      <th>0</th>\n",
       "      <td>32</td>\n",
       "      <td>365.62</td>\n",
       "      <td>100</td>\n",
       "      <td>0.6720</td>\n",
       "    </tr>\n",
       "    <tr>\n",
       "      <th>1</th>\n",
       "      <td>64</td>\n",
       "      <td>732.35</td>\n",
       "      <td>130</td>\n",
       "      <td>1.3550</td>\n",
       "    </tr>\n",
       "    <tr>\n",
       "      <th>2</th>\n",
       "      <td>128</td>\n",
       "      <td>1471.70</td>\n",
       "      <td>130</td>\n",
       "      <td>2.6600</td>\n",
       "    </tr>\n",
       "    <tr>\n",
       "      <th>3</th>\n",
       "      <td>256</td>\n",
       "      <td>2984.20</td>\n",
       "      <td>120</td>\n",
       "      <td>5.3115</td>\n",
       "    </tr>\n",
       "  </tbody>\n",
       "</table>\n",
       "</div>"
      ],
      "text/plain": [
       "   Bits  Area (um2)  Delay (ps)  Power (mW)\n",
       "0    32      365.62         100      0.6720\n",
       "1    64      732.35         130      1.3550\n",
       "2   128     1471.70         130      2.6600\n",
       "3   256     2984.20         120      5.3115"
      ]
     },
     "execution_count": 9,
     "metadata": {},
     "output_type": "execute_result"
    }
   ],
   "source": [
    "mux_df"
   ]
  },
  {
   "cell_type": "code",
   "execution_count": 17,
   "metadata": {},
   "outputs": [
    {
     "data": {
      "image/png": "[encoded data removed]",
      "text/plain": [
       "<matplotlib.figure.Figure at 0x7fbfa4aa01d0>"
      ]
     },
     "metadata": {},
     "output_type": "display_data"
    }
   ],
   "source": [
    "sns.set(style='ticks', font_scale=1.3, rc={\"lines.linewidth\": 0.9})\n",
    "ax = sns.factorplot(x='Bits', y='Area (um2)', data=mux_df, palette=\"Greys\",\n",
    "                   size=3, kind=\"bar\", legend=True, legend_out=False, aspect=1.5, ci='sd')\n",
    "ax.set(xlabel='Bits', ylabel='Area (um2)')\n",
    "plt.savefig('hardware-mux-area.pdf')\n",
    "plt.show()"
   ]
  },
  {
   "cell_type": "code",
   "execution_count": 18,
   "metadata": {},
   "outputs": [
    {
     "data": {
      "image/png": "[encoded data removed]",
      "text/plain": [
       "<matplotlib.figure.Figure at 0x7fbfa4a817b8>"
      ]
     },
     "metadata": {},
     "output_type": "display_data"
    }
   ],
   "source": [
    "sns.set(style='ticks', font_scale=1.3, rc={\"lines.linewidth\": 0.9})\n",
    "ax = sns.factorplot(x='Bits', y='Power (mW)', data=mux_df, palette=\"Greys\",\n",
    "                   size=3, kind=\"bar\", legend=True, legend_out=False, aspect=1.5, ci='sd')\n",
    "ax.set(xlabel='Bits', ylabel='Power (mW)')\n",
    "plt.savefig('hardware-mux-power.pdf')\n",
    "plt.show()"
   ]
  },
  {
   "cell_type": "code",
   "execution_count": null,
   "metadata": {
    "collapsed": true
   },
   "outputs": [],
   "source": []
  },
  {
   "cell_type": "code",
   "execution_count": 13,
   "metadata": {
    "collapsed": true
   },
   "outputs": [],
   "source": [
    "shift_register_df = DataSetAsDataFrame(shift_register_files,  ['Stages', 'Bits', 'Area (um2)', 'Delay (ps)', 'Power (mW)'])"
   ]
  },
  {
   "cell_type": "code",
   "execution_count": 14,
   "metadata": {},
   "outputs": [
    {
     "data": {
      "text/html": [
       "<div>\n",
       "<style>\n",
       "    .dataframe thead tr:only-child th {\n",
       "        text-align: right;\n",
       "    }\n",
       "\n",
       "    .dataframe thead th {\n",
       "        text-align: left;\n",
       "    }\n",
       "\n",
       "    .dataframe tbody tr th {\n",
       "        vertical-align: top;\n",
       "    }\n",
       "</style>\n",
       "<table border=\"1\" class=\"dataframe\">\n",
       "  <thead>\n",
       "    <tr style=\"text-align: right;\">\n",
       "      <th></th>\n",
       "      <th>Stages</th>\n",
       "      <th>Bits</th>\n",
       "      <th>Area (um2)</th>\n",
       "      <th>Delay (ps)</th>\n",
       "      <th>Power (mW)</th>\n",
       "    </tr>\n",
       "  </thead>\n",
       "  <tbody>\n",
       "    <tr>\n",
       "      <th>0</th>\n",
       "      <td>1</td>\n",
       "      <td>32</td>\n",
       "      <td>365.80</td>\n",
       "      <td>130</td>\n",
       "      <td>0.67</td>\n",
       "    </tr>\n",
       "    <tr>\n",
       "      <th>1</th>\n",
       "      <td>1</td>\n",
       "      <td>64</td>\n",
       "      <td>734.00</td>\n",
       "      <td>140</td>\n",
       "      <td>1.33</td>\n",
       "    </tr>\n",
       "    <tr>\n",
       "      <th>2</th>\n",
       "      <td>1</td>\n",
       "      <td>128</td>\n",
       "      <td>1471.10</td>\n",
       "      <td>140</td>\n",
       "      <td>2.65</td>\n",
       "    </tr>\n",
       "    <tr>\n",
       "      <th>3</th>\n",
       "      <td>1</td>\n",
       "      <td>256</td>\n",
       "      <td>2947.90</td>\n",
       "      <td>150</td>\n",
       "      <td>5.30</td>\n",
       "    </tr>\n",
       "    <tr>\n",
       "      <th>4</th>\n",
       "      <td>8</td>\n",
       "      <td>32</td>\n",
       "      <td>4516.50</td>\n",
       "      <td>140</td>\n",
       "      <td>5.60</td>\n",
       "    </tr>\n",
       "    <tr>\n",
       "      <th>5</th>\n",
       "      <td>8</td>\n",
       "      <td>64</td>\n",
       "      <td>9056.00</td>\n",
       "      <td>150</td>\n",
       "      <td>11.30</td>\n",
       "    </tr>\n",
       "    <tr>\n",
       "      <th>6</th>\n",
       "      <td>8</td>\n",
       "      <td>128</td>\n",
       "      <td>18357.80</td>\n",
       "      <td>150</td>\n",
       "      <td>22.90</td>\n",
       "    </tr>\n",
       "    <tr>\n",
       "      <th>7</th>\n",
       "      <td>8</td>\n",
       "      <td>256</td>\n",
       "      <td>37723.30</td>\n",
       "      <td>160</td>\n",
       "      <td>44.57</td>\n",
       "    </tr>\n",
       "    <tr>\n",
       "      <th>8</th>\n",
       "      <td>16</td>\n",
       "      <td>32</td>\n",
       "      <td>9329.10</td>\n",
       "      <td>140</td>\n",
       "      <td>11.30</td>\n",
       "    </tr>\n",
       "    <tr>\n",
       "      <th>9</th>\n",
       "      <td>16</td>\n",
       "      <td>64</td>\n",
       "      <td>19025.60</td>\n",
       "      <td>160</td>\n",
       "      <td>22.90</td>\n",
       "    </tr>\n",
       "    <tr>\n",
       "      <th>10</th>\n",
       "      <td>16</td>\n",
       "      <td>128</td>\n",
       "      <td>39061.40</td>\n",
       "      <td>150</td>\n",
       "      <td>44.70</td>\n",
       "    </tr>\n",
       "    <tr>\n",
       "      <th>11</th>\n",
       "      <td>16</td>\n",
       "      <td>256</td>\n",
       "      <td>62930.10</td>\n",
       "      <td>150</td>\n",
       "      <td>87.20</td>\n",
       "    </tr>\n",
       "    <tr>\n",
       "      <th>12</th>\n",
       "      <td>32</td>\n",
       "      <td>32</td>\n",
       "      <td>19360.10</td>\n",
       "      <td>130</td>\n",
       "      <td>23.10</td>\n",
       "    </tr>\n",
       "    <tr>\n",
       "      <th>13</th>\n",
       "      <td>32</td>\n",
       "      <td>64</td>\n",
       "      <td>39367.00</td>\n",
       "      <td>160</td>\n",
       "      <td>44.70</td>\n",
       "    </tr>\n",
       "    <tr>\n",
       "      <th>14</th>\n",
       "      <td>32</td>\n",
       "      <td>128</td>\n",
       "      <td>63075.10</td>\n",
       "      <td>150</td>\n",
       "      <td>87.30</td>\n",
       "    </tr>\n",
       "    <tr>\n",
       "      <th>15</th>\n",
       "      <td>32</td>\n",
       "      <td>256</td>\n",
       "      <td>114150.12</td>\n",
       "      <td>140</td>\n",
       "      <td>171.11</td>\n",
       "    </tr>\n",
       "  </tbody>\n",
       "</table>\n",
       "</div>"
      ],
      "text/plain": [
       "    Stages  Bits  Area (um2)  Delay (ps)  Power (mW)\n",
       "0        1    32      365.80         130        0.67\n",
       "1        1    64      734.00         140        1.33\n",
       "2        1   128     1471.10         140        2.65\n",
       "3        1   256     2947.90         150        5.30\n",
       "4        8    32     4516.50         140        5.60\n",
       "5        8    64     9056.00         150       11.30\n",
       "6        8   128    18357.80         150       22.90\n",
       "7        8   256    37723.30         160       44.57\n",
       "8       16    32     9329.10         140       11.30\n",
       "9       16    64    19025.60         160       22.90\n",
       "10      16   128    39061.40         150       44.70\n",
       "11      16   256    62930.10         150       87.20\n",
       "12      32    32    19360.10         130       23.10\n",
       "13      32    64    39367.00         160       44.70\n",
       "14      32   128    63075.10         150       87.30\n",
       "15      32   256   114150.12         140      171.11"
      ]
     },
     "execution_count": 14,
     "metadata": {},
     "output_type": "execute_result"
    }
   ],
   "source": [
    "shift_register_df"
   ]
  },
  {
   "cell_type": "code",
   "execution_count": 19,
   "metadata": {},
   "outputs": [
    {
     "data": {
      "image/png": "[encoded data removed]",
      "text/plain": [
       "<matplotlib.figure.Figure at 0x7fbfa451f208>"
      ]
     },
     "metadata": {},
     "output_type": "display_data"
    }
   ],
   "source": [
    "sns.set(style='ticks', font_scale=1.3, rc={\"lines.linewidth\": 0.9})\n",
    "ax = sns.factorplot(x='Bits', y='Area (um2)', hue='Stages', data=shift_register_df, palette=\"Greys\",\n",
    "                   size=3, kind=\"bar\", legend=True, legend_out=False, aspect=1.5, ci='sd')\n",
    "ax.set(xlabel='Bits', ylabel='Area (um2)')\n",
    "plt.savefig('hardware-shift-register-area.pdf')\n",
    "plt.show()"
   ]
  },
  {
   "cell_type": "code",
   "execution_count": 20,
   "metadata": {},
   "outputs": [
    {
     "data": {
      "image/png": "[encoded data removed]",
      "text/plain": [
       "<matplotlib.figure.Figure at 0x7fbfa43bcf60>"
      ]
     },
     "metadata": {},
     "output_type": "display_data"
    }
   ],
   "source": [
    "sns.set(style='ticks', font_scale=1.3, rc={\"lines.linewidth\": 0.9})\n",
    "ax = sns.factorplot(x='Bits', y='Power (mW)', hue='Stages', data=shift_register_df, palette=\"Greys\",\n",
    "                   size=3, kind=\"bar\", legend=True, legend_out=False, aspect=1.5, ci='sd')\n",
    "ax.set(xlabel='Bits', ylabel='Power (mW)')\n",
    "plt.savefig('hardware-shift-register-power.pdf')\n",
    "plt.show()"
   ]
  },
  {
   "cell_type": "code",
   "execution_count": null,
   "metadata": {
    "collapsed": true
   },
   "outputs": [],
   "source": []
  }
 ],
 "metadata": {
  "kernelspec": {
   "display_name": "Python 3",
   "language": "python",
   "name": "python3"
  },
  "language_info": {
   "codemirror_mode": {
    "name": "ipython",
    "version": 3
   },
   "file_extension": ".py",
   "mimetype": "text/x-python",
   "name": "python",
   "nbconvert_exporter": "python",
   "pygments_lexer": "ipython3",
   "version": "3.6.2"
  }
 },
 "nbformat": 4,
 "nbformat_minor": 2
}
