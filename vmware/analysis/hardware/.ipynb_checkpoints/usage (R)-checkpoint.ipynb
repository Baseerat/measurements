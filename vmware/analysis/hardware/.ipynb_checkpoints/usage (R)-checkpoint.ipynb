{
 "cells": [
  {
   "cell_type": "code",
   "execution_count": 1,
   "metadata": {},
   "outputs": [
    {
     "name": "stderr",
     "output_type": "stream",
     "text": [
      "Loading required package: ggplot2\n",
      "Loading required package: data.table\n",
      "Loading required package: Hmisc\n",
      "Warning message in library(package, lib.loc = lib.loc, character.only = TRUE, logical.return = TRUE, :\n",
      "“there is no package called ‘Hmisc’”"
     ]
    }
   ],
   "source": [
    "require(ggplot2)\n",
    "require(data.table)\n",
    "require(Hmisc)"
   ]
  },
  {
   "cell_type": "code",
   "execution_count": null,
   "metadata": {
    "collapsed": true
   },
   "outputs": [],
   "source": []
  },
  {
   "cell_type": "code",
   "execution_count": 2,
   "metadata": {
    "collapsed": true
   },
   "outputs": [],
   "source": [
    "directory = \"../../results/hardware/\"\n",
    "plotTheme <- theme(legend.title=element_blank(), legend.position=\"top\", legend.text=element_text(size=6))"
   ]
  },
  {
   "cell_type": "code",
   "execution_count": null,
   "metadata": {
    "collapsed": true
   },
   "outputs": [],
   "source": []
  },
  {
   "cell_type": "code",
   "execution_count": 3,
   "metadata": {
    "collapsed": true
   },
   "outputs": [],
   "source": [
    "muxStats <- fread(paste(directory, \"mux_stats.csv\", sep=\"/\"), sep=\",\", header=TRUE)"
   ]
  },
  {
   "cell_type": "code",
   "execution_count": 4,
   "metadata": {},
   "outputs": [
    {
     "data": {
      "text/html": [
       "<table>\n",
       "<thead><tr><th scope=col>Bits</th><th scope=col>Area (um2)</th><th scope=col>Delay (ps)</th><th scope=col>Power (mW)</th></tr></thead>\n",
       "<tbody>\n",
       "\t<tr><td> 32    </td><td> 365.62</td><td>100    </td><td>0.6720 </td></tr>\n",
       "\t<tr><td> 64    </td><td> 732.35</td><td>130    </td><td>1.3550 </td></tr>\n",
       "\t<tr><td>128    </td><td>1471.70</td><td>130    </td><td>2.6600 </td></tr>\n",
       "\t<tr><td>256    </td><td>2984.20</td><td>120    </td><td>5.3115 </td></tr>\n",
       "</tbody>\n",
       "</table>\n"
      ],
      "text/latex": [
       "\\begin{tabular}{r|llll}\n",
       " Bits & Area (um2) & Delay (ps) & Power (mW)\\\\\n",
       "\\hline\n",
       "\t  32     &  365.62 & 100     & 0.6720 \\\\\n",
       "\t  64     &  732.35 & 130     & 1.3550 \\\\\n",
       "\t 128     & 1471.70 & 130     & 2.6600 \\\\\n",
       "\t 256     & 2984.20 & 120     & 5.3115 \\\\\n",
       "\\end{tabular}\n"
      ],
      "text/markdown": [
       "\n",
       "Bits | Area (um2) | Delay (ps) | Power (mW) | \n",
       "|---|---|---|---|\n",
       "|  32     |  365.62 | 100     | 0.6720  | \n",
       "|  64     |  732.35 | 130     | 1.3550  | \n",
       "| 128     | 1471.70 | 130     | 2.6600  | \n",
       "| 256     | 2984.20 | 120     | 5.3115  | \n",
       "\n",
       "\n"
      ],
      "text/plain": [
       "  Bits Area (um2) Delay (ps) Power (mW)\n",
       "1  32   365.62    100        0.6720    \n",
       "2  64   732.35    130        1.3550    \n",
       "3 128  1471.70    130        2.6600    \n",
       "4 256  2984.20    120        5.3115    "
      ]
     },
     "metadata": {},
     "output_type": "display_data"
    }
   ],
   "source": [
    "head(muxStats)"
   ]
  },
  {
   "cell_type": "code",
   "execution_count": null,
   "metadata": {
    "collapsed": true
   },
   "outputs": [],
   "source": []
  },
  {
   "cell_type": "code",
   "execution_count": 6,
   "metadata": {},
   "outputs": [],
   "source": [
    "shifRegisterStats <- fread(paste(directory, \"shift_register_stats.csv\", sep=\"/\"), sep=\",\", header=TRUE)"
   ]
  },
  {
   "cell_type": "code",
   "execution_count": 7,
   "metadata": {},
   "outputs": [
    {
     "data": {
      "text/html": [
       "<table>\n",
       "<thead><tr><th scope=col>Stages</th><th scope=col>Bits</th><th scope=col>Area (um2)</th><th scope=col>Delay (ps)</th><th scope=col>Power (mW)</th></tr></thead>\n",
       "<tbody>\n",
       "\t<tr><td>1     </td><td> 32   </td><td> 365.8</td><td>130   </td><td> 0.67 </td></tr>\n",
       "\t<tr><td>1     </td><td> 64   </td><td> 734.0</td><td>140   </td><td> 1.33 </td></tr>\n",
       "\t<tr><td>1     </td><td>128   </td><td>1471.1</td><td>140   </td><td> 2.65 </td></tr>\n",
       "\t<tr><td>1     </td><td>256   </td><td>2947.9</td><td>150   </td><td> 5.30 </td></tr>\n",
       "\t<tr><td>8     </td><td> 32   </td><td>4516.5</td><td>140   </td><td> 5.60 </td></tr>\n",
       "\t<tr><td>8     </td><td> 64   </td><td>9056.0</td><td>150   </td><td>11.30 </td></tr>\n",
       "</tbody>\n",
       "</table>\n"
      ],
      "text/latex": [
       "\\begin{tabular}{r|lllll}\n",
       " Stages & Bits & Area (um2) & Delay (ps) & Power (mW)\\\\\n",
       "\\hline\n",
       "\t 1      &  32    &  365.8 & 130    &  0.67 \\\\\n",
       "\t 1      &  64    &  734.0 & 140    &  1.33 \\\\\n",
       "\t 1      & 128    & 1471.1 & 140    &  2.65 \\\\\n",
       "\t 1      & 256    & 2947.9 & 150    &  5.30 \\\\\n",
       "\t 8      &  32    & 4516.5 & 140    &  5.60 \\\\\n",
       "\t 8      &  64    & 9056.0 & 150    & 11.30 \\\\\n",
       "\\end{tabular}\n"
      ],
      "text/markdown": [
       "\n",
       "Stages | Bits | Area (um2) | Delay (ps) | Power (mW) | \n",
       "|---|---|---|---|---|---|\n",
       "| 1      |  32    |  365.8 | 130    |  0.67  | \n",
       "| 1      |  64    |  734.0 | 140    |  1.33  | \n",
       "| 1      | 128    | 1471.1 | 140    |  2.65  | \n",
       "| 1      | 256    | 2947.9 | 150    |  5.30  | \n",
       "| 8      |  32    | 4516.5 | 140    |  5.60  | \n",
       "| 8      |  64    | 9056.0 | 150    | 11.30  | \n",
       "\n",
       "\n"
      ],
      "text/plain": [
       "  Stages Bits Area (um2) Delay (ps) Power (mW)\n",
       "1 1       32   365.8     130         0.67     \n",
       "2 1       64   734.0     140         1.33     \n",
       "3 1      128  1471.1     140         2.65     \n",
       "4 1      256  2947.9     150         5.30     \n",
       "5 8       32  4516.5     140         5.60     \n",
       "6 8       64  9056.0     150        11.30     "
      ]
     },
     "metadata": {},
     "output_type": "display_data"
    }
   ],
   "source": [
    "head(shifRegisterStats)"
   ]
  },
  {
   "cell_type": "code",
   "execution_count": null,
   "metadata": {
    "collapsed": true
   },
   "outputs": [],
   "source": []
  },
  {
   "cell_type": "code",
   "execution_count": null,
   "metadata": {
    "collapsed": true
   },
   "outputs": [],
   "source": []
  }
 ],
 "metadata": {
  "kernelspec": {
   "display_name": "R",
   "language": "R",
   "name": "ir"
  },
  "language_info": {
   "codemirror_mode": "r",
   "file_extension": ".r",
   "mimetype": "text/x-r-source",
   "name": "R",
   "pygments_lexer": "r",
   "version": "3.4.2"
  }
 },
 "nbformat": 4,
 "nbformat_minor": 2
}
