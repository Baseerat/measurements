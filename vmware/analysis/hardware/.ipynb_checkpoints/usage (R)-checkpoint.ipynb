{
 "cells": [
  {
   "cell_type": "code",
   "execution_count": 1,
   "metadata": {
    "collapsed": false
   },
   "outputs": [
    {
     "name": "stderr",
     "output_type": "stream",
     "text": [
      "Loading required package: ggplot2\n",
      "Loading required package: data.table\n",
      "Loading required package: Hmisc\n",
      "Loading required package: lattice\n",
      "Loading required package: survival\n",
      "Loading required package: Formula\n",
      "\n",
      "Attaching package: ‘Hmisc’\n",
      "\n",
      "The following objects are masked from ‘package:base’:\n",
      "\n",
      "    format.pval, round.POSIXt, trunc.POSIXt, units\n",
      "\n",
      "Loading required package: ggthemes\n",
      "Loading required package: gridExtra\n",
      "\n",
      "Attaching package: ‘gridExtra’\n",
      "\n",
      "The following object is masked from ‘package:Hmisc’:\n",
      "\n",
      "    combine\n",
      "\n",
      "Loading required package: grid\n",
      "Loading required package: scales\n",
      "Loading required package: RColorBrewer\n"
     ]
    }
   ],
   "source": [
    "require(ggplot2)\n",
    "require(data.table)\n",
    "require(Hmisc)\n",
    "require(ggthemes)\n",
    "require(gridExtra)\n",
    "require(grid)\n",
    "require(lattice)\n",
    "require(scales)\n",
    "require(RColorBrewer)"
   ]
  },
  {
   "cell_type": "code",
   "execution_count": null,
   "metadata": {
    "collapsed": true
   },
   "outputs": [],
   "source": []
  },
  {
   "cell_type": "code",
   "execution_count": 24,
   "metadata": {
    "collapsed": true
   },
   "outputs": [],
   "source": [
    "directory = \"../../results/hardware/\"\n",
    "blues = brewer.pal(n = 6, \"Blues\")[3:6]\n",
    "plotTheme <- theme_hc() + theme(legend.title=element_blank(), \n",
    "                                legend.position=\"top\", \n",
    "                                legend.text=element_text(size=12))"
   ]
  },
  {
   "cell_type": "code",
   "execution_count": null,
   "metadata": {
    "collapsed": true
   },
   "outputs": [],
   "source": []
  },
  {
   "cell_type": "code",
   "execution_count": 3,
   "metadata": {
    "collapsed": true
   },
   "outputs": [],
   "source": [
    "muxStats <- fread(paste(directory, \"mux_stats.csv\", sep=\"/\"), sep=\",\", header=TRUE)"
   ]
  },
  {
   "cell_type": "code",
   "execution_count": 4,
   "metadata": {
    "collapsed": false
   },
   "outputs": [
    {
     "data": {
      "text/html": [
       "<table>\n",
       "<thead><tr><th></th><th scope=col>Bits</th><th scope=col>Area (um2)</th><th scope=col>Delay (ps)</th><th scope=col>Power (mW)</th></tr></thead>\n",
       "<tbody>\n",
       "\t<tr><th scope=row>1</th><td> 32.000</td><td>365.620</td><td>100.000</td><td>  0.672</td></tr>\n",
       "\t<tr><th scope=row>2</th><td> 64.000</td><td>732.350</td><td>130.000</td><td>  1.355</td></tr>\n",
       "\t<tr><th scope=row>3</th><td> 128.00</td><td>1471.70</td><td> 130.00</td><td>   2.66</td></tr>\n",
       "\t<tr><th scope=row>4</th><td> 256.0000</td><td>2984.2000</td><td> 120.0000</td><td>   5.3115</td></tr>\n",
       "</tbody>\n",
       "</table>\n"
      ],
      "text/latex": [
       "\\begin{tabular}{r|llll}\n",
       "  & Bits & Area (um2) & Delay (ps) & Power (mW)\\\\\n",
       "\\hline\n",
       "\t1 &  32.000 & 365.620 & 100.000 &   0.672\\\\\n",
       "\t2 &  64.000 & 732.350 & 130.000 &   1.355\\\\\n",
       "\t3 &  128.00 & 1471.70 &  130.00 &    2.66\\\\\n",
       "\t4 &  256.0000 & 2984.2000 &  120.0000 &    5.3115\\\\\n",
       "\\end{tabular}\n"
      ],
      "text/plain": [
       "  Bits Area (um2) Delay (ps) Power (mW)\n",
       "1   32     365.62        100     0.6720\n",
       "2   64     732.35        130     1.3550\n",
       "3  128    1471.70        130     2.6600\n",
       "4  256    2984.20        120     5.3115"
      ]
     },
     "metadata": {},
     "output_type": "display_data"
    }
   ],
   "source": [
    "head(muxStats)\n",
    "colnames(muxStats)[colnames(muxStats) == \"Area (um2)\"] <- \"areaUm2\"\n",
    "colnames(muxStats)[colnames(muxStats) == \"Delay (ps)\"] <- \"delayPs\"\n",
    "colnames(muxStats)[colnames(muxStats) == \"Power (mW)\"] <- \"powerMw\""
   ]
  },
  {
   "cell_type": "code",
   "execution_count": 5,
   "metadata": {
    "collapsed": false
   },
   "outputs": [
    {
     "data": {
      "text/html": [
       "0.0014921"
      ],
      "text/latex": [
       "0.0014921"
      ],
      "text/markdown": [
       "0.0014921"
      ],
      "text/plain": [
       "[1] 0.0014921"
      ]
     },
     "metadata": {},
     "output_type": "display_data"
    }
   ],
   "source": [
    "2984.2000/(200*10^6) * 100"
   ]
  },
  {
   "cell_type": "code",
   "execution_count": 31,
   "metadata": {
    "collapsed": false
   },
   "outputs": [
    {
     "data": {
      "image/png": "[encoded data removed]",
      "text/plain": [
       "plot without title"
      ]
     },
     "metadata": {},
     "output_type": "display_data"
    }
   ],
   "source": [
    "p1 <- ggplot(muxStats, aes(y=areaUm2/(200*(10^(6))) * 100, x=factor(Bits), fill=\"baseerat\")) +\n",
    " stat_summary(fun.data=mean_sdl, fun.args = list(mult=1), geom=\"bar\", width=0.5, col=\"black\") + \n",
    " ylab(\"Area (%)\") +\n",
    " xlab(\"Bits\") +\n",
    " scale_color_tableau() +\n",
    " scale_fill_manual(values=blues) +\n",
    " scale_y_continuous(labels = comma) +\n",
    " plotTheme + theme(legend.position=\"none\")\n",
    "\n",
    "ggsave(p1, height=3, width=2, file=\"hardware-mux-area.pdf\")\n",
    "\n",
    "p2 <- ggplot(muxStats, aes(y=powerMw, x=factor(Bits), fill=\"baseerat\")) +\n",
    " stat_summary(fun.data=mean_sdl, fun.args = list(mult=1), geom=\"bar\", width=0.5, col=\"black\") + \n",
    " ylab(\"Power (mW)\") +\n",
    " xlab(\"Bits\") +\n",
    " scale_color_tableau() +\n",
    " scale_fill_manual(values=blues) +\n",
    " plotTheme + theme(legend.position=\"none\")\n",
    "\n",
    "ggsave(p2, height=3, width=2, file=\"hardware-mux-power.pdf\")\n",
    "\n",
    "combined <- grid.arrange(p1, p2, ncol=2)\n",
    "ggsave(combined, height=1.5, width=4, file=\"hardware-mux-all.pdf\")"
   ]
  },
  {
   "cell_type": "code",
   "execution_count": 7,
   "metadata": {
    "collapsed": false
   },
   "outputs": [],
   "source": [
    "shifRegisterStats <- fread(paste(directory, \"shift_register_stats.csv\", sep=\"/\"), sep=\",\", header=TRUE)"
   ]
  },
  {
   "cell_type": "code",
   "execution_count": 8,
   "metadata": {
    "collapsed": false
   },
   "outputs": [
    {
     "data": {
      "text/html": [
       "<table>\n",
       "<thead><tr><th></th><th scope=col>Stages</th><th scope=col>Bits</th><th scope=col>Area (um2)</th><th scope=col>Delay (ps)</th><th scope=col>Power (mW)</th></tr></thead>\n",
       "<tbody>\n",
       "\t<tr><th scope=row>1</th><td>  1.00</td><td> 32.00</td><td>365.80</td><td>130.00</td><td>  0.67</td></tr>\n",
       "\t<tr><th scope=row>2</th><td>  1.00</td><td> 64.00</td><td>734.00</td><td>140.00</td><td>  1.33</td></tr>\n",
       "\t<tr><th scope=row>3</th><td>   1.00</td><td> 128.00</td><td>1471.10</td><td> 140.00</td><td>   2.65</td></tr>\n",
       "\t<tr><th scope=row>4</th><td>   1.0</td><td> 256.0</td><td>2947.9</td><td> 150.0</td><td>   5.3</td></tr>\n",
       "\t<tr><th scope=row>5</th><td>   8.0</td><td>  32.0</td><td>4516.5</td><td> 140.0</td><td>   5.6</td></tr>\n",
       "\t<tr><th scope=row>6</th><td>   8.0</td><td>  64.0</td><td>9056.0</td><td> 150.0</td><td>  11.3</td></tr>\n",
       "</tbody>\n",
       "</table>\n"
      ],
      "text/latex": [
       "\\begin{tabular}{r|lllll}\n",
       "  & Stages & Bits & Area (um2) & Delay (ps) & Power (mW)\\\\\n",
       "\\hline\n",
       "\t1 &   1.00 &  32.00 & 365.80 & 130.00 &   0.67\\\\\n",
       "\t2 &   1.00 &  64.00 & 734.00 & 140.00 &   1.33\\\\\n",
       "\t3 &    1.00 &  128.00 & 1471.10 &  140.00 &    2.65\\\\\n",
       "\t4 &    1.0 &  256.0 & 2947.9 &  150.0 &    5.3\\\\\n",
       "\t5 &    8.0 &   32.0 & 4516.5 &  140.0 &    5.6\\\\\n",
       "\t6 &    8.0 &   64.0 & 9056.0 &  150.0 &   11.3\\\\\n",
       "\\end{tabular}\n"
      ],
      "text/plain": [
       "  Stages Bits Area (um2) Delay (ps) Power (mW)\n",
       "1      1   32      365.8        130       0.67\n",
       "2      1   64      734.0        140       1.33\n",
       "3      1  128     1471.1        140       2.65\n",
       "4      1  256     2947.9        150       5.30\n",
       "5      8   32     4516.5        140       5.60\n",
       "6      8   64     9056.0        150      11.30"
      ]
     },
     "metadata": {},
     "output_type": "display_data"
    }
   ],
   "source": [
    "head(shifRegisterStats)"
   ]
  },
  {
   "cell_type": "code",
   "execution_count": 9,
   "metadata": {
    "collapsed": false
   },
   "outputs": [],
   "source": [
    "colnames(shifRegisterStats)[colnames(shifRegisterStats) == \"Area (um2)\"] <- \"areaUm2\"\n",
    "colnames(shifRegisterStats)[colnames(shifRegisterStats) == \"Delay (ps)\"] <- \"delayPs\"\n",
    "colnames(shifRegisterStats)[colnames(shifRegisterStats) == \"Power (mW)\"] <- \"powerMw\""
   ]
  },
  {
   "cell_type": "code",
   "execution_count": 10,
   "metadata": {
    "collapsed": false
   },
   "outputs": [
    {
     "data": {
      "text/html": [
       "<table>\n",
       "<thead><tr><th></th><th scope=col>Stages</th><th scope=col>Bits</th><th scope=col>areaUm2</th><th scope=col>delayPs</th><th scope=col>powerMw</th></tr></thead>\n",
       "<tbody>\n",
       "\t<tr><th scope=row>1</th><td>  1.00</td><td> 32.00</td><td>365.80</td><td>130.00</td><td>  0.67</td></tr>\n",
       "\t<tr><th scope=row>2</th><td>  1.00</td><td> 64.00</td><td>734.00</td><td>140.00</td><td>  1.33</td></tr>\n",
       "\t<tr><th scope=row>3</th><td>   1.00</td><td> 128.00</td><td>1471.10</td><td> 140.00</td><td>   2.65</td></tr>\n",
       "\t<tr><th scope=row>4</th><td>   1.0</td><td> 256.0</td><td>2947.9</td><td> 150.0</td><td>   5.3</td></tr>\n",
       "\t<tr><th scope=row>5</th><td>   8.0</td><td>  32.0</td><td>4516.5</td><td> 140.0</td><td>   5.6</td></tr>\n",
       "\t<tr><th scope=row>6</th><td>   8.0</td><td>  64.0</td><td>9056.0</td><td> 150.0</td><td>  11.3</td></tr>\n",
       "\t<tr><th scope=row>7</th><td>    8.0</td><td>  128.0</td><td>18357.8</td><td>  150.0</td><td>   22.9</td></tr>\n",
       "\t<tr><th scope=row>8</th><td>    8.00</td><td>  256.00</td><td>37723.30</td><td>  160.00</td><td>   44.57</td></tr>\n",
       "\t<tr><th scope=row>9</th><td>  16.0</td><td>  32.0</td><td>9329.1</td><td> 140.0</td><td>  11.3</td></tr>\n",
       "\t<tr><th scope=row>10</th><td>   16.0</td><td>   64.0</td><td>19025.6</td><td>  160.0</td><td>   22.9</td></tr>\n",
       "\t<tr><th scope=row>11</th><td>   16.0</td><td>  128.0</td><td>39061.4</td><td>  150.0</td><td>   44.7</td></tr>\n",
       "\t<tr><th scope=row>12</th><td>   16.0</td><td>  256.0</td><td>62930.1</td><td>  150.0</td><td>   87.2</td></tr>\n",
       "\t<tr><th scope=row>13</th><td>   32.0</td><td>   32.0</td><td>19360.1</td><td>  130.0</td><td>   23.1</td></tr>\n",
       "\t<tr><th scope=row>14</th><td>   32.0</td><td>   64.0</td><td>39367.0</td><td>  160.0</td><td>   44.7</td></tr>\n",
       "\t<tr><th scope=row>15</th><td>   32.0</td><td>  128.0</td><td>63075.1</td><td>  150.0</td><td>   87.3</td></tr>\n",
       "\t<tr><th scope=row>16</th><td>    32.00</td><td>   256.00</td><td>114150.12</td><td>   140.00</td><td>   171.11</td></tr>\n",
       "</tbody>\n",
       "</table>\n"
      ],
      "text/latex": [
       "\\begin{tabular}{r|lllll}\n",
       "  & Stages & Bits & areaUm2 & delayPs & powerMw\\\\\n",
       "\\hline\n",
       "\t1 &   1.00 &  32.00 & 365.80 & 130.00 &   0.67\\\\\n",
       "\t2 &   1.00 &  64.00 & 734.00 & 140.00 &   1.33\\\\\n",
       "\t3 &    1.00 &  128.00 & 1471.10 &  140.00 &    2.65\\\\\n",
       "\t4 &    1.0 &  256.0 & 2947.9 &  150.0 &    5.3\\\\\n",
       "\t5 &    8.0 &   32.0 & 4516.5 &  140.0 &    5.6\\\\\n",
       "\t6 &    8.0 &   64.0 & 9056.0 &  150.0 &   11.3\\\\\n",
       "\t7 &     8.0 &   128.0 & 18357.8 &   150.0 &    22.9\\\\\n",
       "\t8 &     8.00 &   256.00 & 37723.30 &   160.00 &    44.57\\\\\n",
       "\t9 &   16.0 &   32.0 & 9329.1 &  140.0 &   11.3\\\\\n",
       "\t10 &    16.0 &    64.0 & 19025.6 &   160.0 &    22.9\\\\\n",
       "\t11 &    16.0 &   128.0 & 39061.4 &   150.0 &    44.7\\\\\n",
       "\t12 &    16.0 &   256.0 & 62930.1 &   150.0 &    87.2\\\\\n",
       "\t13 &    32.0 &    32.0 & 19360.1 &   130.0 &    23.1\\\\\n",
       "\t14 &    32.0 &    64.0 & 39367.0 &   160.0 &    44.7\\\\\n",
       "\t15 &    32.0 &   128.0 & 63075.1 &   150.0 &    87.3\\\\\n",
       "\t16 &     32.00 &    256.00 & 114150.12 &    140.00 &    171.11\\\\\n",
       "\\end{tabular}\n"
      ],
      "text/plain": [
       "   Stages Bits  areaUm2 delayPs powerMw\n",
       "1       1   32    365.8     130    0.67\n",
       "2       1   64    734.0     140    1.33\n",
       "3       1  128   1471.1     140    2.65\n",
       "4       1  256   2947.9     150    5.30\n",
       "5       8   32   4516.5     140    5.60\n",
       "6       8   64   9056.0     150   11.30\n",
       "7       8  128  18357.8     150   22.90\n",
       "8       8  256  37723.3     160   44.57\n",
       "9      16   32   9329.1     140   11.30\n",
       "10     16   64  19025.6     160   22.90\n",
       "11     16  128  39061.4     150   44.70\n",
       "12     16  256  62930.1     150   87.20\n",
       "13     32   32  19360.1     130   23.10\n",
       "14     32   64  39367.0     160   44.70\n",
       "15     32  128  63075.1     150   87.30\n",
       "16     32  256 114150.1     140  171.11"
      ]
     },
     "metadata": {},
     "output_type": "display_data"
    }
   ],
   "source": [
    "shifRegisterStats"
   ]
  },
  {
   "cell_type": "code",
   "execution_count": 32,
   "metadata": {
    "collapsed": false
   },
   "outputs": [
    {
     "data": {
      "image/png": "[encoded data removed]",
      "text/plain": [
       "plot without title"
      ]
     },
     "metadata": {},
     "output_type": "display_data"
    }
   ],
   "source": [
    "p3 <- ggplot(shifRegisterStats, aes(y=areaUm2/(200*(10^(6))) * 100, x=factor(Bits), fill=factor(Stages))) +\n",
    " stat_summary(fun.data=mean_sdl, fun.args = list(mult=1), geom=\"bar\", position=position_dodge(0.6), \n",
    "              width=0.6, col=\"black\") + \n",
    " ylab(\"Area (%)\") +\n",
    " xlab(\"Bits\") +\n",
    " scale_color_tableau() +\n",
    " scale_fill_manual(values=blues, name=\"Stages\") +\n",
    " scale_y_continuous(labels = comma) +\n",
    " plotTheme + theme(text=element_text(size=14), legend.title=element_text(size=12), legend.key.size = unit(0.25, \"cm\"))\n",
    "ggsave(p1, height=3, width=3, file=\"hardware-shift-register-area.pdf\")\n",
    "\n",
    "p4 <- ggplot(shifRegisterStats, aes(y=powerMw, x=factor(Bits), fill=factor(Stages))) +\n",
    " stat_summary(fun.data=mean_sdl, fun.args = list(mult=1), geom=\"bar\", position=position_dodge(0.6), \n",
    "              width=0.6, col=\"black\") + \n",
    " ylab(\"Power (mW)\") +\n",
    " xlab(\"Bits\") +\n",
    " scale_color_tableau() +\n",
    " scale_fill_manual(values=blues, name=\"Stages\") +\n",
    " plotTheme + theme(text=element_text(size=14), legend.title=element_text(size=12), legend.key.size = unit(0.25, \"cm\"))\n",
    "ggsave(p1, height=3, width=3, file=\"hardware-shift-register-area.pdf\")\n",
    "\n",
    "combined <- grid.arrange(p3, p4, ncol=2)\n",
    "ggsave(combined, height=2, width=5, file=\"hardware-shift-register-all.pdf\")"
   ]
  },
  {
   "cell_type": "code",
   "execution_count": 12,
   "metadata": {
    "collapsed": false
   },
   "outputs": [
    {
     "data": {
      "text/html": [
       "<table>\n",
       "<thead><tr><th></th><th scope=col>Stages</th><th scope=col>Bits</th><th scope=col>areaUm2</th><th scope=col>delayPs</th><th scope=col>powerMw</th></tr></thead>\n",
       "<tbody>\n",
       "\t<tr><th scope=row>1</th><td>  1.00</td><td> 32.00</td><td>365.80</td><td>130.00</td><td>  0.67</td></tr>\n",
       "\t<tr><th scope=row>2</th><td>  1.00</td><td> 64.00</td><td>734.00</td><td>140.00</td><td>  1.33</td></tr>\n",
       "\t<tr><th scope=row>3</th><td>   1.00</td><td> 128.00</td><td>1471.10</td><td> 140.00</td><td>   2.65</td></tr>\n",
       "\t<tr><th scope=row>4</th><td>   1.0</td><td> 256.0</td><td>2947.9</td><td> 150.0</td><td>   5.3</td></tr>\n",
       "\t<tr><th scope=row>5</th><td>   8.0</td><td>  32.0</td><td>4516.5</td><td> 140.0</td><td>   5.6</td></tr>\n",
       "\t<tr><th scope=row>6</th><td>   8.0</td><td>  64.0</td><td>9056.0</td><td> 150.0</td><td>  11.3</td></tr>\n",
       "\t<tr><th scope=row>7</th><td>    8.0</td><td>  128.0</td><td>18357.8</td><td>  150.0</td><td>   22.9</td></tr>\n",
       "\t<tr><th scope=row>8</th><td>    8.00</td><td>  256.00</td><td>37723.30</td><td>  160.00</td><td>   44.57</td></tr>\n",
       "\t<tr><th scope=row>9</th><td>  16.0</td><td>  32.0</td><td>9329.1</td><td> 140.0</td><td>  11.3</td></tr>\n",
       "\t<tr><th scope=row>10</th><td>   16.0</td><td>   64.0</td><td>19025.6</td><td>  160.0</td><td>   22.9</td></tr>\n",
       "\t<tr><th scope=row>11</th><td>   16.0</td><td>  128.0</td><td>39061.4</td><td>  150.0</td><td>   44.7</td></tr>\n",
       "\t<tr><th scope=row>12</th><td>   16.0</td><td>  256.0</td><td>62930.1</td><td>  150.0</td><td>   87.2</td></tr>\n",
       "\t<tr><th scope=row>13</th><td>   32.0</td><td>   32.0</td><td>19360.1</td><td>  130.0</td><td>   23.1</td></tr>\n",
       "\t<tr><th scope=row>14</th><td>   32.0</td><td>   64.0</td><td>39367.0</td><td>  160.0</td><td>   44.7</td></tr>\n",
       "\t<tr><th scope=row>15</th><td>   32.0</td><td>  128.0</td><td>63075.1</td><td>  150.0</td><td>   87.3</td></tr>\n",
       "\t<tr><th scope=row>16</th><td>    32.00</td><td>   256.00</td><td>114150.12</td><td>   140.00</td><td>   171.11</td></tr>\n",
       "</tbody>\n",
       "</table>\n"
      ],
      "text/latex": [
       "\\begin{tabular}{r|lllll}\n",
       "  & Stages & Bits & areaUm2 & delayPs & powerMw\\\\\n",
       "\\hline\n",
       "\t1 &   1.00 &  32.00 & 365.80 & 130.00 &   0.67\\\\\n",
       "\t2 &   1.00 &  64.00 & 734.00 & 140.00 &   1.33\\\\\n",
       "\t3 &    1.00 &  128.00 & 1471.10 &  140.00 &    2.65\\\\\n",
       "\t4 &    1.0 &  256.0 & 2947.9 &  150.0 &    5.3\\\\\n",
       "\t5 &    8.0 &   32.0 & 4516.5 &  140.0 &    5.6\\\\\n",
       "\t6 &    8.0 &   64.0 & 9056.0 &  150.0 &   11.3\\\\\n",
       "\t7 &     8.0 &   128.0 & 18357.8 &   150.0 &    22.9\\\\\n",
       "\t8 &     8.00 &   256.00 & 37723.30 &   160.00 &    44.57\\\\\n",
       "\t9 &   16.0 &   32.0 & 9329.1 &  140.0 &   11.3\\\\\n",
       "\t10 &    16.0 &    64.0 & 19025.6 &   160.0 &    22.9\\\\\n",
       "\t11 &    16.0 &   128.0 & 39061.4 &   150.0 &    44.7\\\\\n",
       "\t12 &    16.0 &   256.0 & 62930.1 &   150.0 &    87.2\\\\\n",
       "\t13 &    32.0 &    32.0 & 19360.1 &   130.0 &    23.1\\\\\n",
       "\t14 &    32.0 &    64.0 & 39367.0 &   160.0 &    44.7\\\\\n",
       "\t15 &    32.0 &   128.0 & 63075.1 &   150.0 &    87.3\\\\\n",
       "\t16 &     32.00 &    256.00 & 114150.12 &    140.00 &    171.11\\\\\n",
       "\\end{tabular}\n"
      ],
      "text/plain": [
       "   Stages Bits  areaUm2 delayPs powerMw\n",
       "1       1   32    365.8     130    0.67\n",
       "2       1   64    734.0     140    1.33\n",
       "3       1  128   1471.1     140    2.65\n",
       "4       1  256   2947.9     150    5.30\n",
       "5       8   32   4516.5     140    5.60\n",
       "6       8   64   9056.0     150   11.30\n",
       "7       8  128  18357.8     150   22.90\n",
       "8       8  256  37723.3     160   44.57\n",
       "9      16   32   9329.1     140   11.30\n",
       "10     16   64  19025.6     160   22.90\n",
       "11     16  128  39061.4     150   44.70\n",
       "12     16  256  62930.1     150   87.20\n",
       "13     32   32  19360.1     130   23.10\n",
       "14     32   64  39367.0     160   44.70\n",
       "15     32  128  63075.1     150   87.30\n",
       "16     32  256 114150.1     140  171.11"
      ]
     },
     "metadata": {},
     "output_type": "display_data"
    }
   ],
   "source": [
    "shifRegisterStats"
   ]
  },
  {
   "cell_type": "code",
   "execution_count": null,
   "metadata": {
    "collapsed": true
   },
   "outputs": [],
   "source": []
  }
 ],
 "metadata": {
  "kernelspec": {
   "display_name": "R",
   "language": "R",
   "name": "ir"
  },
  "language_info": {
   "codemirror_mode": "r",
   "file_extension": ".r",
   "mimetype": "text/x-r-source",
   "name": "R",
   "pygments_lexer": "r",
   "version": "3.3.1"
  }
 },
 "nbformat": 4,
 "nbformat_minor": 2
}
