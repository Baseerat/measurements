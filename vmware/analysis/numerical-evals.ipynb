{
 "cells": [
  {
   "cell_type": "code",
   "execution_count": 1,
   "metadata": {
    "collapsed": true
   },
   "outputs": [],
   "source": [
    "import os\n",
    "import glob\n",
    "from functools import reduce"
   ]
  },
  {
   "cell_type": "code",
   "execution_count": 2,
   "metadata": {
    "collapsed": true
   },
   "outputs": [],
   "source": [
    "import seaborn as sns\n",
    "import numpy as np\n",
    "import pandas as pd\n",
    "import matplotlib.pyplot as plt\n",
    "plt.style.use('ggplot')\n",
    "import seaborn as sns\n",
    "from scipy import stats\n",
    "import operator \n",
    "\n",
    "# display plots in the notebook\n",
    "%matplotlib inline\n",
    "\n",
    "# increase default figure and font sizes for easier viewing\n",
    "plt.rcParams['figure.figsize'] = (8, 6)\n",
    "plt.rcParams['font.size'] = 14"
   ]
  },
  {
   "cell_type": "markdown",
   "metadata": {},
   "source": [
    "# Statistical Analysis\n",
    "---"
   ]
  },
  {
   "cell_type": "code",
   "execution_count": 3,
   "metadata": {
    "collapsed": true
   },
   "outputs": [],
   "source": [
    "# Constants\n",
    "\n",
    "np.random.seed(seed=1)\n",
    "\n",
    "# - Leafs\n",
    "numLeafs = 1056\n",
    "numPhyHostsPerLeaf = 48\n",
    "maxVMsPerPhyHost = 20\n",
    "\n",
    "# - Tenants\n",
    "numTenants = 200\n",
    "minVMsPerTenant = 10\n",
    "maxVMsPerTenant = 5000\n",
    "\n",
    "# - Groups\n",
    "numGroups = 1000\n",
    "minGroupSize = 5"
   ]
  },
  {
   "cell_type": "code",
   "execution_count": null,
   "metadata": {
    "collapsed": true
   },
   "outputs": [],
   "source": []
  },
  {
   "cell_type": "code",
   "execution_count": 4,
   "metadata": {
    "collapsed": false
   },
   "outputs": [],
   "source": [
    "# Leafs to physical host mapping\n",
    "leafToPhyHostMap = []\n",
    "\n",
    "for i in range(numLeafs):\n",
    "    leafToPhyHostMap += [pd.Series([(i * numPhyHostsPerLeaf) + j for j in range(numPhyHostsPerLeaf)])]"
   ]
  },
  {
   "cell_type": "code",
   "execution_count": null,
   "metadata": {
    "collapsed": false
   },
   "outputs": [],
   "source": []
  },
  {
   "cell_type": "code",
   "execution_count": 5,
   "metadata": {
    "collapsed": true
   },
   "outputs": [],
   "source": [
    "# Phyical hosts to leaf mapping\n",
    "phyHostToLeafList = []\n",
    "for i in range(numLeafs):\n",
    "    phyHostToLeafList += [i for _ in range(numPhyHostsPerLeaf)]\n",
    "\n",
    "phyHostToLeafMap = pd.Series(phyHostToLeafList)"
   ]
  },
  {
   "cell_type": "code",
   "execution_count": null,
   "metadata": {
    "collapsed": true
   },
   "outputs": [],
   "source": []
  },
  {
   "cell_type": "code",
   "execution_count": 6,
   "metadata": {
    "collapsed": false
   },
   "outputs": [],
   "source": [
    "# Tenants\n",
    "tenantsParams = {}"
   ]
  },
  {
   "cell_type": "code",
   "execution_count": 7,
   "metadata": {
    "collapsed": false
   },
   "outputs": [],
   "source": [
    "# Number of VMs per tenant\n",
    "avgVMsPerTenant = 1.0 * (maxVMsPerPhyHost * (numLeafs * numPhyHostsPerLeaf)) / numTenants\n",
    "tenantsParams['VMs'] = pd.Series(stats.geom.rvs(size=numTenants, \n",
    "                                                loc=minVMsPerTenant, p=1.0/avgVMsPerTenant)) \n",
    "                       # using geometric distribution as discrete exponential distribution\n",
    "# tenantsParams['VMs'] = pd.Series(np.int64(((stats.expon.rvs(size=numTenants, scale=(1.0 / 2)) / 10) \n",
    "#                                            * (maxVMsPerTenant - minVMsPerTenant))\n",
    "#                                           % (maxVMsPerTenant - minVMsPerTenant) + minVMsPerTenant))"
   ]
  },
  {
   "cell_type": "code",
   "execution_count": 8,
   "metadata": {
    "collapsed": false
   },
   "outputs": [
    {
     "data": {
      "text/plain": [
       "count      200.000000\n",
       "mean      4984.280000\n",
       "std       5051.607663\n",
       "min         11.000000\n",
       "25%       1153.750000\n",
       "50%       3838.500000\n",
       "75%       6984.250000\n",
       "max      30030.000000\n",
       "dtype: float64"
      ]
     },
     "execution_count": 8,
     "metadata": {},
     "output_type": "execute_result"
    }
   ],
   "source": [
    "tenantsParams['VMs'].describe()"
   ]
  },
  {
   "cell_type": "code",
   "execution_count": 9,
   "metadata": {
    "collapsed": false
   },
   "outputs": [],
   "source": [
    "# Number of groups per tenant\n",
    "tenantsParams['Groups'] = pd.Series(np.int64(np.floor((tenantsParams['VMs'] / sum(tenantsParams['VMs'])) \n",
    "                                                      * numGroups)))\n",
    "# sns.kdeplot(tenants['Groups'], cumulative=True)"
   ]
  },
  {
   "cell_type": "code",
   "execution_count": 10,
   "metadata": {
    "collapsed": false
   },
   "outputs": [
    {
     "data": {
      "text/plain": [
       "count    200.000000\n",
       "mean       4.530000\n",
       "std        5.075223\n",
       "min        0.000000\n",
       "25%        1.000000\n",
       "50%        3.000000\n",
       "75%        7.000000\n",
       "max       30.000000\n",
       "dtype: float64"
      ]
     },
     "execution_count": 10,
     "metadata": {},
     "output_type": "execute_result"
    }
   ],
   "source": [
    "tenantsParams['Groups'].describe()"
   ]
  },
  {
   "cell_type": "code",
   "execution_count": 11,
   "metadata": {
    "collapsed": false
   },
   "outputs": [],
   "source": [
    "# Size of each group in a tenant. Also do it using WVE distribution.\n",
    "tenantsParams['GroupSizes'] = []\n",
    "for i in range(numTenants):\n",
    "    tenantsParams['GroupSizes'] += [pd.Series(stats.randint.rvs(low=minGroupSize, \n",
    "                                                                high=tenantsParams['VMs'][i], \n",
    "                                                                size=tenantsParams['Groups'][i]))]"
   ]
  },
  {
   "cell_type": "code",
   "execution_count": null,
   "metadata": {
    "collapsed": false
   },
   "outputs": [],
   "source": []
  },
  {
   "cell_type": "code",
   "execution_count": 12,
   "metadata": {
    "collapsed": false
   },
   "outputs": [],
   "source": [
    "# Tenants' groups to VM mapping\n",
    "tenantsGroupToVMMap = []\n",
    "\n",
    "for i in range(numTenants):\n",
    "    temp_list = []\n",
    "    for j in range(tenantsParams['Groups'][i]):\n",
    "        temp_list += [pd.Series(stats.randint.rvs(low=0,\n",
    "                                                  high=tenantsParams['VMs'][i], \n",
    "                                                  size=tenantsParams['GroupSizes'][i][j]))]\n",
    "    tenantsGroupToVMMap += [temp_list]"
   ]
  },
  {
   "cell_type": "code",
   "execution_count": 13,
   "metadata": {
    "collapsed": false
   },
   "outputs": [],
   "source": [
    "# Tenants' VMs to physical host mapping using uniform random distribution. \n",
    "# Also, do it for coloacated hosts under same leaf.\n",
    "tenantsVMToPhyHostMap = []\n",
    "\n",
    "for i in range(numTenants):\n",
    "    tenantsVMToPhyHostMap += [pd.Series(np.random.choice(a=(numLeafs * numPhyHostsPerLeaf), \n",
    "                                                         size=tenantsParams['VMs'][i], \n",
    "                                                         replace=False))]"
   ]
  },
  {
   "cell_type": "code",
   "execution_count": 14,
   "metadata": {
    "collapsed": false
   },
   "outputs": [],
   "source": [
    "# To ask ... how do we pick so that no host has more than 20 VMs"
   ]
  },
  {
   "cell_type": "code",
   "execution_count": null,
   "metadata": {
    "collapsed": true
   },
   "outputs": [],
   "source": []
  },
  {
   "cell_type": "code",
   "execution_count": null,
   "metadata": {
    "collapsed": true
   },
   "outputs": [],
   "source": []
  },
  {
   "cell_type": "code",
   "execution_count": 15,
   "metadata": {
    "collapsed": false
   },
   "outputs": [],
   "source": [
    "# hostVMCount = []\n",
    "# for i in range(numLeafs * numPhyHostsPerLeaf):\n",
    "#     hostVMCount += [0]\n",
    "#     for j in range(numTenants):\n",
    "#         for k in range(tenantsParams['VMs'][j]):\n",
    "#             if tenantsVMToPhyHostMap[j][k] == i:\n",
    "#                 hostVMCount[i] += 1"
   ]
  },
  {
   "cell_type": "code",
   "execution_count": 16,
   "metadata": {
    "collapsed": false
   },
   "outputs": [],
   "source": [
    "# pd.Series(hostVMCount).describe()"
   ]
  },
  {
   "cell_type": "code",
   "execution_count": null,
   "metadata": {
    "collapsed": true
   },
   "outputs": [],
   "source": []
  },
  {
   "cell_type": "code",
   "execution_count": null,
   "metadata": {
    "collapsed": true
   },
   "outputs": [],
   "source": []
  },
  {
   "cell_type": "code",
   "execution_count": 17,
   "metadata": {
    "collapsed": false
   },
   "outputs": [],
   "source": [
    "# Tenants' groups to leaf mapping\n",
    "tenantsGroupToLeafMap = []\n",
    "\n",
    "for i in range(numTenants):\n",
    "    temp_list = []\n",
    "    for j in range(tenantsParams['Groups'][i]):\n",
    "        temp_list += [pd.Series([phyHostToLeafMap[tenantsVMToPhyHostMap[i][value]]\n",
    "                                 for _, value in tenantsGroupToVMMap[i][j].iteritems()])]\n",
    "    tenantsGroupToLeafMap += [temp_list]"
   ]
  },
  {
   "cell_type": "code",
   "execution_count": null,
   "metadata": {
    "collapsed": true
   },
   "outputs": [],
   "source": []
  },
  {
   "cell_type": "code",
   "execution_count": 18,
   "metadata": {
    "collapsed": true
   },
   "outputs": [],
   "source": [
    "# Tenants' groups to unique leaf count (i.e., the spread of a group across leafs)\n",
    "tenantsGroupToUniqueLeafCount = []\n",
    "\n",
    "for i in range(numTenants):\n",
    "    temp_list = []\n",
    "    for j in range(tenantsParams['Groups'][i]):\n",
    "        temp_list += [len(tenantsGroupToLeafMap[i][j].unique())]\n",
    "    tenantsGroupToUniqueLeafCount += [temp_list]"
   ]
  },
  {
   "cell_type": "code",
   "execution_count": null,
   "metadata": {
    "collapsed": false
   },
   "outputs": [],
   "source": []
  },
  {
   "cell_type": "code",
   "execution_count": 19,
   "metadata": {
    "collapsed": false
   },
   "outputs": [],
   "source": [
    "# Distribution of leaf spread for each group in all tenants.\n",
    "plot_tenantsGroupLeafSpread = pd.Series(reduce(operator.add, \n",
    "                                               [tenantsGroupToUniqueLeafCount[i] for i in range(numTenants)]))"
   ]
  },
  {
   "cell_type": "code",
   "execution_count": 20,
   "metadata": {
    "collapsed": false
   },
   "outputs": [
    {
     "data": {
      "text/plain": [
       "<matplotlib.axes._subplots.AxesSubplot at 0x7fd41d832d30>"
      ]
     },
     "execution_count": 20,
     "metadata": {},
     "output_type": "execute_result"
    },
    {
     "data": {
      "image/png": "[encoded data removed]",
      "text/plain": [
       "<matplotlib.figure.Figure at 0x7fd41d680978>"
      ]
     },
     "metadata": {},
     "output_type": "display_data"
    }
   ],
   "source": [
    "sns.kdeplot(plot_tenantsGroupLeafSpread, cumulative=True)"
   ]
  },
  {
   "cell_type": "code",
   "execution_count": 21,
   "metadata": {
    "collapsed": false
   },
   "outputs": [
    {
     "data": {
      "text/plain": [
       "count     906.000000\n",
       "mean      884.402870\n",
       "std       246.333018\n",
       "min         7.000000\n",
       "25%       820.500000\n",
       "50%      1008.500000\n",
       "75%      1052.000000\n",
       "max      1056.000000\n",
       "dtype: float64"
      ]
     },
     "execution_count": 21,
     "metadata": {},
     "output_type": "execute_result"
    }
   ],
   "source": [
    "plot_tenantsGroupLeafSpread.describe()"
   ]
  },
  {
   "cell_type": "code",
   "execution_count": null,
   "metadata": {
    "collapsed": true
   },
   "outputs": [],
   "source": []
  },
  {
   "cell_type": "code",
   "execution_count": null,
   "metadata": {
    "collapsed": true
   },
   "outputs": [],
   "source": []
  },
  {
   "cell_type": "code",
   "execution_count": null,
   "metadata": {
    "collapsed": true
   },
   "outputs": [],
   "source": []
  },
  {
   "cell_type": "code",
   "execution_count": null,
   "metadata": {
    "collapsed": true
   },
   "outputs": [],
   "source": []
  },
  {
   "cell_type": "code",
   "execution_count": null,
   "metadata": {
    "collapsed": true
   },
   "outputs": [],
   "source": []
  },
  {
   "cell_type": "code",
   "execution_count": null,
   "metadata": {
    "collapsed": true
   },
   "outputs": [],
   "source": []
  },
  {
   "cell_type": "code",
   "execution_count": null,
   "metadata": {
    "collapsed": true
   },
   "outputs": [],
   "source": []
  },
  {
   "cell_type": "markdown",
   "metadata": {},
   "source": [
    "# Others\n",
    "---"
   ]
  },
  {
   "cell_type": "markdown",
   "metadata": {},
   "source": [
    "### Maximum number of members supported when located under 'n' ToR switches\n",
    "\n",
    "A typical ToR switch connected to 48 servers. Thus, if member VMs of a tenants are co-located under 'n' ToRs, where 'n' is the number of bitmaps available, then the following analysis shows the maximum numbers of members supported per group (or topic):\n",
    "\n",
    "Assumption:\n",
    "- A tenant’s VMs do not share the same physical host for reasons of resilience etc.\n",
    "\n",
    "Given:\n",
    "- 48 servers under a ToR\n",
    "- n is the number of bitmaps\n",
    "- width of a bitmap is equal to the number of servers connected to a ToR switch (i.e., 48 in this case)"
   ]
  },
  {
   "cell_type": "code",
   "execution_count": 9,
   "metadata": {
    "collapsed": false
   },
   "outputs": [],
   "source": [
    "plot_data = pd.DataFrame()\n",
    "\n",
    "bitmap_size = 48\n",
    "num_bitmap_list = [1, 2, 4, 8, 16, 32]\n",
    "\n",
    "member_list = []\n",
    "header_size_list = []\n",
    "for num_bitmap in num_bitmap_list:\n",
    "    member_list += [(num_bitmap * bitmap_size)]\n",
    "    header_size_list += [(num_bitmap * bitmap_size)]\n",
    "\n",
    "plot_data['No. of Bitmaps'] = num_bitmap_list\n",
    "plot_data['No. of Hosts'] = member_list\n",
    "plot_data['Header Size (in bits)'] = header_size_list\n",
    "plot_data = plot_data.set_index('No. of Bitmaps')"
   ]
  },
  {
   "cell_type": "code",
   "execution_count": 10,
   "metadata": {
    "collapsed": false
   },
   "outputs": [
    {
     "data": {
      "text/plain": [
       "<matplotlib.axes._subplots.AxesSubplot at 0x7f9f672f1128>"
      ]
     },
     "execution_count": 10,
     "metadata": {},
     "output_type": "execute_result"
    },
    {
     "data": {
      "image/png": "[encoded data removed]",
      "text/plain": [
       "<matplotlib.figure.Figure at 0x7f9f6734c940>"
      ]
     },
     "metadata": {},
     "output_type": "display_data"
    }
   ],
   "source": [
    "plot_data[['No. of Hosts']].plot(kind='bar')"
   ]
  },
  {
   "cell_type": "code",
   "execution_count": 11,
   "metadata": {
    "collapsed": false
   },
   "outputs": [
    {
     "data": {
      "text/plain": [
       "<matplotlib.axes._subplots.AxesSubplot at 0x7f9f673d3390>"
      ]
     },
     "execution_count": 11,
     "metadata": {},
     "output_type": "execute_result"
    },
    {
     "data": {
      "image/png": "[encoded data removed]",
      "text/plain": [
       "<matplotlib.figure.Figure at 0x7f9f672f1710>"
      ]
     },
     "metadata": {},
     "output_type": "display_data"
    }
   ],
   "source": [
    "plot_data[['Header Size (in bits)']].plot(kind='bar')"
   ]
  },
  {
   "cell_type": "markdown",
   "metadata": {},
   "source": [
    "This shows that using only 16 bitmaps (48 bit wide), we can handle groups sizes of about 512 members.\n",
    "\n",
    "From Figure 4, in the SDN IP multicast paper, we can see that this allows us to handle about 80% of the groups, in the case of WVE distribution, and 60% of the groups, in case of uniform distribution, without requiring any group entries in the network switches."
   ]
  },
  {
   "cell_type": "code",
   "execution_count": null,
   "metadata": {
    "collapsed": true
   },
   "outputs": [],
   "source": []
  }
 ],
 "metadata": {
  "kernelspec": {
   "display_name": "Python 3",
   "language": "python",
   "name": "python3"
  },
  "language_info": {
   "codemirror_mode": {
    "name": "ipython",
    "version": 3
   },
   "file_extension": ".py",
   "mimetype": "text/x-python",
   "name": "python",
   "nbconvert_exporter": "python",
   "pygments_lexer": "ipython3",
   "version": "3.5.2"
  }
 },
 "nbformat": 4,
 "nbformat_minor": 2
}
