{
 "cells": [
  {
   "cell_type": "markdown",
   "metadata": {},
   "source": [
    "## Configurations"
   ]
  },
  {
   "cell_type": "code",
   "execution_count": 1,
   "metadata": {
    "collapsed": false
   },
   "outputs": [],
   "source": [
    "run_name = \"current/httperf_balance_wlc_to1\""
   ]
  },
  {
   "cell_type": "code",
   "execution_count": 2,
   "metadata": {
    "collapsed": false
   },
   "outputs": [],
   "source": [
    "import os\n",
    "import glob\n",
    "from functools import reduce"
   ]
  },
  {
   "cell_type": "code",
   "execution_count": 3,
   "metadata": {
    "collapsed": false
   },
   "outputs": [],
   "source": [
    "import pandas as pd\n",
    "import matplotlib.pyplot as plt\n",
    "plt.style.use('ggplot')\n",
    "import seaborn as sns\n",
    "\n",
    "# display plots in the notebook\n",
    "%matplotlib inline\n",
    "\n",
    "# increase default figure and font sizes for easier viewing\n",
    "plt.rcParams['figure.figsize'] = (8, 6)\n",
    "plt.rcParams['font.size'] = 14"
   ]
  },
  {
   "cell_type": "markdown",
   "metadata": {},
   "source": [
    "## Client-side stats"
   ]
  },
  {
   "cell_type": "code",
   "execution_count": 4,
   "metadata": {
    "collapsed": false
   },
   "outputs": [],
   "source": [
    "# read in the data\n",
    "plot_data_list = []\n",
    "\n",
    "for i in glob.glob(\"./results/\" + run_name + \"/httperf_client_*.csv\"):\n",
    "    plot_data_list.append(pd.read_csv(i, header=0, na_filter=False))"
   ]
  },
  {
   "cell_type": "code",
   "execution_count": 5,
   "metadata": {
    "collapsed": false
   },
   "outputs": [
    {
     "data": {
      "text/html": [
       "<div style=\"max-height:1000px;max-width:1500px;overflow:auto;\">\n",
       "<table border=\"1\" class=\"dataframe\">\n",
       "  <thead>\n",
       "    <tr style=\"text-align: right;\">\n",
       "      <th></th>\n",
       "      <th>Rate</th>\n",
       "      <th>Request rate</th>\n",
       "      <th>Number of requests</th>\n",
       "      <th>Response status 1xx</th>\n",
       "      <th>Response status 2xx</th>\n",
       "      <th>Response status 3xx</th>\n",
       "      <th>Response status 4xx</th>\n",
       "      <th>Response status 5xx</th>\n",
       "      <th>Response time</th>\n",
       "    </tr>\n",
       "  </thead>\n",
       "  <tbody>\n",
       "    <tr>\n",
       "      <th>0</th>\n",
       "      <td>  320</td>\n",
       "      <td>  320</td>\n",
       "      <td> 32000</td>\n",
       "      <td> 0</td>\n",
       "      <td> 32000</td>\n",
       "      <td> 0</td>\n",
       "      <td> 0</td>\n",
       "      <td> 0</td>\n",
       "      <td> 1.2250</td>\n",
       "    </tr>\n",
       "    <tr>\n",
       "      <th>1</th>\n",
       "      <td>  640</td>\n",
       "      <td>  640</td>\n",
       "      <td> 32000</td>\n",
       "      <td> 0</td>\n",
       "      <td> 32000</td>\n",
       "      <td> 0</td>\n",
       "      <td> 0</td>\n",
       "      <td> 0</td>\n",
       "      <td> 1.4375</td>\n",
       "    </tr>\n",
       "    <tr>\n",
       "      <th>2</th>\n",
       "      <td>  960</td>\n",
       "      <td>  960</td>\n",
       "      <td> 32000</td>\n",
       "      <td> 0</td>\n",
       "      <td> 32000</td>\n",
       "      <td> 0</td>\n",
       "      <td> 0</td>\n",
       "      <td> 0</td>\n",
       "      <td> 1.8125</td>\n",
       "    </tr>\n",
       "    <tr>\n",
       "      <th>3</th>\n",
       "      <td> 1280</td>\n",
       "      <td> 1280</td>\n",
       "      <td> 32000</td>\n",
       "      <td> 0</td>\n",
       "      <td> 32000</td>\n",
       "      <td> 0</td>\n",
       "      <td> 0</td>\n",
       "      <td> 0</td>\n",
       "      <td> 2.5625</td>\n",
       "    </tr>\n",
       "    <tr>\n",
       "      <th>4</th>\n",
       "      <td> 1600</td>\n",
       "      <td> 1600</td>\n",
       "      <td> 32000</td>\n",
       "      <td> 0</td>\n",
       "      <td> 32000</td>\n",
       "      <td> 0</td>\n",
       "      <td> 0</td>\n",
       "      <td> 0</td>\n",
       "      <td> 3.2250</td>\n",
       "    </tr>\n",
       "  </tbody>\n",
       "</table>\n",
       "</div>"
      ],
      "text/plain": [
       "   Rate  Request rate  Number of requests  Response status 1xx  \\\n",
       "0   320           320               32000                    0   \n",
       "1   640           640               32000                    0   \n",
       "2   960           960               32000                    0   \n",
       "3  1280          1280               32000                    0   \n",
       "4  1600          1600               32000                    0   \n",
       "\n",
       "   Response status 2xx  Response status 3xx  Response status 4xx  \\\n",
       "0                32000                    0                    0   \n",
       "1                32000                    0                    0   \n",
       "2                32000                    0                    0   \n",
       "3                32000                    0                    0   \n",
       "4                32000                    0                    0   \n",
       "\n",
       "   Response status 5xx  Response time  \n",
       "0                    0         1.2250  \n",
       "1                    0         1.4375  \n",
       "2                    0         1.8125  \n",
       "3                    0         2.5625  \n",
       "4                    0         3.2250  "
      ]
     },
     "execution_count": 5,
     "metadata": {},
     "output_type": "execute_result"
    }
   ],
   "source": [
    "plot_data = pd.DataFrame()\n",
    "\n",
    "for i in ['Rate', 'Request rate', 'Number of requests',\n",
    "          'Response status 1xx', 'Response status 2xx', 'Response status 3xx', \n",
    "          'Response status 4xx', 'Response status 5xx']:\n",
    "    plot_data[i] = reduce(lambda x, y: x + y, [plot_data_list[j][i] for j in range(len(plot_data_list))])\n",
    "\n",
    "plot_data['Response time'] = reduce(lambda x, y: x + y, [plot_data_list[j]['Response time'] \n",
    "                                                         for j in range(len(plot_data_list))]) / len(plot_data_list)\n",
    "\n",
    "plot_data.head()"
   ]
  },
  {
   "cell_type": "markdown",
   "metadata": {},
   "source": [
    "### 1. Request rate"
   ]
  },
  {
   "cell_type": "code",
   "execution_count": 6,
   "metadata": {
    "collapsed": false
   },
   "outputs": [
    {
     "data": {
      "text/plain": [
       "<matplotlib.axes._subplots.AxesSubplot at 0x7f98ff7057d0>"
      ]
     },
     "execution_count": 6,
     "metadata": {},
     "output_type": "execute_result"
    },
    {
     "data": {
      "image/png": "[encoded data removed]",
      "text/plain": [
       "<matplotlib.figure.Figure at 0x7f98ff6e3a10>"
      ]
     },
     "metadata": {},
     "output_type": "display_data"
    }
   ],
   "source": [
    "plot_data.plot('Rate', 'Request rate', ylim=(0, None))"
   ]
  },
  {
   "cell_type": "code",
   "execution_count": 7,
   "metadata": {
    "collapsed": false
   },
   "outputs": [
    {
     "data": {
      "text/plain": [
       "count       50.000000\n",
       "mean      8160.000000\n",
       "std       4664.761516\n",
       "min        320.000000\n",
       "25%       4240.000000\n",
       "50%       8160.000000\n",
       "75%      12080.000000\n",
       "max      16000.000000\n",
       "dtype: float64"
      ]
     },
     "execution_count": 7,
     "metadata": {},
     "output_type": "execute_result"
    }
   ],
   "source": [
    "plot_data['Rate'].describe()"
   ]
  },
  {
   "cell_type": "code",
   "execution_count": 8,
   "metadata": {
    "collapsed": false
   },
   "outputs": [
    {
     "data": {
      "text/plain": [
       "count      50.000000\n",
       "mean     3394.754000\n",
       "std      1089.993505\n",
       "min       320.000000\n",
       "25%      2976.675000\n",
       "50%      3605.200000\n",
       "75%      3931.375000\n",
       "max      5430.900000\n",
       "dtype: float64"
      ]
     },
     "execution_count": 8,
     "metadata": {},
     "output_type": "execute_result"
    }
   ],
   "source": [
    "plot_data['Request rate'].describe()"
   ]
  },
  {
   "cell_type": "markdown",
   "metadata": {},
   "source": [
    "### 2. Response time"
   ]
  },
  {
   "cell_type": "code",
   "execution_count": 9,
   "metadata": {
    "collapsed": false
   },
   "outputs": [
    {
     "data": {
      "text/plain": [
       "<matplotlib.axes._subplots.AxesSubplot at 0x7f98ff396c10>"
      ]
     },
     "execution_count": 9,
     "metadata": {},
     "output_type": "execute_result"
    },
    {
     "data": {
      "image/png": "[encoded data removed]",
      "text/plain": [
       "<matplotlib.figure.Figure at 0x7f98ff7054d0>"
      ]
     },
     "metadata": {},
     "output_type": "display_data"
    }
   ],
   "source": [
    "plot_data.plot('Rate', 'Response time', ylim=(0, None))"
   ]
  },
  {
   "cell_type": "code",
   "execution_count": 10,
   "metadata": {
    "collapsed": false
   },
   "outputs": [
    {
     "data": {
      "text/plain": [
       "count     50.000000\n",
       "mean     175.613750\n",
       "std      139.907279\n",
       "min        1.225000\n",
       "25%        7.651563\n",
       "50%      232.681250\n",
       "75%      280.821875\n",
       "max      386.168750\n",
       "dtype: float64"
      ]
     },
     "execution_count": 10,
     "metadata": {},
     "output_type": "execute_result"
    }
   ],
   "source": [
    "plot_data['Response time'].describe()"
   ]
  },
  {
   "cell_type": "markdown",
   "metadata": {},
   "source": [
    "### 3. Success rate"
   ]
  },
  {
   "cell_type": "code",
   "execution_count": 11,
   "metadata": {
    "collapsed": false
   },
   "outputs": [
    {
     "data": {
      "text/plain": [
       "<matplotlib.axes._subplots.AxesSubplot at 0x7f98ff56b290>"
      ]
     },
     "execution_count": 11,
     "metadata": {},
     "output_type": "execute_result"
    },
    {
     "data": {
      "image/png": "[encoded data removed]",
      "text/plain": [
       "<matplotlib.figure.Figure at 0x7f98ff4e7290>"
      ]
     },
     "metadata": {},
     "output_type": "display_data"
    }
   ],
   "source": [
    "plot_data['Success rate'] = (plot_data['Response status 2xx'] + plot_data['Response status 3xx']) / plot_data['Number of requests'] * 100.0\n",
    "plot_data.plot('Rate', 'Success rate', ylim=(0, None))"
   ]
  },
  {
   "cell_type": "code",
   "execution_count": 12,
   "metadata": {
    "collapsed": false
   },
   "outputs": [
    {
     "data": {
      "text/plain": [
       "count     50.000000\n",
       "mean      87.280239\n",
       "std       13.303998\n",
       "min       58.705842\n",
       "25%       79.036157\n",
       "50%       89.660168\n",
       "75%      100.000000\n",
       "max      100.000000\n",
       "dtype: float64"
      ]
     },
     "execution_count": 12,
     "metadata": {},
     "output_type": "execute_result"
    }
   ],
   "source": [
    "plot_data['Success rate'].describe()"
   ]
  },
  {
   "cell_type": "markdown",
   "metadata": {},
   "source": [
    "## Server-side stats"
   ]
  },
  {
   "cell_type": "code",
   "execution_count": 13,
   "metadata": {
    "collapsed": false
   },
   "outputs": [
    {
     "data": {
      "text/html": [
       "<div style=\"max-height:1000px;max-width:1500px;overflow:auto;\">\n",
       "<table border=\"1\" class=\"dataframe\">\n",
       "  <thead>\n",
       "    <tr style=\"text-align: right;\">\n",
       "      <th></th>\n",
       "      <th>Server</th>\n",
       "      <th>Connections</th>\n",
       "      <th>Packets</th>\n",
       "      <th>Bytes (K)</th>\n",
       "      <th>Connections Ratio (%)</th>\n",
       "      <th>Packets Ratio (%)</th>\n",
       "      <th>Bytes Ratio (%)</th>\n",
       "    </tr>\n",
       "  </thead>\n",
       "  <tbody>\n",
       "    <tr>\n",
       "      <th>0</th>\n",
       "      <td> 11.11.11.107:80</td>\n",
       "      <td> 14106</td>\n",
       "      <td> 1582241</td>\n",
       "      <td> 105385</td>\n",
       "      <td> 25.110367</td>\n",
       "      <td> 24.836001</td>\n",
       "      <td> 24.835974</td>\n",
       "    </tr>\n",
       "    <tr>\n",
       "      <th>1</th>\n",
       "      <td> 11.11.11.106:80</td>\n",
       "      <td> 13874</td>\n",
       "      <td> 1602503</td>\n",
       "      <td> 106876</td>\n",
       "      <td> 24.697380</td>\n",
       "      <td> 25.154048</td>\n",
       "      <td> 25.187357</td>\n",
       "    </tr>\n",
       "    <tr>\n",
       "      <th>2</th>\n",
       "      <td> 11.11.11.103:80</td>\n",
       "      <td> 14294</td>\n",
       "      <td> 1602261</td>\n",
       "      <td> 106586</td>\n",
       "      <td> 25.445030</td>\n",
       "      <td> 25.150249</td>\n",
       "      <td> 25.119013</td>\n",
       "    </tr>\n",
       "    <tr>\n",
       "      <th>3</th>\n",
       "      <td> 11.11.11.102:80</td>\n",
       "      <td> 13902</td>\n",
       "      <td> 1583751</td>\n",
       "      <td> 105477</td>\n",
       "      <td> 24.747223</td>\n",
       "      <td> 24.859703</td>\n",
       "      <td> 24.857656</td>\n",
       "    </tr>\n",
       "  </tbody>\n",
       "</table>\n",
       "</div>"
      ],
      "text/plain": [
       "            Server  Connections  Packets  Bytes (K)  Connections Ratio (%)  \\\n",
       "0  11.11.11.107:80        14106  1582241     105385              25.110367   \n",
       "1  11.11.11.106:80        13874  1602503     106876              24.697380   \n",
       "2  11.11.11.103:80        14294  1602261     106586              25.445030   \n",
       "3  11.11.11.102:80        13902  1583751     105477              24.747223   \n",
       "\n",
       "   Packets Ratio (%)  Bytes Ratio (%)  \n",
       "0          24.836001        24.835974  \n",
       "1          25.154048        25.187357  \n",
       "2          25.150249        25.119013  \n",
       "3          24.859703        24.857656  "
      ]
     },
     "execution_count": 13,
     "metadata": {},
     "output_type": "execute_result"
    }
   ],
   "source": [
    "# read in the stats data\n",
    "stats_data = pd.read_csv(\"./results/\" + run_name + \"/httperf_server_stats.csv\", header=0, na_filter=False)\n",
    "stats_data['Connections Ratio (%)'] = stats_data['Connections'] / sum(stats_data['Connections']) * 100\n",
    "stats_data['Packets Ratio (%)'] = stats_data['Packets'] / sum(stats_data['Packets']) * 100\n",
    "stats_data['Bytes Ratio (%)'] = stats_data['Bytes (K)'] / sum(stats_data['Bytes (K)']) * 100\n",
    "stats_data"
   ]
  },
  {
   "cell_type": "code",
   "execution_count": null,
   "metadata": {
    "collapsed": false
   },
   "outputs": [],
   "source": []
  }
 ],
 "metadata": {
  "kernelspec": {
   "display_name": "Python 2",
   "language": "python",
   "name": "python2"
  },
  "language_info": {
   "codemirror_mode": {
    "name": "ipython",
    "version": 2
   },
   "file_extension": ".py",
   "mimetype": "text/x-python",
   "name": "python",
   "nbconvert_exporter": "python",
   "pygments_lexer": "ipython2",
   "version": "2.7.9"
  }
 },
 "nbformat": 4,
 "nbformat_minor": 0
}
