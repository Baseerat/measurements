{
 "cells": [
  {
   "cell_type": "markdown",
   "metadata": {},
   "source": [
    "## Configurations"
   ]
  },
  {
   "cell_type": "code",
   "execution_count": 1,
   "metadata": {
    "collapsed": false
   },
   "outputs": [],
   "source": [
    "run_name = \"current/httperf_unbalance_wrr_to1_fdb\""
   ]
  },
  {
   "cell_type": "code",
   "execution_count": 2,
   "metadata": {
    "collapsed": false
   },
   "outputs": [],
   "source": [
    "import os\n",
    "import glob\n",
    "from functools import reduce"
   ]
  },
  {
   "cell_type": "code",
   "execution_count": 3,
   "metadata": {
    "collapsed": false
   },
   "outputs": [],
   "source": [
    "import pandas as pd\n",
    "import matplotlib.pyplot as plt\n",
    "plt.style.use('ggplot')\n",
    "import seaborn as sns\n",
    "\n",
    "# display plots in the notebook\n",
    "%matplotlib inline\n",
    "\n",
    "# increase default figure and font sizes for easier viewing\n",
    "plt.rcParams['figure.figsize'] = (8, 6)\n",
    "plt.rcParams['font.size'] = 14"
   ]
  },
  {
   "cell_type": "markdown",
   "metadata": {},
   "source": [
    "## Client-side stats"
   ]
  },
  {
   "cell_type": "code",
   "execution_count": 4,
   "metadata": {
    "collapsed": false
   },
   "outputs": [],
   "source": [
    "# read in the data\n",
    "plot_data_list = []\n",
    "\n",
    "for i in glob.glob(\"./results/\" + run_name + \"/httperf_client_*.csv\"):\n",
    "    plot_data_list.append(pd.read_csv(i, header=0, na_filter=False))"
   ]
  },
  {
   "cell_type": "code",
   "execution_count": 5,
   "metadata": {
    "collapsed": false
   },
   "outputs": [
    {
     "data": {
      "text/html": [
       "<div style=\"max-height:1000px;max-width:1500px;overflow:auto;\">\n",
       "<table border=\"1\" class=\"dataframe\">\n",
       "  <thead>\n",
       "    <tr style=\"text-align: right;\">\n",
       "      <th></th>\n",
       "      <th>Rate</th>\n",
       "      <th>Request rate</th>\n",
       "      <th>Number of requests</th>\n",
       "      <th>Response status 1xx</th>\n",
       "      <th>Response status 2xx</th>\n",
       "      <th>Response status 3xx</th>\n",
       "      <th>Response status 4xx</th>\n",
       "      <th>Response status 5xx</th>\n",
       "      <th>Response time</th>\n",
       "    </tr>\n",
       "  </thead>\n",
       "  <tbody>\n",
       "    <tr>\n",
       "      <th>0</th>\n",
       "      <td>  320</td>\n",
       "      <td>  319.8</td>\n",
       "      <td> 32000</td>\n",
       "      <td> 0</td>\n",
       "      <td> 32000</td>\n",
       "      <td> 0</td>\n",
       "      <td> 0</td>\n",
       "      <td> 0</td>\n",
       "      <td>  3.11250</td>\n",
       "    </tr>\n",
       "    <tr>\n",
       "      <th>1</th>\n",
       "      <td>  640</td>\n",
       "      <td>  639.4</td>\n",
       "      <td> 32000</td>\n",
       "      <td> 0</td>\n",
       "      <td> 31997</td>\n",
       "      <td> 0</td>\n",
       "      <td> 0</td>\n",
       "      <td> 0</td>\n",
       "      <td> 13.86250</td>\n",
       "    </tr>\n",
       "    <tr>\n",
       "      <th>2</th>\n",
       "      <td>  960</td>\n",
       "      <td>  948.5</td>\n",
       "      <td> 31783</td>\n",
       "      <td> 0</td>\n",
       "      <td> 30392</td>\n",
       "      <td> 0</td>\n",
       "      <td> 0</td>\n",
       "      <td> 0</td>\n",
       "      <td> 49.93750</td>\n",
       "    </tr>\n",
       "    <tr>\n",
       "      <th>3</th>\n",
       "      <td> 1280</td>\n",
       "      <td> 1247.2</td>\n",
       "      <td> 31289</td>\n",
       "      <td> 0</td>\n",
       "      <td> 29739</td>\n",
       "      <td> 0</td>\n",
       "      <td> 0</td>\n",
       "      <td> 0</td>\n",
       "      <td> 18.36875</td>\n",
       "    </tr>\n",
       "    <tr>\n",
       "      <th>4</th>\n",
       "      <td> 1600</td>\n",
       "      <td> 1560.3</td>\n",
       "      <td> 32000</td>\n",
       "      <td> 0</td>\n",
       "      <td> 31794</td>\n",
       "      <td> 0</td>\n",
       "      <td> 0</td>\n",
       "      <td> 0</td>\n",
       "      <td> 16.11875</td>\n",
       "    </tr>\n",
       "  </tbody>\n",
       "</table>\n",
       "</div>"
      ],
      "text/plain": [
       "   Rate  Request rate  Number of requests  Response status 1xx  \\\n",
       "0   320         319.8               32000                    0   \n",
       "1   640         639.4               32000                    0   \n",
       "2   960         948.5               31783                    0   \n",
       "3  1280        1247.2               31289                    0   \n",
       "4  1600        1560.3               32000                    0   \n",
       "\n",
       "   Response status 2xx  Response status 3xx  Response status 4xx  \\\n",
       "0                32000                    0                    0   \n",
       "1                31997                    0                    0   \n",
       "2                30392                    0                    0   \n",
       "3                29739                    0                    0   \n",
       "4                31794                    0                    0   \n",
       "\n",
       "   Response status 5xx  Response time  \n",
       "0                    0        3.11250  \n",
       "1                    0       13.86250  \n",
       "2                    0       49.93750  \n",
       "3                    0       18.36875  \n",
       "4                    0       16.11875  "
      ]
     },
     "execution_count": 5,
     "metadata": {},
     "output_type": "execute_result"
    }
   ],
   "source": [
    "plot_data = pd.DataFrame()\n",
    "\n",
    "for i in ['Rate', 'Request rate', 'Number of requests',\n",
    "          'Response status 1xx', 'Response status 2xx', 'Response status 3xx', \n",
    "          'Response status 4xx', 'Response status 5xx']:\n",
    "    plot_data[i] = reduce(lambda x, y: x + y, [plot_data_list[j][i] for j in range(len(plot_data_list))])\n",
    "\n",
    "plot_data['Response time'] = reduce(lambda x, y: x + y, [plot_data_list[j]['Response time'] \n",
    "                                                         for j in range(len(plot_data_list))]) / len(plot_data_list)\n",
    "\n",
    "plot_data.head()"
   ]
  },
  {
   "cell_type": "markdown",
   "metadata": {},
   "source": [
    "### 1. Request rate"
   ]
  },
  {
   "cell_type": "code",
   "execution_count": 6,
   "metadata": {
    "collapsed": false
   },
   "outputs": [
    {
     "data": {
      "text/plain": [
       "<matplotlib.axes._subplots.AxesSubplot at 0x7fa4fb5c38d0>"
      ]
     },
     "execution_count": 6,
     "metadata": {},
     "output_type": "execute_result"
    },
    {
     "data": {
      "image/png": "[encoded data removed]",
      "text/plain": [
       "<matplotlib.figure.Figure at 0x7fa4fb5c3250>"
      ]
     },
     "metadata": {},
     "output_type": "display_data"
    }
   ],
   "source": [
    "plot_data.plot('Rate', 'Request rate', ylim=(0, None))"
   ]
  },
  {
   "cell_type": "code",
   "execution_count": 7,
   "metadata": {
    "collapsed": false
   },
   "outputs": [
    {
     "data": {
      "text/plain": [
       "count       50.000000\n",
       "mean      8160.000000\n",
       "std       4664.761516\n",
       "min        320.000000\n",
       "25%       4240.000000\n",
       "50%       8160.000000\n",
       "75%      12080.000000\n",
       "max      16000.000000\n",
       "dtype: float64"
      ]
     },
     "execution_count": 7,
     "metadata": {},
     "output_type": "execute_result"
    }
   ],
   "source": [
    "plot_data['Rate'].describe()"
   ]
  },
  {
   "cell_type": "code",
   "execution_count": 8,
   "metadata": {
    "collapsed": false
   },
   "outputs": [
    {
     "data": {
      "text/plain": [
       "count      50.000000\n",
       "mean     3577.782000\n",
       "std      1239.070605\n",
       "min       319.800000\n",
       "25%      3113.825000\n",
       "50%      3650.450000\n",
       "75%      4670.675000\n",
       "max      5263.600000\n",
       "dtype: float64"
      ]
     },
     "execution_count": 8,
     "metadata": {},
     "output_type": "execute_result"
    }
   ],
   "source": [
    "plot_data['Request rate'].describe()"
   ]
  },
  {
   "cell_type": "markdown",
   "metadata": {},
   "source": [
    "### 2. Response time"
   ]
  },
  {
   "cell_type": "code",
   "execution_count": 9,
   "metadata": {
    "collapsed": false
   },
   "outputs": [
    {
     "data": {
      "text/plain": [
       "<matplotlib.axes._subplots.AxesSubplot at 0x7fa4fb255e10>"
      ]
     },
     "execution_count": 9,
     "metadata": {},
     "output_type": "execute_result"
    },
    {
     "data": {
      "image/png": "[encoded data removed]",
      "text/plain": [
       "<matplotlib.figure.Figure at 0x7fa52c329f90>"
      ]
     },
     "metadata": {},
     "output_type": "display_data"
    }
   ],
   "source": [
    "plot_data.plot('Rate', 'Response time', ylim=(0, None))"
   ]
  },
  {
   "cell_type": "code",
   "execution_count": 10,
   "metadata": {
    "collapsed": false
   },
   "outputs": [
    {
     "data": {
      "text/plain": [
       "count     50.000000\n",
       "mean     159.221625\n",
       "std      137.692285\n",
       "min        3.112500\n",
       "25%       21.656250\n",
       "50%      145.093750\n",
       "75%      289.720312\n",
       "max      370.350000\n",
       "dtype: float64"
      ]
     },
     "execution_count": 10,
     "metadata": {},
     "output_type": "execute_result"
    }
   ],
   "source": [
    "plot_data['Response time'].describe()"
   ]
  },
  {
   "cell_type": "markdown",
   "metadata": {},
   "source": [
    "### 3. Success rate"
   ]
  },
  {
   "cell_type": "code",
   "execution_count": 11,
   "metadata": {
    "collapsed": false
   },
   "outputs": [
    {
     "data": {
      "text/plain": [
       "<matplotlib.axes._subplots.AxesSubplot at 0x7fa4fb39b910>"
      ]
     },
     "execution_count": 11,
     "metadata": {},
     "output_type": "execute_result"
    },
    {
     "data": {
      "image/png": "[encoded data removed]",
      "text/plain": [
       "<matplotlib.figure.Figure at 0x7fa4fb5a0850>"
      ]
     },
     "metadata": {},
     "output_type": "display_data"
    }
   ],
   "source": [
    "plot_data['Success rate'] = (plot_data['Response status 2xx'] + plot_data['Response status 3xx']) / plot_data['Number of requests'] * 100.0\n",
    "plot_data.plot('Rate', 'Success rate', ylim=(0, None))"
   ]
  },
  {
   "cell_type": "code",
   "execution_count": 12,
   "metadata": {
    "collapsed": false
   },
   "outputs": [
    {
     "data": {
      "text/plain": [
       "count     50.000000\n",
       "mean      87.661245\n",
       "std       13.212992\n",
       "min       62.583115\n",
       "25%       77.546331\n",
       "50%       95.334814\n",
       "75%       97.603481\n",
       "max      100.000000\n",
       "dtype: float64"
      ]
     },
     "execution_count": 12,
     "metadata": {},
     "output_type": "execute_result"
    }
   ],
   "source": [
    "plot_data['Success rate'].describe()"
   ]
  },
  {
   "cell_type": "markdown",
   "metadata": {},
   "source": [
    "## Server-side stats"
   ]
  },
  {
   "cell_type": "code",
   "execution_count": 13,
   "metadata": {
    "collapsed": false
   },
   "outputs": [
    {
     "data": {
      "text/html": [
       "<div style=\"max-height:1000px;max-width:1500px;overflow:auto;\">\n",
       "<table border=\"1\" class=\"dataframe\">\n",
       "  <thead>\n",
       "    <tr style=\"text-align: right;\">\n",
       "      <th></th>\n",
       "      <th>Server</th>\n",
       "      <th>Connections</th>\n",
       "      <th>Packets</th>\n",
       "      <th>Bytes (K)</th>\n",
       "      <th>Connections Ratio (%)</th>\n",
       "      <th>Packets Ratio (%)</th>\n",
       "      <th>Bytes Ratio (%)</th>\n",
       "    </tr>\n",
       "  </thead>\n",
       "  <tbody>\n",
       "    <tr>\n",
       "      <th>0</th>\n",
       "      <td> 11.11.11.107:80</td>\n",
       "      <td>  6310</td>\n",
       "      <td>  392181</td>\n",
       "      <td>  25784</td>\n",
       "      <td> 10.195673</td>\n",
       "      <td>  5.950213</td>\n",
       "      <td>  5.847428</td>\n",
       "    </tr>\n",
       "    <tr>\n",
       "      <th>1</th>\n",
       "      <td> 11.11.11.106:80</td>\n",
       "      <td> 18470</td>\n",
       "      <td> 2087675</td>\n",
       "      <td> 139879</td>\n",
       "      <td> 29.843753</td>\n",
       "      <td> 31.674435</td>\n",
       "      <td> 31.722478</td>\n",
       "    </tr>\n",
       "    <tr>\n",
       "      <th>2</th>\n",
       "      <td> 11.11.11.103:80</td>\n",
       "      <td> 19054</td>\n",
       "      <td> 2073998</td>\n",
       "      <td> 138876</td>\n",
       "      <td> 30.787377</td>\n",
       "      <td> 31.466926</td>\n",
       "      <td> 31.495013</td>\n",
       "    </tr>\n",
       "    <tr>\n",
       "      <th>3</th>\n",
       "      <td> 11.11.11.102:80</td>\n",
       "      <td> 18055</td>\n",
       "      <td> 2037187</td>\n",
       "      <td> 136407</td>\n",
       "      <td> 29.173197</td>\n",
       "      <td> 30.908426</td>\n",
       "      <td> 30.935080</td>\n",
       "    </tr>\n",
       "  </tbody>\n",
       "</table>\n",
       "</div>"
      ],
      "text/plain": [
       "            Server  Connections  Packets  Bytes (K)  Connections Ratio (%)  \\\n",
       "0  11.11.11.107:80         6310   392181      25784              10.195673   \n",
       "1  11.11.11.106:80        18470  2087675     139879              29.843753   \n",
       "2  11.11.11.103:80        19054  2073998     138876              30.787377   \n",
       "3  11.11.11.102:80        18055  2037187     136407              29.173197   \n",
       "\n",
       "   Packets Ratio (%)  Bytes Ratio (%)  \n",
       "0           5.950213         5.847428  \n",
       "1          31.674435        31.722478  \n",
       "2          31.466926        31.495013  \n",
       "3          30.908426        30.935080  "
      ]
     },
     "execution_count": 13,
     "metadata": {},
     "output_type": "execute_result"
    }
   ],
   "source": [
    "# read in the stats data\n",
    "stats_data = pd.read_csv(\"./results/\" + run_name + \"/httperf_server_stats.csv\", header=0, na_filter=False)\n",
    "stats_data['Connections Ratio (%)'] = stats_data['Connections'] / sum(stats_data['Connections']) * 100\n",
    "stats_data['Packets Ratio (%)'] = stats_data['Packets'] / sum(stats_data['Packets']) * 100\n",
    "stats_data['Bytes Ratio (%)'] = stats_data['Bytes (K)'] / sum(stats_data['Bytes (K)']) * 100\n",
    "stats_data"
   ]
  },
  {
   "cell_type": "code",
   "execution_count": null,
   "metadata": {
    "collapsed": false
   },
   "outputs": [],
   "source": []
  }
 ],
 "metadata": {
  "kernelspec": {
   "display_name": "Python 2",
   "language": "python",
   "name": "python2"
  },
  "language_info": {
   "codemirror_mode": {
    "name": "ipython",
    "version": 2
   },
   "file_extension": ".py",
   "mimetype": "text/x-python",
   "name": "python",
   "nbconvert_exporter": "python",
   "pygments_lexer": "ipython2",
   "version": "2.7.9"
  }
 },
 "nbformat": 4,
 "nbformat_minor": 0
}
