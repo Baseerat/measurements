{
 "cells": [
  {
   "cell_type": "markdown",
   "metadata": {},
   "source": [
    "## Configurations"
   ]
  },
  {
   "cell_type": "code",
   "execution_count": 1,
   "metadata": {
    "collapsed": false
   },
   "outputs": [],
   "source": [
    "run_name = \"current/httperf_unbalance_wrr_to1\""
   ]
  },
  {
   "cell_type": "code",
   "execution_count": 2,
   "metadata": {
    "collapsed": false
   },
   "outputs": [],
   "source": [
    "import os\n",
    "import glob\n",
    "from functools import reduce"
   ]
  },
  {
   "cell_type": "code",
   "execution_count": 3,
   "metadata": {
    "collapsed": false
   },
   "outputs": [],
   "source": [
    "import pandas as pd\n",
    "import matplotlib.pyplot as plt\n",
    "plt.style.use('ggplot')\n",
    "import seaborn as sns\n",
    "\n",
    "# display plots in the notebook\n",
    "%matplotlib inline\n",
    "\n",
    "# increase default figure and font sizes for easier viewing\n",
    "plt.rcParams['figure.figsize'] = (8, 6)\n",
    "plt.rcParams['font.size'] = 14"
   ]
  },
  {
   "cell_type": "markdown",
   "metadata": {},
   "source": [
    "## Client-side stats"
   ]
  },
  {
   "cell_type": "code",
   "execution_count": 4,
   "metadata": {
    "collapsed": false
   },
   "outputs": [],
   "source": [
    "# read in the data\n",
    "plot_data_list = []\n",
    "\n",
    "for i in glob.glob(\"./results/\" + run_name + \"/httperf_client_*.csv\"):\n",
    "    plot_data_list.append(pd.read_csv(i, header=0, na_filter=False))"
   ]
  },
  {
   "cell_type": "code",
   "execution_count": 5,
   "metadata": {
    "collapsed": false
   },
   "outputs": [
    {
     "data": {
      "text/html": [
       "<div style=\"max-height:1000px;max-width:1500px;overflow:auto;\">\n",
       "<table border=\"1\" class=\"dataframe\">\n",
       "  <thead>\n",
       "    <tr style=\"text-align: right;\">\n",
       "      <th></th>\n",
       "      <th>Rate</th>\n",
       "      <th>Request rate</th>\n",
       "      <th>Number of requests</th>\n",
       "      <th>Response status 1xx</th>\n",
       "      <th>Response status 2xx</th>\n",
       "      <th>Response status 3xx</th>\n",
       "      <th>Response status 4xx</th>\n",
       "      <th>Response status 5xx</th>\n",
       "      <th>Response time</th>\n",
       "    </tr>\n",
       "  </thead>\n",
       "  <tbody>\n",
       "    <tr>\n",
       "      <th>0</th>\n",
       "      <td>  320</td>\n",
       "      <td>  320.0</td>\n",
       "      <td> 32000</td>\n",
       "      <td> 0</td>\n",
       "      <td> 32000</td>\n",
       "      <td> 0</td>\n",
       "      <td> 0</td>\n",
       "      <td> 0</td>\n",
       "      <td>  3.60000</td>\n",
       "    </tr>\n",
       "    <tr>\n",
       "      <th>1</th>\n",
       "      <td>  640</td>\n",
       "      <td>  588.6</td>\n",
       "      <td> 29949</td>\n",
       "      <td> 0</td>\n",
       "      <td> 24731</td>\n",
       "      <td> 0</td>\n",
       "      <td> 0</td>\n",
       "      <td> 0</td>\n",
       "      <td> 47.83125</td>\n",
       "    </tr>\n",
       "    <tr>\n",
       "      <th>2</th>\n",
       "      <td>  960</td>\n",
       "      <td>  882.2</td>\n",
       "      <td> 30750</td>\n",
       "      <td> 0</td>\n",
       "      <td> 27985</td>\n",
       "      <td> 0</td>\n",
       "      <td> 0</td>\n",
       "      <td> 0</td>\n",
       "      <td> 50.85000</td>\n",
       "    </tr>\n",
       "    <tr>\n",
       "      <th>3</th>\n",
       "      <td> 1280</td>\n",
       "      <td> 1222.6</td>\n",
       "      <td> 31851</td>\n",
       "      <td> 0</td>\n",
       "      <td> 31072</td>\n",
       "      <td> 0</td>\n",
       "      <td> 0</td>\n",
       "      <td> 0</td>\n",
       "      <td> 26.20625</td>\n",
       "    </tr>\n",
       "    <tr>\n",
       "      <th>4</th>\n",
       "      <td> 1600</td>\n",
       "      <td> 1469.1</td>\n",
       "      <td> 31620</td>\n",
       "      <td> 0</td>\n",
       "      <td> 30847</td>\n",
       "      <td> 0</td>\n",
       "      <td> 0</td>\n",
       "      <td> 0</td>\n",
       "      <td> 19.35000</td>\n",
       "    </tr>\n",
       "  </tbody>\n",
       "</table>\n",
       "</div>"
      ],
      "text/plain": [
       "   Rate  Request rate  Number of requests  Response status 1xx  \\\n",
       "0   320         320.0               32000                    0   \n",
       "1   640         588.6               29949                    0   \n",
       "2   960         882.2               30750                    0   \n",
       "3  1280        1222.6               31851                    0   \n",
       "4  1600        1469.1               31620                    0   \n",
       "\n",
       "   Response status 2xx  Response status 3xx  Response status 4xx  \\\n",
       "0                32000                    0                    0   \n",
       "1                24731                    0                    0   \n",
       "2                27985                    0                    0   \n",
       "3                31072                    0                    0   \n",
       "4                30847                    0                    0   \n",
       "\n",
       "   Response status 5xx  Response time  \n",
       "0                    0        3.60000  \n",
       "1                    0       47.83125  \n",
       "2                    0       50.85000  \n",
       "3                    0       26.20625  \n",
       "4                    0       19.35000  "
      ]
     },
     "execution_count": 5,
     "metadata": {},
     "output_type": "execute_result"
    }
   ],
   "source": [
    "plot_data = pd.DataFrame()\n",
    "\n",
    "for i in ['Rate', 'Request rate', 'Number of requests',\n",
    "          'Response status 1xx', 'Response status 2xx', 'Response status 3xx', \n",
    "          'Response status 4xx', 'Response status 5xx']:\n",
    "    plot_data[i] = reduce(lambda x, y: x + y, [plot_data_list[j][i] for j in range(len(plot_data_list))])\n",
    "\n",
    "plot_data['Response time'] = reduce(lambda x, y: x + y, [plot_data_list[j]['Response time'] \n",
    "                                                         for j in range(len(plot_data_list))]) / len(plot_data_list)\n",
    "\n",
    "plot_data.head()"
   ]
  },
  {
   "cell_type": "markdown",
   "metadata": {},
   "source": [
    "### 1. Request rate"
   ]
  },
  {
   "cell_type": "code",
   "execution_count": 6,
   "metadata": {
    "collapsed": false
   },
   "outputs": [
    {
     "data": {
      "text/plain": [
       "<matplotlib.axes._subplots.AxesSubplot at 0x7f9e76f6b710>"
      ]
     },
     "execution_count": 6,
     "metadata": {},
     "output_type": "execute_result"
    },
    {
     "data": {
      "image/png": "[encoded data removed]",
      "text/plain": [
       "<matplotlib.figure.Figure at 0x7f9ea84a8e50>"
      ]
     },
     "metadata": {},
     "output_type": "display_data"
    }
   ],
   "source": [
    "plot_data.plot('Rate', 'Request rate', ylim=(0, None))"
   ]
  },
  {
   "cell_type": "code",
   "execution_count": 7,
   "metadata": {
    "collapsed": false
   },
   "outputs": [
    {
     "data": {
      "text/plain": [
       "count       50.000000\n",
       "mean      8160.000000\n",
       "std       4664.761516\n",
       "min        320.000000\n",
       "25%       4240.000000\n",
       "50%       8160.000000\n",
       "75%      12080.000000\n",
       "max      16000.000000\n",
       "dtype: float64"
      ]
     },
     "execution_count": 7,
     "metadata": {},
     "output_type": "execute_result"
    }
   ],
   "source": [
    "plot_data['Rate'].describe()"
   ]
  },
  {
   "cell_type": "code",
   "execution_count": 8,
   "metadata": {
    "collapsed": false
   },
   "outputs": [
    {
     "data": {
      "text/plain": [
       "count      50.000000\n",
       "mean     3375.414000\n",
       "std      1118.606565\n",
       "min       320.000000\n",
       "25%      3040.025000\n",
       "50%      3473.500000\n",
       "75%      4310.450000\n",
       "max      4853.400000\n",
       "dtype: float64"
      ]
     },
     "execution_count": 8,
     "metadata": {},
     "output_type": "execute_result"
    }
   ],
   "source": [
    "plot_data['Request rate'].describe()"
   ]
  },
  {
   "cell_type": "markdown",
   "metadata": {},
   "source": [
    "### 2. Response time"
   ]
  },
  {
   "cell_type": "code",
   "execution_count": 9,
   "metadata": {
    "collapsed": false
   },
   "outputs": [
    {
     "data": {
      "text/plain": [
       "<matplotlib.axes._subplots.AxesSubplot at 0x7f9e76bfe610>"
      ]
     },
     "execution_count": 9,
     "metadata": {},
     "output_type": "execute_result"
    },
    {
     "data": {
      "image/png": "[encoded data removed]",
      "text/plain": [
       "<matplotlib.figure.Figure at 0x7f9e76f6b310>"
      ]
     },
     "metadata": {},
     "output_type": "display_data"
    }
   ],
   "source": [
    "plot_data.plot('Rate', 'Response time', ylim=(0, None))"
   ]
  },
  {
   "cell_type": "code",
   "execution_count": 10,
   "metadata": {
    "collapsed": false
   },
   "outputs": [
    {
     "data": {
      "text/plain": [
       "count     50.000000\n",
       "mean     156.866000\n",
       "std      130.801810\n",
       "min        3.600000\n",
       "25%       30.953125\n",
       "50%      153.528125\n",
       "75%      273.975000\n",
       "max      374.831250\n",
       "dtype: float64"
      ]
     },
     "execution_count": 10,
     "metadata": {},
     "output_type": "execute_result"
    }
   ],
   "source": [
    "plot_data['Response time'].describe()"
   ]
  },
  {
   "cell_type": "markdown",
   "metadata": {},
   "source": [
    "### 3. Success rate"
   ]
  },
  {
   "cell_type": "code",
   "execution_count": 11,
   "metadata": {
    "collapsed": false
   },
   "outputs": [
    {
     "data": {
      "text/plain": [
       "<matplotlib.axes._subplots.AxesSubplot at 0x7f9e76dce3d0>"
      ]
     },
     "execution_count": 11,
     "metadata": {},
     "output_type": "execute_result"
    },
    {
     "data": {
      "image/png": "[encoded data removed]",
      "text/plain": [
       "<matplotlib.figure.Figure at 0x7f9e76d3f1d0>"
      ]
     },
     "metadata": {},
     "output_type": "display_data"
    }
   ],
   "source": [
    "plot_data['Success rate'] = (plot_data['Response status 2xx'] + plot_data['Response status 3xx']) / plot_data['Number of requests'] * 100.0\n",
    "plot_data.plot('Rate', 'Success rate', ylim=(0, None))"
   ]
  },
  {
   "cell_type": "code",
   "execution_count": 12,
   "metadata": {
    "collapsed": false
   },
   "outputs": [
    {
     "data": {
      "text/plain": [
       "count     50.000000\n",
       "mean      88.029359\n",
       "std       11.818414\n",
       "min       60.912362\n",
       "25%       82.258964\n",
       "50%       93.210461\n",
       "75%       96.818341\n",
       "max      100.000000\n",
       "dtype: float64"
      ]
     },
     "execution_count": 12,
     "metadata": {},
     "output_type": "execute_result"
    }
   ],
   "source": [
    "plot_data['Success rate'].describe()"
   ]
  },
  {
   "cell_type": "markdown",
   "metadata": {},
   "source": [
    "## Server-side stats"
   ]
  },
  {
   "cell_type": "code",
   "execution_count": 13,
   "metadata": {
    "collapsed": false
   },
   "outputs": [
    {
     "data": {
      "text/html": [
       "<div style=\"max-height:1000px;max-width:1500px;overflow:auto;\">\n",
       "<table border=\"1\" class=\"dataframe\">\n",
       "  <thead>\n",
       "    <tr style=\"text-align: right;\">\n",
       "      <th></th>\n",
       "      <th>Server</th>\n",
       "      <th>Connections</th>\n",
       "      <th>Packets</th>\n",
       "      <th>Bytes (K)</th>\n",
       "      <th>Connections Ratio (%)</th>\n",
       "      <th>Packets Ratio (%)</th>\n",
       "      <th>Bytes Ratio (%)</th>\n",
       "    </tr>\n",
       "  </thead>\n",
       "  <tbody>\n",
       "    <tr>\n",
       "      <th>0</th>\n",
       "      <td> 11.11.11.107:80</td>\n",
       "      <td> 17198</td>\n",
       "      <td>  581465</td>\n",
       "      <td>  38936</td>\n",
       "      <td> 25</td>\n",
       "      <td>  8.902505</td>\n",
       "      <td>  8.912573</td>\n",
       "    </tr>\n",
       "    <tr>\n",
       "      <th>1</th>\n",
       "      <td> 11.11.11.106:80</td>\n",
       "      <td> 17198</td>\n",
       "      <td> 1994179</td>\n",
       "      <td> 133534</td>\n",
       "      <td> 25</td>\n",
       "      <td> 30.531828</td>\n",
       "      <td> 30.566352</td>\n",
       "    </tr>\n",
       "    <tr>\n",
       "      <th>2</th>\n",
       "      <td> 11.11.11.103:80</td>\n",
       "      <td> 17198</td>\n",
       "      <td> 1996969</td>\n",
       "      <td> 133494</td>\n",
       "      <td> 25</td>\n",
       "      <td> 30.574544</td>\n",
       "      <td> 30.557196</td>\n",
       "    </tr>\n",
       "    <tr>\n",
       "      <th>3</th>\n",
       "      <td> 11.11.11.102:80</td>\n",
       "      <td> 17198</td>\n",
       "      <td> 1958863</td>\n",
       "      <td> 130902</td>\n",
       "      <td> 25</td>\n",
       "      <td> 29.991123</td>\n",
       "      <td> 29.963879</td>\n",
       "    </tr>\n",
       "  </tbody>\n",
       "</table>\n",
       "</div>"
      ],
      "text/plain": [
       "            Server  Connections  Packets  Bytes (K)  Connections Ratio (%)  \\\n",
       "0  11.11.11.107:80        17198   581465      38936                     25   \n",
       "1  11.11.11.106:80        17198  1994179     133534                     25   \n",
       "2  11.11.11.103:80        17198  1996969     133494                     25   \n",
       "3  11.11.11.102:80        17198  1958863     130902                     25   \n",
       "\n",
       "   Packets Ratio (%)  Bytes Ratio (%)  \n",
       "0           8.902505         8.912573  \n",
       "1          30.531828        30.566352  \n",
       "2          30.574544        30.557196  \n",
       "3          29.991123        29.963879  "
      ]
     },
     "execution_count": 13,
     "metadata": {},
     "output_type": "execute_result"
    }
   ],
   "source": [
    "# read in the stats data\n",
    "stats_data = pd.read_csv(\"./results/\" + run_name + \"/httperf_server_stats.csv\", header=0, na_filter=False)\n",
    "stats_data['Connections Ratio (%)'] = stats_data['Connections'] / sum(stats_data['Connections']) * 100\n",
    "stats_data['Packets Ratio (%)'] = stats_data['Packets'] / sum(stats_data['Packets']) * 100\n",
    "stats_data['Bytes Ratio (%)'] = stats_data['Bytes (K)'] / sum(stats_data['Bytes (K)']) * 100\n",
    "stats_data"
   ]
  },
  {
   "cell_type": "code",
   "execution_count": null,
   "metadata": {
    "collapsed": false
   },
   "outputs": [],
   "source": []
  }
 ],
 "metadata": {
  "kernelspec": {
   "display_name": "Python 2",
   "language": "python",
   "name": "python2"
  },
  "language_info": {
   "codemirror_mode": {
    "name": "ipython",
    "version": 2
   },
   "file_extension": ".py",
   "mimetype": "text/x-python",
   "name": "python",
   "nbconvert_exporter": "python",
   "pygments_lexer": "ipython2",
   "version": "2.7.9"
  }
 },
 "nbformat": 4,
 "nbformat_minor": 0
}
