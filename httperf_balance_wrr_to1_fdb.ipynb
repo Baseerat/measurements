{
 "cells": [
  {
   "cell_type": "markdown",
   "metadata": {},
   "source": [
    "## Configurations"
   ]
  },
  {
   "cell_type": "code",
   "execution_count": 1,
   "metadata": {
    "collapsed": false
   },
   "outputs": [],
   "source": [
    "run_name = \"current/httperf_balance_wrr_to1_fdb\""
   ]
  },
  {
   "cell_type": "code",
   "execution_count": 2,
   "metadata": {
    "collapsed": false
   },
   "outputs": [],
   "source": [
    "import os\n",
    "import glob\n",
    "from functools import reduce"
   ]
  },
  {
   "cell_type": "code",
   "execution_count": 3,
   "metadata": {
    "collapsed": false
   },
   "outputs": [],
   "source": [
    "import pandas as pd\n",
    "import matplotlib.pyplot as plt\n",
    "plt.style.use('ggplot')\n",
    "import seaborn as sns\n",
    "\n",
    "# display plots in the notebook\n",
    "%matplotlib inline\n",
    "\n",
    "# increase default figure and font sizes for easier viewing\n",
    "plt.rcParams['figure.figsize'] = (8, 6)\n",
    "plt.rcParams['font.size'] = 14"
   ]
  },
  {
   "cell_type": "markdown",
   "metadata": {},
   "source": [
    "## Client-side stats"
   ]
  },
  {
   "cell_type": "code",
   "execution_count": 4,
   "metadata": {
    "collapsed": false
   },
   "outputs": [],
   "source": [
    "# read in the data\n",
    "plot_data_list = []\n",
    "\n",
    "for i in glob.glob(\"./results/\" + run_name + \"/httperf_client_*.csv\"):\n",
    "    plot_data_list.append(pd.read_csv(i, header=0, na_filter=False))"
   ]
  },
  {
   "cell_type": "code",
   "execution_count": 5,
   "metadata": {
    "collapsed": false
   },
   "outputs": [
    {
     "data": {
      "text/html": [
       "<div style=\"max-height:1000px;max-width:1500px;overflow:auto;\">\n",
       "<table border=\"1\" class=\"dataframe\">\n",
       "  <thead>\n",
       "    <tr style=\"text-align: right;\">\n",
       "      <th></th>\n",
       "      <th>Rate</th>\n",
       "      <th>Request rate</th>\n",
       "      <th>Number of requests</th>\n",
       "      <th>Response status 1xx</th>\n",
       "      <th>Response status 2xx</th>\n",
       "      <th>Response status 3xx</th>\n",
       "      <th>Response status 4xx</th>\n",
       "      <th>Response status 5xx</th>\n",
       "      <th>Response time</th>\n",
       "    </tr>\n",
       "  </thead>\n",
       "  <tbody>\n",
       "    <tr>\n",
       "      <th>0</th>\n",
       "      <td>  320</td>\n",
       "      <td>  320</td>\n",
       "      <td> 32000</td>\n",
       "      <td> 0</td>\n",
       "      <td> 32000</td>\n",
       "      <td> 0</td>\n",
       "      <td> 0</td>\n",
       "      <td> 0</td>\n",
       "      <td> 1.20625</td>\n",
       "    </tr>\n",
       "    <tr>\n",
       "      <th>1</th>\n",
       "      <td>  640</td>\n",
       "      <td>  640</td>\n",
       "      <td> 32000</td>\n",
       "      <td> 0</td>\n",
       "      <td> 32000</td>\n",
       "      <td> 0</td>\n",
       "      <td> 0</td>\n",
       "      <td> 0</td>\n",
       "      <td> 1.33750</td>\n",
       "    </tr>\n",
       "    <tr>\n",
       "      <th>2</th>\n",
       "      <td>  960</td>\n",
       "      <td>  960</td>\n",
       "      <td> 32000</td>\n",
       "      <td> 0</td>\n",
       "      <td> 32000</td>\n",
       "      <td> 0</td>\n",
       "      <td> 0</td>\n",
       "      <td> 0</td>\n",
       "      <td> 1.97500</td>\n",
       "    </tr>\n",
       "    <tr>\n",
       "      <th>3</th>\n",
       "      <td> 1280</td>\n",
       "      <td> 1280</td>\n",
       "      <td> 32000</td>\n",
       "      <td> 0</td>\n",
       "      <td> 32000</td>\n",
       "      <td> 0</td>\n",
       "      <td> 0</td>\n",
       "      <td> 0</td>\n",
       "      <td> 2.80000</td>\n",
       "    </tr>\n",
       "    <tr>\n",
       "      <th>4</th>\n",
       "      <td> 1600</td>\n",
       "      <td> 1600</td>\n",
       "      <td> 32000</td>\n",
       "      <td> 0</td>\n",
       "      <td> 32000</td>\n",
       "      <td> 0</td>\n",
       "      <td> 0</td>\n",
       "      <td> 0</td>\n",
       "      <td> 3.26875</td>\n",
       "    </tr>\n",
       "  </tbody>\n",
       "</table>\n",
       "</div>"
      ],
      "text/plain": [
       "   Rate  Request rate  Number of requests  Response status 1xx  \\\n",
       "0   320           320               32000                    0   \n",
       "1   640           640               32000                    0   \n",
       "2   960           960               32000                    0   \n",
       "3  1280          1280               32000                    0   \n",
       "4  1600          1600               32000                    0   \n",
       "\n",
       "   Response status 2xx  Response status 3xx  Response status 4xx  \\\n",
       "0                32000                    0                    0   \n",
       "1                32000                    0                    0   \n",
       "2                32000                    0                    0   \n",
       "3                32000                    0                    0   \n",
       "4                32000                    0                    0   \n",
       "\n",
       "   Response status 5xx  Response time  \n",
       "0                    0        1.20625  \n",
       "1                    0        1.33750  \n",
       "2                    0        1.97500  \n",
       "3                    0        2.80000  \n",
       "4                    0        3.26875  "
      ]
     },
     "execution_count": 5,
     "metadata": {},
     "output_type": "execute_result"
    }
   ],
   "source": [
    "plot_data = pd.DataFrame()\n",
    "\n",
    "for i in ['Rate', 'Request rate', 'Number of requests',\n",
    "          'Response status 1xx', 'Response status 2xx', 'Response status 3xx', \n",
    "          'Response status 4xx', 'Response status 5xx']:\n",
    "    plot_data[i] = reduce(lambda x, y: x + y, [plot_data_list[j][i] for j in range(len(plot_data_list))])\n",
    "\n",
    "plot_data['Response time'] = reduce(lambda x, y: x + y, [plot_data_list[j]['Response time'] \n",
    "                                                         for j in range(len(plot_data_list))]) / len(plot_data_list)\n",
    "\n",
    "plot_data.head()"
   ]
  },
  {
   "cell_type": "markdown",
   "metadata": {},
   "source": [
    "### 1. Request rate"
   ]
  },
  {
   "cell_type": "code",
   "execution_count": 6,
   "metadata": {
    "collapsed": false
   },
   "outputs": [
    {
     "data": {
      "text/plain": [
       "<matplotlib.axes._subplots.AxesSubplot at 0x7fba91adf950>"
      ]
     },
     "execution_count": 6,
     "metadata": {},
     "output_type": "execute_result"
    },
    {
     "data": {
      "image/png": "[encoded data removed]",
      "text/plain": [
       "<matplotlib.figure.Figure at 0x7fba91abd950>"
      ]
     },
     "metadata": {},
     "output_type": "display_data"
    }
   ],
   "source": [
    "plot_data.plot('Rate', 'Request rate', ylim=(0, None))"
   ]
  },
  {
   "cell_type": "code",
   "execution_count": 7,
   "metadata": {
    "collapsed": false
   },
   "outputs": [
    {
     "data": {
      "text/plain": [
       "count       50.000000\n",
       "mean      8160.000000\n",
       "std       4664.761516\n",
       "min        320.000000\n",
       "25%       4240.000000\n",
       "50%       8160.000000\n",
       "75%      12080.000000\n",
       "max      16000.000000\n",
       "dtype: float64"
      ]
     },
     "execution_count": 7,
     "metadata": {},
     "output_type": "execute_result"
    }
   ],
   "source": [
    "plot_data['Rate'].describe()"
   ]
  },
  {
   "cell_type": "code",
   "execution_count": 8,
   "metadata": {
    "collapsed": false
   },
   "outputs": [
    {
     "data": {
      "text/plain": [
       "count      50.000000\n",
       "mean     3342.318000\n",
       "std      1088.639806\n",
       "min       320.000000\n",
       "25%      2896.725000\n",
       "50%      3567.150000\n",
       "75%      3787.825000\n",
       "max      5658.300000\n",
       "dtype: float64"
      ]
     },
     "execution_count": 8,
     "metadata": {},
     "output_type": "execute_result"
    }
   ],
   "source": [
    "plot_data['Request rate'].describe()"
   ]
  },
  {
   "cell_type": "markdown",
   "metadata": {},
   "source": [
    "### 2. Response time"
   ]
  },
  {
   "cell_type": "code",
   "execution_count": 9,
   "metadata": {
    "collapsed": false
   },
   "outputs": [
    {
     "data": {
      "text/plain": [
       "<matplotlib.axes._subplots.AxesSubplot at 0x7fba91771c10>"
      ]
     },
     "execution_count": 9,
     "metadata": {},
     "output_type": "execute_result"
    },
    {
     "data": {
      "image/png": "[encoded data removed]",
      "text/plain": [
       "<matplotlib.figure.Figure at 0x7fba91adf310>"
      ]
     },
     "metadata": {},
     "output_type": "display_data"
    }
   ],
   "source": [
    "plot_data.plot('Rate', 'Response time', ylim=(0, None))"
   ]
  },
  {
   "cell_type": "code",
   "execution_count": 10,
   "metadata": {
    "collapsed": false
   },
   "outputs": [
    {
     "data": {
      "text/plain": [
       "count     50.000000\n",
       "mean     178.858875\n",
       "std      139.148703\n",
       "min        1.206250\n",
       "25%        7.440625\n",
       "50%      237.231250\n",
       "75%      286.506250\n",
       "max      381.200000\n",
       "dtype: float64"
      ]
     },
     "execution_count": 10,
     "metadata": {},
     "output_type": "execute_result"
    }
   ],
   "source": [
    "plot_data['Response time'].describe()"
   ]
  },
  {
   "cell_type": "markdown",
   "metadata": {},
   "source": [
    "### 3. Success rate"
   ]
  },
  {
   "cell_type": "code",
   "execution_count": 11,
   "metadata": {
    "collapsed": false
   },
   "outputs": [
    {
     "data": {
      "text/plain": [
       "<matplotlib.axes._subplots.AxesSubplot at 0x7fba918b83d0>"
      ]
     },
     "execution_count": 11,
     "metadata": {},
     "output_type": "execute_result"
    },
    {
     "data": {
      "image/png": "[encoded data removed]",
      "text/plain": [
       "<matplotlib.figure.Figure at 0x7fba9186e190>"
      ]
     },
     "metadata": {},
     "output_type": "display_data"
    }
   ],
   "source": [
    "plot_data['Success rate'] = (plot_data['Response status 2xx'] + plot_data['Response status 3xx']) / plot_data['Number of requests'] * 100.0\n",
    "plot_data.plot('Rate', 'Success rate', ylim=(0, None))"
   ]
  },
  {
   "cell_type": "code",
   "execution_count": 12,
   "metadata": {
    "collapsed": false
   },
   "outputs": [
    {
     "data": {
      "text/plain": [
       "count     50.000000\n",
       "mean      87.498166\n",
       "std       12.653779\n",
       "min       59.794872\n",
       "25%       79.891117\n",
       "50%       89.342376\n",
       "75%      100.000000\n",
       "max      100.000000\n",
       "dtype: float64"
      ]
     },
     "execution_count": 12,
     "metadata": {},
     "output_type": "execute_result"
    }
   ],
   "source": [
    "plot_data['Success rate'].describe()"
   ]
  },
  {
   "cell_type": "markdown",
   "metadata": {},
   "source": [
    "## Server-side stats"
   ]
  },
  {
   "cell_type": "code",
   "execution_count": 13,
   "metadata": {
    "collapsed": false
   },
   "outputs": [
    {
     "data": {
      "text/html": [
       "<div style=\"max-height:1000px;max-width:1500px;overflow:auto;\">\n",
       "<table border=\"1\" class=\"dataframe\">\n",
       "  <thead>\n",
       "    <tr style=\"text-align: right;\">\n",
       "      <th></th>\n",
       "      <th>Server</th>\n",
       "      <th>Connections</th>\n",
       "      <th>Packets</th>\n",
       "      <th>Bytes (K)</th>\n",
       "      <th>Connections Ratio (%)</th>\n",
       "      <th>Packets Ratio (%)</th>\n",
       "      <th>Bytes Ratio (%)</th>\n",
       "    </tr>\n",
       "  </thead>\n",
       "  <tbody>\n",
       "    <tr>\n",
       "      <th>0</th>\n",
       "      <td> 11.11.11.107:80</td>\n",
       "      <td> 13901</td>\n",
       "      <td> 1580522</td>\n",
       "      <td> 105206</td>\n",
       "      <td> 24.972155</td>\n",
       "      <td> 25.309357</td>\n",
       "      <td> 25.327286</td>\n",
       "    </tr>\n",
       "    <tr>\n",
       "      <th>1</th>\n",
       "      <td> 11.11.11.106:80</td>\n",
       "      <td> 13958</td>\n",
       "      <td> 1566814</td>\n",
       "      <td> 104227</td>\n",
       "      <td> 25.074552</td>\n",
       "      <td> 25.089847</td>\n",
       "      <td> 25.091602</td>\n",
       "    </tr>\n",
       "    <tr>\n",
       "      <th>2</th>\n",
       "      <td> 11.11.11.103:80</td>\n",
       "      <td> 14061</td>\n",
       "      <td> 1572847</td>\n",
       "      <td> 104710</td>\n",
       "      <td> 25.259584</td>\n",
       "      <td> 25.186455</td>\n",
       "      <td> 25.207879</td>\n",
       "    </tr>\n",
       "    <tr>\n",
       "      <th>3</th>\n",
       "      <td> 11.11.11.102:80</td>\n",
       "      <td> 13746</td>\n",
       "      <td> 1524630</td>\n",
       "      <td> 101243</td>\n",
       "      <td> 24.693709</td>\n",
       "      <td> 24.414342</td>\n",
       "      <td> 24.373234</td>\n",
       "    </tr>\n",
       "  </tbody>\n",
       "</table>\n",
       "</div>"
      ],
      "text/plain": [
       "            Server  Connections  Packets  Bytes (K)  Connections Ratio (%)  \\\n",
       "0  11.11.11.107:80        13901  1580522     105206              24.972155   \n",
       "1  11.11.11.106:80        13958  1566814     104227              25.074552   \n",
       "2  11.11.11.103:80        14061  1572847     104710              25.259584   \n",
       "3  11.11.11.102:80        13746  1524630     101243              24.693709   \n",
       "\n",
       "   Packets Ratio (%)  Bytes Ratio (%)  \n",
       "0          25.309357        25.327286  \n",
       "1          25.089847        25.091602  \n",
       "2          25.186455        25.207879  \n",
       "3          24.414342        24.373234  "
      ]
     },
     "execution_count": 13,
     "metadata": {},
     "output_type": "execute_result"
    }
   ],
   "source": [
    "# read in the stats data\n",
    "stats_data = pd.read_csv(\"./results/\" + run_name + \"/httperf_server_stats.csv\", header=0, na_filter=False)\n",
    "stats_data['Connections Ratio (%)'] = stats_data['Connections'] / sum(stats_data['Connections']) * 100\n",
    "stats_data['Packets Ratio (%)'] = stats_data['Packets'] / sum(stats_data['Packets']) * 100\n",
    "stats_data['Bytes Ratio (%)'] = stats_data['Bytes (K)'] / sum(stats_data['Bytes (K)']) * 100\n",
    "stats_data"
   ]
  },
  {
   "cell_type": "code",
   "execution_count": null,
   "metadata": {
    "collapsed": false
   },
   "outputs": [],
   "source": []
  }
 ],
 "metadata": {
  "kernelspec": {
   "display_name": "Python 2",
   "language": "python",
   "name": "python2"
  },
  "language_info": {
   "codemirror_mode": {
    "name": "ipython",
    "version": 2
   },
   "file_extension": ".py",
   "mimetype": "text/x-python",
   "name": "python",
   "nbconvert_exporter": "python",
   "pygments_lexer": "ipython2",
   "version": "2.7.9"
  }
 },
 "nbformat": 4,
 "nbformat_minor": 0
}
